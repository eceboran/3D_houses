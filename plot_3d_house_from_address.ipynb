{
 "cells": [
  {
   "cell_type": "code",
   "execution_count": 2,
   "id": "1dde9318",
   "metadata": {},
   "outputs": [],
   "source": [
    "# Import necessary libraries\n",
    "import requests as req"
   ]
  },
  {
   "cell_type": "code",
   "execution_count": 35,
   "id": "dddfba31",
   "metadata": {},
   "outputs": [
    {
     "name": "stdout",
     "output_type": "stream",
     "text": [
      "['Elzendreef 14, 2910 Essen']\n",
      "True\n",
      "Elzendreef 14, 2910 Essen\n",
      "{'LocationResult': [{'Municipality': 'Essen', 'Zipcode': '2910', 'Thoroughfarename': 'Elzendreef', 'Housenumber': '14', 'ID': 1219931, 'FormattedAddress': 'Elzendreef 14, 2910 Essen', 'Location': {'Lat_WGS84': 51.45553140760153, 'Lon_WGS84': 4.439196884648804, 'X_Lambert72': 154896.23, 'Y_Lambert72': 238435.79}, 'LocationType': 'crab_huisnummer_afgeleidVanGebouw', 'BoundingBox': {'LowerLeft': {'Lat_WGS84': 51.45553140760153, 'Lon_WGS84': 4.439196884648804, 'X_Lambert72': 154896.23, 'Y_Lambert72': 238435.79}, 'UpperRight': {'Lat_WGS84': 51.45553140760153, 'Lon_WGS84': 4.439196884648804, 'X_Lambert72': 154896.23, 'Y_Lambert72': 238435.79}}}]}\n"
     ]
    }
   ],
   "source": [
    "class Address:\n",
    "    \"\"\"\n",
    "    A class to represent an address in Flanders\n",
    "    ...\n",
    "    Attributes\n",
    "    ----------\n",
    "    input_address : str\n",
    "        input address from the user\n",
    " \n",
    "    Methods\n",
    "    -------\n",
    "    verify_address(address: str)\n",
    "        Checks if a given address is a valid address in Flanders\n",
    "        Makes suggestions for incomplete addresses\n",
    "    \"\"\"\n",
    "\n",
    "    def __init__(self, input_address: str):\n",
    "        \"\"\"\n",
    "        Initializes an instance of the class Address\n",
    "        :param input_address: input address from the user\n",
    "        \"\"\"\n",
    "        # Assign attribute icon\n",
    "        self.input_address = input_address\n",
    "        \n",
    "        # Verify the address\n",
    "        self.valid_address_conditional, self.suggestions = self.verify_address(self.input_address)\n",
    "        \n",
    "        # For a valid address, get the location\n",
    "        if self.valid_address_conditional:\n",
    "            self.address_info = self.get_address_location(self.input_address)\n",
    "        else:\n",
    "            self.address_info = ''\n",
    "            \n",
    "        \n",
    "    def __str__(self):\n",
    "        \"\"\"\n",
    "        Prints the address\n",
    "        \"\"\"\n",
    "        return f\"{self.address} symbol ({self.color})\"\n",
    "\n",
    "    @staticmethod\n",
    "    def verify_address(address: str):\n",
    "        \"\"\"\n",
    "        Verifies whether an address is in Flanders\n",
    "        Makes suggestions for incomplete addresses\n",
    "        :param address: A string representing an address\n",
    "        :return: Suggestions for addresses\n",
    "        \"\"\"\n",
    "        # API request from Geopunt Flanders\n",
    "        no_suggestions = 10\n",
    "        url = f\"https://loc.geopunt.be/v4/Suggestion?q={address}&c={no_suggestions}\"\n",
    "        # Get the address suggestions\n",
    "        suggestions = req.get(url).json()\n",
    "        print(suggestions['SuggestionResult'])\n",
    "        valid_address_conditional = len(suggestions['SuggestionResult']) == 1\n",
    "        print(valid_address_conditional)\n",
    "        \n",
    "        return valid_address_conditional, suggestions\n",
    "    \n",
    "    @staticmethod\n",
    "    def get_address_location(address: str):\n",
    "        \"\"\"\n",
    "        Gets the location and formatted address for an address in Flanders\n",
    "        :param input_address: A string representing an address\n",
    "        :return: Suggestions for addresses\n",
    "        \"\"\"\n",
    "        # API request from Geopunt Flanders\n",
    "        print(address)\n",
    "        no_suggestions = 1\n",
    "        url = f\"https://loc.geopunt.be/v4/Location?q={address}&c={no_suggestions}\"\n",
    "        # Get the address suggestions\n",
    "        address_info = req.get(url).json()\n",
    "        \n",
    "        return address_info\n",
    "         \n",
    "    # Run rest of the functions only if self.valid_address_conditional = True\n",
    "\n",
    "\n",
    "input_address = 'Hofstraat 37, 2910 Essen'\n",
    "input_address = 'Elzendreef 14, 2910 Essen'\n",
    "#input_address = 'Elzendreef 14'\n",
    "\n",
    "no_alternatives = 10\n",
    "\n",
    "my_address = Address(input_address)\n",
    "address_info = my_address.address_info\n",
    "print(address_info)\n"
   ]
  },
  {
   "cell_type": "code",
   "execution_count": 38,
   "id": "fe2b0bf5",
   "metadata": {},
   "outputs": [
    {
     "data": {
      "text/plain": [
       "[{'Municipality': 'Essen',\n",
       "  'Zipcode': '2910',\n",
       "  'Thoroughfarename': 'Elzendreef',\n",
       "  'Housenumber': '14',\n",
       "  'ID': 1219931,\n",
       "  'FormattedAddress': 'Elzendreef 14, 2910 Essen',\n",
       "  'Location': {'Lat_WGS84': 51.45553140760153,\n",
       "   'Lon_WGS84': 4.439196884648804,\n",
       "   'X_Lambert72': 154896.23,\n",
       "   'Y_Lambert72': 238435.79},\n",
       "  'LocationType': 'crab_huisnummer_afgeleidVanGebouw',\n",
       "  'BoundingBox': {'LowerLeft': {'Lat_WGS84': 51.45553140760153,\n",
       "    'Lon_WGS84': 4.439196884648804,\n",
       "    'X_Lambert72': 154896.23,\n",
       "    'Y_Lambert72': 238435.79},\n",
       "   'UpperRight': {'Lat_WGS84': 51.45553140760153,\n",
       "    'Lon_WGS84': 4.439196884648804,\n",
       "    'X_Lambert72': 154896.23,\n",
       "    'Y_Lambert72': 238435.79}}}]"
      ]
     },
     "execution_count": 38,
     "metadata": {},
     "output_type": "execute_result"
    }
   ],
   "source": [
    "address_info['LocationResult']"
   ]
  },
  {
   "cell_type": "code",
   "execution_count": null,
   "id": "3349c7f1",
   "metadata": {},
   "outputs": [],
   "source": [
    "address = \"Kouter 10, 9000 Gent\"\n",
    "address = \"Sint-Antoniusplein 19, 2910 Essen\"\n",
    "# address = \"Limburgstraat 14, 9000 Gent\"\n",
    "address = \"Hofstraat 37, 2910 Essen\"\n",
    "address = \"Elzendreef 14, 2910 Essen\"\n",
    "\n",
    "req = req.get(f\"https://loc.geopunt.be/v4/Location?q={address}\").json()\n",
    "info = {'address' : address, \n",
    "        'x_value' : req['LocationResult'][0]['Location']['X_Lambert72'],\n",
    "        'y_value' : req['LocationResult'][0]['Location']['Y_Lambert72'],\n",
    "        'street' : req['LocationResult'][0]['Thoroughfarename'],\n",
    "        'house_number' : req['LocationResult'][0]['Housenumber'], \n",
    "        'postcode': req['LocationResult'][0]['Zipcode'], \n",
    "        'municipality' : req['LocationResult'][0]['Municipality']}\n",
    "    \n",
    "detail = req.get(\"https://api.basisregisters.vlaanderen.be/v1/adresmatch\",\n",
    "                      params={\"postcode\": info['postcode'], \n",
    "                      \"straatnaam\": info['street'],\n",
    "                      \"huisnummer\": info['house_number']}).json()\n",
    "building = req.get(detail['adresMatches'][0]['adresseerbareObjecten'][0]['detail']).json()\n",
    "build = req.get(building['gebouw']['detail']).json()\n",
    "info['polygon'] = [build['geometriePolygoon']['polygon']]\n"
   ]
  },
  {
   "cell_type": "code",
   "execution_count": null,
   "id": "88b375a5",
   "metadata": {},
   "outputs": [],
   "source": [
    "# Plot polygon\n",
    "poly_building = info['polygon'][0]['coordinates'][0]\n",
    "poly_building"
   ]
  },
  {
   "cell_type": "code",
   "execution_count": null,
   "id": "ecc6e9e3",
   "metadata": {},
   "outputs": [],
   "source": [
    "geom.Polygon(poly_building)"
   ]
  },
  {
   "cell_type": "code",
   "execution_count": null,
   "id": "47ac4b68",
   "metadata": {},
   "outputs": [],
   "source": []
  },
  {
   "cell_type": "code",
   "execution_count": null,
   "id": "8042131a",
   "metadata": {},
   "outputs": [],
   "source": []
  }
 ],
 "metadata": {
  "kernelspec": {
   "display_name": "Python 3 (ipykernel)",
   "language": "python",
   "name": "python3"
  },
  "language_info": {
   "codemirror_mode": {
    "name": "ipython",
    "version": 3
   },
   "file_extension": ".py",
   "mimetype": "text/x-python",
   "name": "python",
   "nbconvert_exporter": "python",
   "pygments_lexer": "ipython3",
   "version": "3.7.11"
  }
 },
 "nbformat": 4,
 "nbformat_minor": 5
}
