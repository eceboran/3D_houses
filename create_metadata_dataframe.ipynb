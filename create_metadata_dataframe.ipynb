{
 "cells": [
  {
   "cell_type": "code",
   "execution_count": 5,
   "id": "419b2ad4",
   "metadata": {},
   "outputs": [],
   "source": [
    "import requests\n",
    "from bs4 import BeautifulSoup\n",
    "import re\n",
    "import rasterio\n",
    "import pandas as pd\n",
    "import timeit\n"
   ]
  },
  {
   "cell_type": "code",
   "execution_count": 6,
   "id": "ee30a727",
   "metadata": {},
   "outputs": [
    {
     "data": {
      "text/plain": [
       "{'DSM': 'https://www.geopunt.be/download?container=dhm-vlaanderen-ii-dsm-raster-1m&title=Digitaal%20Hoogtemodel%20Vlaanderen%20II,%20DSM,%20raster,%201m',\n",
       " 'DTM': 'https://www.geopunt.be/download?container=dhm-vlaanderen-ii-dtm-raster-1m&title=Digitaal%20Hoogtemodel%20Vlaanderen%20II,%20DTM,%20raster,%201m'}"
      ]
     },
     "execution_count": 6,
     "metadata": {},
     "output_type": "execute_result"
    }
   ],
   "source": [
    "# URLs of \n",
    "dataset_url = {}\n",
    "dataset_url[\"DSM\"] = \"https://www.geopunt.be/download?container=dhm-vlaanderen-ii-dsm-raster-1m&title=Digitaal%20Hoogtemodel%20Vlaanderen%20II,%20DSM,%20raster,%201m\"\n",
    "dataset_url[\"DTM\"] = \"https://www.geopunt.be/download?container=dhm-vlaanderen-ii-dtm-raster-1m&title=Digitaal%20Hoogtemodel%20Vlaanderen%20II,%20DTM,%20raster,%201m\"\n",
    "\n",
    "dataset_url"
   ]
  },
  {
   "cell_type": "code",
   "execution_count": 7,
   "id": "15e393f1",
   "metadata": {},
   "outputs": [
    {
     "name": "stdout",
     "output_type": "stream",
     "text": [
      "DSM\n",
      "DTM\n"
     ]
    }
   ],
   "source": [
    "for data_type in dataset_url.keys():\n",
    "    print(data_type)"
   ]
  },
  {
   "cell_type": "code",
   "execution_count": 10,
   "id": "2289d510",
   "metadata": {},
   "outputs": [
    {
     "name": "stdout",
     "output_type": "stream",
     "text": [
      "https://downloadagiv.blob.core.windows.net/dhm-vlaanderen-ii-dsm-raster-1m/DHMVIIDSMRAS1m_k01.zip\n",
      "https://downloadagiv.blob.core.windows.net/dhm-vlaanderen-ii-dsm-raster-1m/DHMVIIDSMRAS1m_k02.zip\n",
      "https://downloadagiv.blob.core.windows.net/dhm-vlaanderen-ii-dsm-raster-1m/DHMVIIDSMRAS1m_k03.zip\n",
      "https://downloadagiv.blob.core.windows.net/dhm-vlaanderen-ii-dsm-raster-1m/DHMVIIDSMRAS1m_k04.zip\n",
      "https://downloadagiv.blob.core.windows.net/dhm-vlaanderen-ii-dsm-raster-1m/DHMVIIDSMRAS1m_k05.zip\n",
      "https://downloadagiv.blob.core.windows.net/dhm-vlaanderen-ii-dsm-raster-1m/DHMVIIDSMRAS1m_k06.zip\n",
      "https://downloadagiv.blob.core.windows.net/dhm-vlaanderen-ii-dsm-raster-1m/DHMVIIDSMRAS1m_k07.zip\n",
      "https://downloadagiv.blob.core.windows.net/dhm-vlaanderen-ii-dsm-raster-1m/DHMVIIDSMRAS1m_k08.zip\n",
      "https://downloadagiv.blob.core.windows.net/dhm-vlaanderen-ii-dsm-raster-1m/DHMVIIDSMRAS1m_k09.zip\n",
      "https://downloadagiv.blob.core.windows.net/dhm-vlaanderen-ii-dsm-raster-1m/DHMVIIDSMRAS1m_k10.zip\n",
      "https://downloadagiv.blob.core.windows.net/dhm-vlaanderen-ii-dsm-raster-1m/DHMVIIDSMRAS1m_k11.zip\n",
      "https://downloadagiv.blob.core.windows.net/dhm-vlaanderen-ii-dsm-raster-1m/DHMVIIDSMRAS1m_k12.zip\n",
      "https://downloadagiv.blob.core.windows.net/dhm-vlaanderen-ii-dsm-raster-1m/DHMVIIDSMRAS1m_k13.zip\n",
      "https://downloadagiv.blob.core.windows.net/dhm-vlaanderen-ii-dsm-raster-1m/DHMVIIDSMRAS1m_k14.zip\n",
      "https://downloadagiv.blob.core.windows.net/dhm-vlaanderen-ii-dsm-raster-1m/DHMVIIDSMRAS1m_k15.zip\n",
      "https://downloadagiv.blob.core.windows.net/dhm-vlaanderen-ii-dsm-raster-1m/DHMVIIDSMRAS1m_k16.zip\n",
      "https://downloadagiv.blob.core.windows.net/dhm-vlaanderen-ii-dsm-raster-1m/DHMVIIDSMRAS1m_k17.zip\n",
      "https://downloadagiv.blob.core.windows.net/dhm-vlaanderen-ii-dsm-raster-1m/DHMVIIDSMRAS1m_k18.zip\n",
      "https://downloadagiv.blob.core.windows.net/dhm-vlaanderen-ii-dsm-raster-1m/DHMVIIDSMRAS1m_k19.zip\n",
      "https://downloadagiv.blob.core.windows.net/dhm-vlaanderen-ii-dsm-raster-1m/DHMVIIDSMRAS1m_k20.zip\n",
      "https://downloadagiv.blob.core.windows.net/dhm-vlaanderen-ii-dsm-raster-1m/DHMVIIDSMRAS1m_k21.zip\n",
      "https://downloadagiv.blob.core.windows.net/dhm-vlaanderen-ii-dsm-raster-1m/DHMVIIDSMRAS1m_k22.zip\n",
      "https://downloadagiv.blob.core.windows.net/dhm-vlaanderen-ii-dsm-raster-1m/DHMVIIDSMRAS1m_k23.zip\n",
      "https://downloadagiv.blob.core.windows.net/dhm-vlaanderen-ii-dsm-raster-1m/DHMVIIDSMRAS1m_k24.zip\n",
      "https://downloadagiv.blob.core.windows.net/dhm-vlaanderen-ii-dsm-raster-1m/DHMVIIDSMRAS1m_k25.zip\n",
      "https://downloadagiv.blob.core.windows.net/dhm-vlaanderen-ii-dsm-raster-1m/DHMVIIDSMRAS1m_k26.zip\n",
      "https://downloadagiv.blob.core.windows.net/dhm-vlaanderen-ii-dsm-raster-1m/DHMVIIDSMRAS1m_k27.zip\n",
      "https://downloadagiv.blob.core.windows.net/dhm-vlaanderen-ii-dsm-raster-1m/DHMVIIDSMRAS1m_k28.zip\n",
      "https://downloadagiv.blob.core.windows.net/dhm-vlaanderen-ii-dsm-raster-1m/DHMVIIDSMRAS1m_k29.zip\n",
      "https://downloadagiv.blob.core.windows.net/dhm-vlaanderen-ii-dsm-raster-1m/DHMVIIDSMRAS1m_k30.zip\n",
      "https://downloadagiv.blob.core.windows.net/dhm-vlaanderen-ii-dsm-raster-1m/DHMVIIDSMRAS1m_k31.zip\n",
      "https://downloadagiv.blob.core.windows.net/dhm-vlaanderen-ii-dsm-raster-1m/DHMVIIDSMRAS1m_k32.zip\n",
      "https://downloadagiv.blob.core.windows.net/dhm-vlaanderen-ii-dsm-raster-1m/DHMVIIDSMRAS1m_k33.zip\n",
      "https://downloadagiv.blob.core.windows.net/dhm-vlaanderen-ii-dsm-raster-1m/DHMVIIDSMRAS1m_k34.zip\n",
      "https://downloadagiv.blob.core.windows.net/dhm-vlaanderen-ii-dsm-raster-1m/DHMVIIDSMRAS1m_k35.zip\n",
      "https://downloadagiv.blob.core.windows.net/dhm-vlaanderen-ii-dsm-raster-1m/DHMVIIDSMRAS1m_k36.zip\n",
      "https://downloadagiv.blob.core.windows.net/dhm-vlaanderen-ii-dsm-raster-1m/DHMVIIDSMRAS1m_k37.zip\n",
      "https://downloadagiv.blob.core.windows.net/dhm-vlaanderen-ii-dsm-raster-1m/DHMVIIDSMRAS1m_k38.zip\n",
      "https://downloadagiv.blob.core.windows.net/dhm-vlaanderen-ii-dsm-raster-1m/DHMVIIDSMRAS1m_k39.zip\n",
      "https://downloadagiv.blob.core.windows.net/dhm-vlaanderen-ii-dsm-raster-1m/DHMVIIDSMRAS1m_k40.zip\n",
      "https://downloadagiv.blob.core.windows.net/dhm-vlaanderen-ii-dsm-raster-1m/DHMVIIDSMRAS1m_k41.zip\n",
      "https://downloadagiv.blob.core.windows.net/dhm-vlaanderen-ii-dsm-raster-1m/DHMVIIDSMRAS1m_k42.zip\n",
      "https://downloadagiv.blob.core.windows.net/dhm-vlaanderen-ii-dsm-raster-1m/DHMVIIDSMRAS1m_k43.zip\n",
      "https://downloadagiv.blob.core.windows.net/dhm-vlaanderen-ii-dtm-raster-1m/DHMVIIDTMRAS1m_k01.zip\n",
      "https://downloadagiv.blob.core.windows.net/dhm-vlaanderen-ii-dtm-raster-1m/DHMVIIDTMRAS1m_k02.zip\n",
      "https://downloadagiv.blob.core.windows.net/dhm-vlaanderen-ii-dtm-raster-1m/DHMVIIDTMRAS1m_k03.zip\n",
      "https://downloadagiv.blob.core.windows.net/dhm-vlaanderen-ii-dtm-raster-1m/DHMVIIDTMRAS1m_k04.zip\n",
      "https://downloadagiv.blob.core.windows.net/dhm-vlaanderen-ii-dtm-raster-1m/DHMVIIDTMRAS1m_k05.zip\n",
      "https://downloadagiv.blob.core.windows.net/dhm-vlaanderen-ii-dtm-raster-1m/DHMVIIDTMRAS1m_k06.zip\n",
      "https://downloadagiv.blob.core.windows.net/dhm-vlaanderen-ii-dtm-raster-1m/DHMVIIDTMRAS1m_k07.zip\n",
      "https://downloadagiv.blob.core.windows.net/dhm-vlaanderen-ii-dtm-raster-1m/DHMVIIDTMRAS1m_k08.zip\n",
      "https://downloadagiv.blob.core.windows.net/dhm-vlaanderen-ii-dtm-raster-1m/DHMVIIDTMRAS1m_k09.zip\n",
      "https://downloadagiv.blob.core.windows.net/dhm-vlaanderen-ii-dtm-raster-1m/DHMVIIDTMRAS1m_k10.zip\n",
      "https://downloadagiv.blob.core.windows.net/dhm-vlaanderen-ii-dtm-raster-1m/DHMVIIDTMRAS1m_k11.zip\n",
      "https://downloadagiv.blob.core.windows.net/dhm-vlaanderen-ii-dtm-raster-1m/DHMVIIDTMRAS1m_k12.zip\n",
      "https://downloadagiv.blob.core.windows.net/dhm-vlaanderen-ii-dtm-raster-1m/DHMVIIDTMRAS1m_k13.zip\n",
      "https://downloadagiv.blob.core.windows.net/dhm-vlaanderen-ii-dtm-raster-1m/DHMVIIDTMRAS1m_k14.zip\n",
      "https://downloadagiv.blob.core.windows.net/dhm-vlaanderen-ii-dtm-raster-1m/DHMVIIDTMRAS1m_k15.zip\n",
      "https://downloadagiv.blob.core.windows.net/dhm-vlaanderen-ii-dtm-raster-1m/DHMVIIDTMRAS1m_k16.zip\n",
      "https://downloadagiv.blob.core.windows.net/dhm-vlaanderen-ii-dtm-raster-1m/DHMVIIDTMRAS1m_k17.zip\n",
      "https://downloadagiv.blob.core.windows.net/dhm-vlaanderen-ii-dtm-raster-1m/DHMVIIDTMRAS1m_k18.zip\n",
      "https://downloadagiv.blob.core.windows.net/dhm-vlaanderen-ii-dtm-raster-1m/DHMVIIDTMRAS1m_k19.zip\n",
      "https://downloadagiv.blob.core.windows.net/dhm-vlaanderen-ii-dtm-raster-1m/DHMVIIDTMRAS1m_k20.zip\n",
      "https://downloadagiv.blob.core.windows.net/dhm-vlaanderen-ii-dtm-raster-1m/DHMVIIDTMRAS1m_k21.zip\n",
      "https://downloadagiv.blob.core.windows.net/dhm-vlaanderen-ii-dtm-raster-1m/DHMVIIDTMRAS1m_k22.zip\n",
      "https://downloadagiv.blob.core.windows.net/dhm-vlaanderen-ii-dtm-raster-1m/DHMVIIDTMRAS1m_k23.zip\n",
      "https://downloadagiv.blob.core.windows.net/dhm-vlaanderen-ii-dtm-raster-1m/DHMVIIDTMRAS1m_k24.zip\n",
      "https://downloadagiv.blob.core.windows.net/dhm-vlaanderen-ii-dtm-raster-1m/DHMVIIDTMRAS1m_k25.zip\n",
      "https://downloadagiv.blob.core.windows.net/dhm-vlaanderen-ii-dtm-raster-1m/DHMVIIDTMRAS1m_k26.zip\n",
      "https://downloadagiv.blob.core.windows.net/dhm-vlaanderen-ii-dtm-raster-1m/DHMVIIDTMRAS1m_k27.zip\n",
      "https://downloadagiv.blob.core.windows.net/dhm-vlaanderen-ii-dtm-raster-1m/DHMVIIDTMRAS1m_k28.zip\n",
      "https://downloadagiv.blob.core.windows.net/dhm-vlaanderen-ii-dtm-raster-1m/DHMVIIDTMRAS1m_k29.zip\n",
      "https://downloadagiv.blob.core.windows.net/dhm-vlaanderen-ii-dtm-raster-1m/DHMVIIDTMRAS1m_k30.zip\n",
      "https://downloadagiv.blob.core.windows.net/dhm-vlaanderen-ii-dtm-raster-1m/DHMVIIDTMRAS1m_k31.zip\n",
      "https://downloadagiv.blob.core.windows.net/dhm-vlaanderen-ii-dtm-raster-1m/DHMVIIDTMRAS1m_k32.zip\n",
      "https://downloadagiv.blob.core.windows.net/dhm-vlaanderen-ii-dtm-raster-1m/DHMVIIDTMRAS1m_k33.zip\n",
      "https://downloadagiv.blob.core.windows.net/dhm-vlaanderen-ii-dtm-raster-1m/DHMVIIDTMRAS1m_k34.zip\n",
      "https://downloadagiv.blob.core.windows.net/dhm-vlaanderen-ii-dtm-raster-1m/DHMVIIDTMRAS1m_k35.zip\n",
      "https://downloadagiv.blob.core.windows.net/dhm-vlaanderen-ii-dtm-raster-1m/DHMVIIDTMRAS1m_k36.zip\n",
      "https://downloadagiv.blob.core.windows.net/dhm-vlaanderen-ii-dtm-raster-1m/DHMVIIDTMRAS1m_k37.zip\n",
      "https://downloadagiv.blob.core.windows.net/dhm-vlaanderen-ii-dtm-raster-1m/DHMVIIDTMRAS1m_k38.zip\n",
      "https://downloadagiv.blob.core.windows.net/dhm-vlaanderen-ii-dtm-raster-1m/DHMVIIDTMRAS1m_k39.zip\n",
      "https://downloadagiv.blob.core.windows.net/dhm-vlaanderen-ii-dtm-raster-1m/DHMVIIDTMRAS1m_k40.zip\n",
      "https://downloadagiv.blob.core.windows.net/dhm-vlaanderen-ii-dtm-raster-1m/DHMVIIDTMRAS1m_k41.zip\n",
      "https://downloadagiv.blob.core.windows.net/dhm-vlaanderen-ii-dtm-raster-1m/DHMVIIDTMRAS1m_k42.zip\n",
      "https://downloadagiv.blob.core.windows.net/dhm-vlaanderen-ii-dtm-raster-1m/DHMVIIDTMRAS1m_k43.zip\n"
     ]
    }
   ],
   "source": [
    "for data_type in dataset_url.keys():\n",
    "    r = requests.get(dataset_url[data_type])\n",
    "    soup = BeautifulSoup(r.content, \"html\")\n",
    "    download_elem = soup.find_all(\"div\", attrs={\"class\": \"downloadfileblock\"})[0]\n",
    "    link_elems = download_elem.find_all(\"a\")\n",
    "    for link_elem in link_elems:\n",
    "        print(link_elem.get(\"href\"))"
   ]
  },
  {
   "cell_type": "code",
   "execution_count": 73,
   "id": "0f818d3e",
   "metadata": {
    "scrolled": true
   },
   "outputs": [
    {
     "data": {
      "text/plain": [
       "['https://downloadagiv.blob.core.windows.net/dhm-vlaanderen-ii-dsm-raster-1m/DHMVIIDSMRAS1m_k01.zip',\n",
       " 'https://downloadagiv.blob.core.windows.net/dhm-vlaanderen-ii-dsm-raster-1m/DHMVIIDSMRAS1m_k02.zip',\n",
       " 'https://downloadagiv.blob.core.windows.net/dhm-vlaanderen-ii-dsm-raster-1m/DHMVIIDSMRAS1m_k03.zip',\n",
       " 'https://downloadagiv.blob.core.windows.net/dhm-vlaanderen-ii-dsm-raster-1m/DHMVIIDSMRAS1m_k04.zip',\n",
       " 'https://downloadagiv.blob.core.windows.net/dhm-vlaanderen-ii-dsm-raster-1m/DHMVIIDSMRAS1m_k05.zip',\n",
       " 'https://downloadagiv.blob.core.windows.net/dhm-vlaanderen-ii-dsm-raster-1m/DHMVIIDSMRAS1m_k06.zip',\n",
       " 'https://downloadagiv.blob.core.windows.net/dhm-vlaanderen-ii-dsm-raster-1m/DHMVIIDSMRAS1m_k07.zip',\n",
       " 'https://downloadagiv.blob.core.windows.net/dhm-vlaanderen-ii-dsm-raster-1m/DHMVIIDSMRAS1m_k08.zip',\n",
       " 'https://downloadagiv.blob.core.windows.net/dhm-vlaanderen-ii-dsm-raster-1m/DHMVIIDSMRAS1m_k09.zip',\n",
       " 'https://downloadagiv.blob.core.windows.net/dhm-vlaanderen-ii-dsm-raster-1m/DHMVIIDSMRAS1m_k10.zip',\n",
       " 'https://downloadagiv.blob.core.windows.net/dhm-vlaanderen-ii-dsm-raster-1m/DHMVIIDSMRAS1m_k11.zip',\n",
       " 'https://downloadagiv.blob.core.windows.net/dhm-vlaanderen-ii-dsm-raster-1m/DHMVIIDSMRAS1m_k12.zip',\n",
       " 'https://downloadagiv.blob.core.windows.net/dhm-vlaanderen-ii-dsm-raster-1m/DHMVIIDSMRAS1m_k13.zip',\n",
       " 'https://downloadagiv.blob.core.windows.net/dhm-vlaanderen-ii-dsm-raster-1m/DHMVIIDSMRAS1m_k14.zip',\n",
       " 'https://downloadagiv.blob.core.windows.net/dhm-vlaanderen-ii-dsm-raster-1m/DHMVIIDSMRAS1m_k15.zip',\n",
       " 'https://downloadagiv.blob.core.windows.net/dhm-vlaanderen-ii-dsm-raster-1m/DHMVIIDSMRAS1m_k16.zip',\n",
       " 'https://downloadagiv.blob.core.windows.net/dhm-vlaanderen-ii-dsm-raster-1m/DHMVIIDSMRAS1m_k17.zip',\n",
       " 'https://downloadagiv.blob.core.windows.net/dhm-vlaanderen-ii-dsm-raster-1m/DHMVIIDSMRAS1m_k18.zip',\n",
       " 'https://downloadagiv.blob.core.windows.net/dhm-vlaanderen-ii-dsm-raster-1m/DHMVIIDSMRAS1m_k19.zip',\n",
       " 'https://downloadagiv.blob.core.windows.net/dhm-vlaanderen-ii-dsm-raster-1m/DHMVIIDSMRAS1m_k20.zip',\n",
       " 'https://downloadagiv.blob.core.windows.net/dhm-vlaanderen-ii-dsm-raster-1m/DHMVIIDSMRAS1m_k21.zip',\n",
       " 'https://downloadagiv.blob.core.windows.net/dhm-vlaanderen-ii-dsm-raster-1m/DHMVIIDSMRAS1m_k22.zip',\n",
       " 'https://downloadagiv.blob.core.windows.net/dhm-vlaanderen-ii-dsm-raster-1m/DHMVIIDSMRAS1m_k23.zip',\n",
       " 'https://downloadagiv.blob.core.windows.net/dhm-vlaanderen-ii-dsm-raster-1m/DHMVIIDSMRAS1m_k24.zip',\n",
       " 'https://downloadagiv.blob.core.windows.net/dhm-vlaanderen-ii-dsm-raster-1m/DHMVIIDSMRAS1m_k25.zip',\n",
       " 'https://downloadagiv.blob.core.windows.net/dhm-vlaanderen-ii-dsm-raster-1m/DHMVIIDSMRAS1m_k26.zip',\n",
       " 'https://downloadagiv.blob.core.windows.net/dhm-vlaanderen-ii-dsm-raster-1m/DHMVIIDSMRAS1m_k27.zip',\n",
       " 'https://downloadagiv.blob.core.windows.net/dhm-vlaanderen-ii-dsm-raster-1m/DHMVIIDSMRAS1m_k28.zip',\n",
       " 'https://downloadagiv.blob.core.windows.net/dhm-vlaanderen-ii-dsm-raster-1m/DHMVIIDSMRAS1m_k29.zip',\n",
       " 'https://downloadagiv.blob.core.windows.net/dhm-vlaanderen-ii-dsm-raster-1m/DHMVIIDSMRAS1m_k30.zip',\n",
       " 'https://downloadagiv.blob.core.windows.net/dhm-vlaanderen-ii-dsm-raster-1m/DHMVIIDSMRAS1m_k31.zip',\n",
       " 'https://downloadagiv.blob.core.windows.net/dhm-vlaanderen-ii-dsm-raster-1m/DHMVIIDSMRAS1m_k32.zip',\n",
       " 'https://downloadagiv.blob.core.windows.net/dhm-vlaanderen-ii-dsm-raster-1m/DHMVIIDSMRAS1m_k33.zip',\n",
       " 'https://downloadagiv.blob.core.windows.net/dhm-vlaanderen-ii-dsm-raster-1m/DHMVIIDSMRAS1m_k34.zip',\n",
       " 'https://downloadagiv.blob.core.windows.net/dhm-vlaanderen-ii-dsm-raster-1m/DHMVIIDSMRAS1m_k35.zip',\n",
       " 'https://downloadagiv.blob.core.windows.net/dhm-vlaanderen-ii-dsm-raster-1m/DHMVIIDSMRAS1m_k36.zip',\n",
       " 'https://downloadagiv.blob.core.windows.net/dhm-vlaanderen-ii-dsm-raster-1m/DHMVIIDSMRAS1m_k37.zip',\n",
       " 'https://downloadagiv.blob.core.windows.net/dhm-vlaanderen-ii-dsm-raster-1m/DHMVIIDSMRAS1m_k38.zip',\n",
       " 'https://downloadagiv.blob.core.windows.net/dhm-vlaanderen-ii-dsm-raster-1m/DHMVIIDSMRAS1m_k39.zip',\n",
       " 'https://downloadagiv.blob.core.windows.net/dhm-vlaanderen-ii-dsm-raster-1m/DHMVIIDSMRAS1m_k40.zip',\n",
       " 'https://downloadagiv.blob.core.windows.net/dhm-vlaanderen-ii-dsm-raster-1m/DHMVIIDSMRAS1m_k41.zip',\n",
       " 'https://downloadagiv.blob.core.windows.net/dhm-vlaanderen-ii-dsm-raster-1m/DHMVIIDSMRAS1m_k42.zip',\n",
       " 'https://downloadagiv.blob.core.windows.net/dhm-vlaanderen-ii-dsm-raster-1m/DHMVIIDSMRAS1m_k43.zip']"
      ]
     },
     "execution_count": 73,
     "metadata": {},
     "output_type": "execute_result"
    }
   ],
   "source": [
    "zip_links = []\n",
    "for elem in soup.find_all(\"li\"):\n",
    "    zip_links.append(elem.find_all(\"a\")[0].get(\"href\"))\n",
    "    \n",
    "zip_links\n",
    "\n",
    "\n",
    "# for elem in soup.select(\"li.search-results__item a.card__title-link\"):\n",
    "        #href_listing = elem.get(\"href\")\n",
    "        #index_search = href_listing.find(\"?searchId\")"
   ]
  },
  {
   "cell_type": "code",
   "execution_count": 55,
   "id": "26ec5a9d",
   "metadata": {},
   "outputs": [
    {
     "name": "stdout",
     "output_type": "stream",
     "text": [
      "https://downloadagiv.blob.core.windows.net/dhm-vlaanderen-ii-dsm-raster-1m/DHMVIIDSMRAS1m_k01.zip\n",
      "DHMVIIDSMRAS1m_k01\n",
      "zip+https://downloadagiv.blob.core.windows.net/dhm-vlaanderen-ii-dsm-raster-1m/DHMVIIDSMRAS1m_k01.zip!/GeoTIFF/DHMVIIDSMRAS1m_k01.tif\n",
      "BoundingBox(left=145000.0, bottom=238000.0, right=162000.0, top=247000.0)\n",
      "https://downloadagiv.blob.core.windows.net/dhm-vlaanderen-ii-dsm-raster-1m/DHMVIIDSMRAS1m_k02.zip\n",
      "DHMVIIDSMRAS1m_k02\n",
      "zip+https://downloadagiv.blob.core.windows.net/dhm-vlaanderen-ii-dsm-raster-1m/DHMVIIDSMRAS1m_k02.zip!/GeoTIFF/DHMVIIDSMRAS1m_k02.tif\n",
      "BoundingBox(left=162000.0, bottom=238000.0, right=194000.0, top=250000.0)\n",
      "Total time: 170.36\n"
     ]
    }
   ],
   "source": [
    "start_time = timeit.default_timer()  # start the timer\n",
    "stop_times = []\n",
    "\n",
    "bounds = []\n",
    "profiles = []\n",
    "for link in zip_links:\n",
    "    print(link)\n",
    "    \n",
    "    m = re.search(\"/dhm-vlaanderen-ii-dsm-raster-1m/(?P<zip_file_name>[\\w\\-]+).zip$\", link)\n",
    "    zip_file_name = m.group(\"zip_file_name\")\n",
    "    print(zip_file_name)\n",
    "    tif_request = \"zip+\" + link + \"!/GeoTIFF/\" + zip_file_name + \".tif\"\n",
    "    print(tif_request)\n",
    "    \n",
    "    # img_DTM = rasterio.open(tif_request)\n",
    "    with rasterio.open(tif_request) as img_DTM:\n",
    "        print(img_DTM.bounds)\n",
    "    \n",
    "    bounds.append(img_DTM.bounds)\n",
    "    profiles.append(img_DTM.profile)\n",
    "    \n",
    "    stop_time = timeit.default_timer()\n",
    "    stop_times.append(stop_time)\n",
    "    #/dhm-vlaanderen-ii-dsm-raster-1m/DHMVIIDSMRAS1m_k01.zip\n",
    "#img_DTM = rasterio.open('zip+https://downloadagiv.blob.core.windows.net/dhm-vlaanderen-ii-dsm-raster-1m/DHMVIIDSMRAS1m_k01.zip!/GeoTIFF/DHMVIIDSMRAS1m_k01.tif')\n",
    "#img_DTM.bounds\n",
    "\n",
    "stop_time = timeit.default_timer()\n",
    "print(f\"Total time: {stop_time-start_time:.2f}\")\n"
   ]
  },
  {
   "cell_type": "code",
   "execution_count": 58,
   "id": "9728af2a",
   "metadata": {},
   "outputs": [
    {
     "name": "stdout",
     "output_type": "stream",
     "text": [
      "0\n",
      "1\n",
      "2\n",
      "3\n",
      "4\n"
     ]
    }
   ],
   "source": [
    "for i in range(0,5):\n",
    "    img_DTM = rasterio.open(tif_request)\n",
    "    print(i)"
   ]
  },
  {
   "cell_type": "code",
   "execution_count": 59,
   "id": "01316dfb",
   "metadata": {},
   "outputs": [
    {
     "data": {
      "text/plain": [
       "<open DatasetReader name='zip+https://downloadagiv.blob.core.windows.net/dhm-vlaanderen-ii-dsm-raster-1m/DHMVIIDSMRAS1m_k02.zip!/GeoTIFF/DHMVIIDSMRAS1m_k02.tif' mode='r'>"
      ]
     },
     "execution_count": 59,
     "metadata": {},
     "output_type": "execute_result"
    }
   ],
   "source": [
    "img_DTM"
   ]
  },
  {
   "cell_type": "code",
   "execution_count": 60,
   "id": "5f8bc362",
   "metadata": {},
   "outputs": [
    {
     "name": "stdout",
     "output_type": "stream",
     "text": [
      "Help on function open in module rasterio:\n",
      "\n",
      "open(fp, mode='r', driver=None, width=None, height=None, count=None, crs=None, transform=None, dtype=None, nodata=None, sharing=False, **kwargs)\n",
      "    Open a dataset for reading or writing.\n",
      "    \n",
      "    The dataset may be located in a local file, in a resource located by\n",
      "    a URL, or contained within a stream of bytes.\n",
      "    \n",
      "    In read ('r') or read/write ('r+') mode, no keyword arguments are\n",
      "    required: these attributes are supplied by the opened dataset.\n",
      "    \n",
      "    In write ('w' or 'w+') mode, the driver, width, height, count, and dtype\n",
      "    keywords are strictly required.\n",
      "    \n",
      "    Parameters\n",
      "    ----------\n",
      "    fp : str, file object or pathlib.Path object\n",
      "        A filename or URL, a file object opened in binary ('rb') mode,\n",
      "        or a Path object.\n",
      "    mode : str, optional\n",
      "        'r' (read, the default), 'r+' (read/write), 'w' (write), or\n",
      "        'w+' (write/read).\n",
      "    driver : str, optional\n",
      "        A short format driver name (e.g. \"GTiff\" or \"JPEG\") or a list of\n",
      "        such names (see GDAL docs at\n",
      "        http://www.gdal.org/formats_list.html). In 'w' or 'w+' modes\n",
      "        a single name is required. In 'r' or 'r+' modes the driver can\n",
      "        usually be omitted. Registered drivers will be tried\n",
      "        sequentially until a match is found. When multiple drivers are\n",
      "        available for a format such as JPEG2000, one of them can be\n",
      "        selected by using this keyword argument.\n",
      "    width, height : int, optional\n",
      "        The numbers of rows and columns of the raster dataset. Required\n",
      "        in 'w' or 'w+' modes, they are ignored in 'r' or 'r+' modes.\n",
      "    count : int, optional\n",
      "        The count of dataset bands. Required in 'w' or 'w+' modes, it is\n",
      "        ignored in 'r' or 'r+' modes.\n",
      "    dtype : str or numpy dtype\n",
      "        The data type for bands. For example: 'uint8' or\n",
      "        ``rasterio.uint16``. Required in 'w' or 'w+' modes, it is\n",
      "        ignored in 'r' or 'r+' modes.\n",
      "    crs : str, dict, or CRS; optional\n",
      "        The coordinate reference system. Required in 'w' or 'w+' modes,\n",
      "        it is ignored in 'r' or 'r+' modes.\n",
      "    transform : Affine instance, optional\n",
      "        Affine transformation mapping the pixel space to geographic\n",
      "        space. Required in 'w' or 'w+' modes, it is ignored in 'r' or\n",
      "        'r+' modes.\n",
      "    nodata : int, float, or nan; optional\n",
      "        Defines the pixel value to be interpreted as not valid data.\n",
      "        Required in 'w' or 'w+' modes, it is ignored in 'r' or 'r+'\n",
      "        modes.\n",
      "    sharing : bool; optional\n",
      "        To reduce overhead and prevent programs from running out of file\n",
      "        descriptors, rasterio maintains a pool of shared low level\n",
      "        dataset handles. When `True` this function will use a shared\n",
      "        handle if one is available. Multithreaded programs must avoid\n",
      "        sharing and should set *sharing* to `False`.\n",
      "    kwargs : optional\n",
      "        These are passed to format drivers as directives for creating or\n",
      "        interpreting datasets. For example: in 'w' or 'w+' modes\n",
      "        a `tiled=True` keyword argument will direct the GeoTIFF format\n",
      "        driver to create a tiled, rather than striped, TIFF.\n",
      "    \n",
      "    Returns\n",
      "    -------\n",
      "    A ``DatasetReader`` or ``DatasetWriter`` object.\n",
      "    \n",
      "    Examples\n",
      "    --------\n",
      "    \n",
      "    To open a GeoTIFF for reading using standard driver discovery and\n",
      "    no directives:\n",
      "    \n",
      "    >>> import rasterio\n",
      "    >>> with rasterio.open('example.tif') as dataset:\n",
      "    ...     print(dataset.profile)\n",
      "    \n",
      "    To open a JPEG2000 using only the JP2OpenJPEG driver:\n",
      "    \n",
      "    >>> with rasterio.open(\n",
      "    ...         'example.jp2', driver='JP2OpenJPEG') as dataset:\n",
      "    ...     print(dataset.profile)\n",
      "    \n",
      "    To create a new 8-band, 16-bit unsigned, tiled, and LZW-compressed\n",
      "    GeoTIFF with a global extent and 0.5 degree resolution:\n",
      "    \n",
      "    >>> from rasterio.transform import from_origin\n",
      "    >>> with rasterio.open(\n",
      "    ...         'example.tif', 'w', driver='GTiff', dtype='uint16',\n",
      "    ...         width=720, height=360, count=8, crs='EPSG:4326',\n",
      "    ...         transform=from_origin(-180.0, 90.0, 0.5, 0.5),\n",
      "    ...         nodata=0, tiled=True, compress='lzw') as dataset:\n",
      "    ...     dataset.write(...)\n",
      "\n"
     ]
    }
   ],
   "source": [
    "# Can we \"partially\" open?\n",
    "help(rasterio.open)"
   ]
  },
  {
   "cell_type": "code",
   "execution_count": 8,
   "id": "4a69cbb0",
   "metadata": {},
   "outputs": [
    {
     "data": {
      "text/plain": [
       "[BoundingBox(left=145000.0, bottom=238000.0, right=162000.0, top=247000.0),\n",
       " BoundingBox(left=162000.0, bottom=238000.0, right=194000.0, top=250000.0)]"
      ]
     },
     "execution_count": 8,
     "metadata": {},
     "output_type": "execute_result"
    }
   ],
   "source": [
    "bounds = src.open(tif_request)\n",
    "bounds.left\n",
    "bounds.right\n",
    "bounds.bottom\n",
    "bounds.top"
   ]
  },
  {
   "cell_type": "code",
   "execution_count": 9,
   "id": "b344c88d",
   "metadata": {},
   "outputs": [
    {
     "data": {
      "text/plain": [
       "'00001'"
      ]
     },
     "execution_count": 9,
     "metadata": {},
     "output_type": "execute_result"
    }
   ],
   "source": [
    "f'{1:05d}'"
   ]
  },
  {
   "cell_type": "code",
   "execution_count": 10,
   "id": "3703ccf3",
   "metadata": {},
   "outputs": [],
   "source": [
    "# Check if DTM files have the same boundaries\n",
    "# Load them in a dataframe"
   ]
  },
  {
   "cell_type": "code",
   "execution_count": 117,
   "id": "9814cba2",
   "metadata": {},
   "outputs": [
    {
     "data": {
      "text/plain": [
       "162000.0"
      ]
     },
     "execution_count": 117,
     "metadata": {},
     "output_type": "execute_result"
    }
   ],
   "source": [
    "img_DTM.bounds.left"
   ]
  },
  {
   "cell_type": "code",
   "execution_count": 66,
   "id": "b229d632",
   "metadata": {},
   "outputs": [
    {
     "data": {
      "text/plain": [
       "{'driver': 'GTiff', 'dtype': 'float32', 'nodata': -9999.0, 'width': 32000, 'height': 12000, 'count': 1, 'crs': CRS.from_epsg(31370), 'transform': Affine(1.0, 0.0, 162000.0,\n",
       "       0.0, -1.0, 250000.0), 'blockxsize': 512, 'blockysize': 512, 'tiled': True, 'compress': 'deflate', 'interleave': 'band'}"
      ]
     },
     "execution_count": 66,
     "metadata": {},
     "output_type": "execute_result"
    }
   ],
   "source": [
    "img_DTM.profile"
   ]
  },
  {
   "cell_type": "code",
   "execution_count": 12,
   "id": "ef1029f8",
   "metadata": {},
   "outputs": [
    {
     "ename": "ValueError",
     "evalue": "Length of values (2) does not match length of index (43)",
     "output_type": "error",
     "traceback": [
      "\u001b[1;31m---------------------------------------------------------------------------\u001b[0m",
      "\u001b[1;31mValueError\u001b[0m                                Traceback (most recent call last)",
      "\u001b[1;32m~\\AppData\\Local\\Temp/ipykernel_12268/955605295.py\u001b[0m in \u001b[0;36m<module>\u001b[1;34m\u001b[0m\n\u001b[0;32m      1\u001b[0m \u001b[0mdf\u001b[0m \u001b[1;33m=\u001b[0m \u001b[0mpd\u001b[0m\u001b[1;33m.\u001b[0m\u001b[0mDataFrame\u001b[0m\u001b[1;33m(\u001b[0m\u001b[1;33m{\u001b[0m\u001b[1;34m\"URL\"\u001b[0m\u001b[1;33m:\u001b[0m \u001b[0mzip_links\u001b[0m\u001b[1;33m}\u001b[0m\u001b[1;33m)\u001b[0m\u001b[1;33m\u001b[0m\u001b[1;33m\u001b[0m\u001b[0m\n\u001b[1;32m----> 2\u001b[1;33m \u001b[0mdf\u001b[0m\u001b[1;33m[\u001b[0m\u001b[1;34m\"Boundaries\"\u001b[0m\u001b[1;33m]\u001b[0m \u001b[1;33m=\u001b[0m \u001b[0mbounds\u001b[0m\u001b[1;33m\u001b[0m\u001b[1;33m\u001b[0m\u001b[0m\n\u001b[0m",
      "\u001b[1;32m~\\anaconda3\\envs\\houses_3d\\lib\\site-packages\\pandas\\core\\frame.py\u001b[0m in \u001b[0;36m__setitem__\u001b[1;34m(self, key, value)\u001b[0m\n\u001b[0;32m   3610\u001b[0m         \u001b[1;32melse\u001b[0m\u001b[1;33m:\u001b[0m\u001b[1;33m\u001b[0m\u001b[1;33m\u001b[0m\u001b[0m\n\u001b[0;32m   3611\u001b[0m             \u001b[1;31m# set column\u001b[0m\u001b[1;33m\u001b[0m\u001b[1;33m\u001b[0m\u001b[1;33m\u001b[0m\u001b[0m\n\u001b[1;32m-> 3612\u001b[1;33m             \u001b[0mself\u001b[0m\u001b[1;33m.\u001b[0m\u001b[0m_set_item\u001b[0m\u001b[1;33m(\u001b[0m\u001b[0mkey\u001b[0m\u001b[1;33m,\u001b[0m \u001b[0mvalue\u001b[0m\u001b[1;33m)\u001b[0m\u001b[1;33m\u001b[0m\u001b[1;33m\u001b[0m\u001b[0m\n\u001b[0m\u001b[0;32m   3613\u001b[0m \u001b[1;33m\u001b[0m\u001b[0m\n\u001b[0;32m   3614\u001b[0m     \u001b[1;32mdef\u001b[0m \u001b[0m_setitem_slice\u001b[0m\u001b[1;33m(\u001b[0m\u001b[0mself\u001b[0m\u001b[1;33m,\u001b[0m \u001b[0mkey\u001b[0m\u001b[1;33m:\u001b[0m \u001b[0mslice\u001b[0m\u001b[1;33m,\u001b[0m \u001b[0mvalue\u001b[0m\u001b[1;33m)\u001b[0m\u001b[1;33m:\u001b[0m\u001b[1;33m\u001b[0m\u001b[1;33m\u001b[0m\u001b[0m\n",
      "\u001b[1;32m~\\anaconda3\\envs\\houses_3d\\lib\\site-packages\\pandas\\core\\frame.py\u001b[0m in \u001b[0;36m_set_item\u001b[1;34m(self, key, value)\u001b[0m\n\u001b[0;32m   3782\u001b[0m         \u001b[0mensure\u001b[0m \u001b[0mhomogeneity\u001b[0m\u001b[1;33m.\u001b[0m\u001b[1;33m\u001b[0m\u001b[1;33m\u001b[0m\u001b[0m\n\u001b[0;32m   3783\u001b[0m         \"\"\"\n\u001b[1;32m-> 3784\u001b[1;33m         \u001b[0mvalue\u001b[0m \u001b[1;33m=\u001b[0m \u001b[0mself\u001b[0m\u001b[1;33m.\u001b[0m\u001b[0m_sanitize_column\u001b[0m\u001b[1;33m(\u001b[0m\u001b[0mvalue\u001b[0m\u001b[1;33m)\u001b[0m\u001b[1;33m\u001b[0m\u001b[1;33m\u001b[0m\u001b[0m\n\u001b[0m\u001b[0;32m   3785\u001b[0m \u001b[1;33m\u001b[0m\u001b[0m\n\u001b[0;32m   3786\u001b[0m         if (\n",
      "\u001b[1;32m~\\anaconda3\\envs\\houses_3d\\lib\\site-packages\\pandas\\core\\frame.py\u001b[0m in \u001b[0;36m_sanitize_column\u001b[1;34m(self, value)\u001b[0m\n\u001b[0;32m   4507\u001b[0m \u001b[1;33m\u001b[0m\u001b[0m\n\u001b[0;32m   4508\u001b[0m         \u001b[1;32mif\u001b[0m \u001b[0mis_list_like\u001b[0m\u001b[1;33m(\u001b[0m\u001b[0mvalue\u001b[0m\u001b[1;33m)\u001b[0m\u001b[1;33m:\u001b[0m\u001b[1;33m\u001b[0m\u001b[1;33m\u001b[0m\u001b[0m\n\u001b[1;32m-> 4509\u001b[1;33m             \u001b[0mcom\u001b[0m\u001b[1;33m.\u001b[0m\u001b[0mrequire_length_match\u001b[0m\u001b[1;33m(\u001b[0m\u001b[0mvalue\u001b[0m\u001b[1;33m,\u001b[0m \u001b[0mself\u001b[0m\u001b[1;33m.\u001b[0m\u001b[0mindex\u001b[0m\u001b[1;33m)\u001b[0m\u001b[1;33m\u001b[0m\u001b[1;33m\u001b[0m\u001b[0m\n\u001b[0m\u001b[0;32m   4510\u001b[0m         \u001b[1;32mreturn\u001b[0m \u001b[0msanitize_array\u001b[0m\u001b[1;33m(\u001b[0m\u001b[0mvalue\u001b[0m\u001b[1;33m,\u001b[0m \u001b[0mself\u001b[0m\u001b[1;33m.\u001b[0m\u001b[0mindex\u001b[0m\u001b[1;33m,\u001b[0m \u001b[0mcopy\u001b[0m\u001b[1;33m=\u001b[0m\u001b[1;32mTrue\u001b[0m\u001b[1;33m,\u001b[0m \u001b[0mallow_2d\u001b[0m\u001b[1;33m=\u001b[0m\u001b[1;32mTrue\u001b[0m\u001b[1;33m)\u001b[0m\u001b[1;33m\u001b[0m\u001b[1;33m\u001b[0m\u001b[0m\n\u001b[0;32m   4511\u001b[0m \u001b[1;33m\u001b[0m\u001b[0m\n",
      "\u001b[1;32m~\\anaconda3\\envs\\houses_3d\\lib\\site-packages\\pandas\\core\\common.py\u001b[0m in \u001b[0;36mrequire_length_match\u001b[1;34m(data, index)\u001b[0m\n\u001b[0;32m    530\u001b[0m     \u001b[1;32mif\u001b[0m \u001b[0mlen\u001b[0m\u001b[1;33m(\u001b[0m\u001b[0mdata\u001b[0m\u001b[1;33m)\u001b[0m \u001b[1;33m!=\u001b[0m \u001b[0mlen\u001b[0m\u001b[1;33m(\u001b[0m\u001b[0mindex\u001b[0m\u001b[1;33m)\u001b[0m\u001b[1;33m:\u001b[0m\u001b[1;33m\u001b[0m\u001b[1;33m\u001b[0m\u001b[0m\n\u001b[0;32m    531\u001b[0m         raise ValueError(\n\u001b[1;32m--> 532\u001b[1;33m             \u001b[1;34m\"Length of values \"\u001b[0m\u001b[1;33m\u001b[0m\u001b[1;33m\u001b[0m\u001b[0m\n\u001b[0m\u001b[0;32m    533\u001b[0m             \u001b[1;34mf\"({len(data)}) \"\u001b[0m\u001b[1;33m\u001b[0m\u001b[1;33m\u001b[0m\u001b[0m\n\u001b[0;32m    534\u001b[0m             \u001b[1;34m\"does not match length of index \"\u001b[0m\u001b[1;33m\u001b[0m\u001b[1;33m\u001b[0m\u001b[0m\n",
      "\u001b[1;31mValueError\u001b[0m: Length of values (2) does not match length of index (43)"
     ]
    }
   ],
   "source": [
    "df = pd.DataFrame({\"URL\": zip_links})\n",
    "df[\"Boundaries\"] = bounds"
   ]
  },
  {
   "cell_type": "code",
   "execution_count": null,
   "id": "8d658901",
   "metadata": {},
   "outputs": [],
   "source": [
    "# Save metadata in a dataframe"
   ]
  },
  {
   "cell_type": "code",
   "execution_count": null,
   "id": "9c793863",
   "metadata": {},
   "outputs": [],
   "source": [
    "# Save the dataframe to a csv file\n",
    "df.to_csv(\"./assets/meta_data_blocks.csv\", index=False)"
   ]
  },
  {
   "cell_type": "code",
   "execution_count": null,
   "id": "c659e3ce",
   "metadata": {},
   "outputs": [],
   "source": []
  },
  {
   "cell_type": "code",
   "execution_count": 36,
   "id": "bfbc7c8e",
   "metadata": {},
   "outputs": [
    {
     "name": "stdout",
     "output_type": "stream",
     "text": [
      "                 BeautifulSoup:  2.0 KiB\n",
      "                           _ii: 1004.0 B\n",
      "                          _i29: 1004.0 B\n",
      "                          _i34: 1004.0 B\n",
      "                           _i5:  950.0 B\n",
      "                          _i21:  672.0 B\n",
      "                           obj:  667.0 B\n",
      "                          _i20:  667.0 B\n",
      "                          _i22:  667.0 B\n",
      "                          _i23:  667.0 B\n"
     ]
    }
   ],
   "source": [
    "import sys\n",
    "def sizeof_fmt(num, suffix='B'):\n",
    "    ''' by Fred Cirera,  https://stackoverflow.com/a/1094933/1870254, modified'''\n",
    "    for unit in ['','Ki','Mi','Gi','Ti','Pi','Ei','Zi']:\n",
    "        if abs(num) < 1024.0:\n",
    "            return \"%3.1f %s%s\" % (num, unit, suffix)\n",
    "        num /= 1024.0\n",
    "    return \"%.1f %s%s\" % (num, 'Yi', suffix)\n",
    "\n",
    "for name, size in sorted(((name, sys.getsizeof(value)) for name, value in locals().items()),\n",
    "                         key= lambda x: -x[1])[:10]:\n",
    "    print(\"{:>30}: {:>8}\".format(name, sizeof_fmt(size)))"
   ]
  }
 ],
 "metadata": {
  "kernelspec": {
   "display_name": "Python 3 (ipykernel)",
   "language": "python",
   "name": "python3"
  },
  "language_info": {
   "codemirror_mode": {
    "name": "ipython",
    "version": 3
   },
   "file_extension": ".py",
   "mimetype": "text/x-python",
   "name": "python",
   "nbconvert_exporter": "python",
   "pygments_lexer": "ipython3",
   "version": "3.7.11"
  }
 },
 "nbformat": 4,
 "nbformat_minor": 5
}
