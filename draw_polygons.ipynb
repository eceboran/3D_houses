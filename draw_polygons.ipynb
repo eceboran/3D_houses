{
 "cells": [
  {
   "cell_type": "code",
   "execution_count": 10,
   "id": "45f02317",
   "metadata": {},
   "outputs": [],
   "source": [
    "import shapely"
   ]
  },
  {
   "cell_type": "code",
   "execution_count": 2,
   "id": "19994842",
   "metadata": {
    "scrolled": true
   },
   "outputs": [
    {
     "data": {
      "text/plain": [
       "[[155964.90004737675, 239116.14077588543],\n",
       " [155962.14139137417, 239123.20522388816],\n",
       " [155955.17511937022, 239120.49066388607],\n",
       " [155956.10887937248, 239118.19888788462],\n",
       " [155951.22401537, 239116.56688788533],\n",
       " [155952.00340736657, 239114.54832788184],\n",
       " [155941.2950553596, 239110.34160787985],\n",
       " [155942.54151935875, 239107.34026387706],\n",
       " [155948.70471936464, 239109.76618387923],\n",
       " [155964.90004737675, 239116.14077588543]]"
      ]
     },
     "execution_count": 2,
     "metadata": {},
     "output_type": "execute_result"
    }
   ],
   "source": [
    "poly_building = [[155964.90004737675, 239116.14077588543],\n",
    " [155962.14139137417, 239123.20522388816],\n",
    " [155955.17511937022, 239120.49066388607],\n",
    " [155956.10887937248, 239118.19888788462],\n",
    " [155951.22401537, 239116.56688788533],\n",
    " [155952.00340736657, 239114.54832788184],\n",
    " [155941.2950553596, 239110.34160787985],\n",
    " [155942.54151935875, 239107.34026387706],\n",
    " [155948.70471936464, 239109.76618387923],\n",
    " [155964.90004737675, 239116.14077588543]]\n",
    "poly_building"
   ]
  },
  {
   "cell_type": "code",
   "execution_count": 11,
   "id": "8a397d02",
   "metadata": {},
   "outputs": [
    {
     "data": {
      "image/svg+xml": [
       "<svg xmlns=\"http://www.w3.org/2000/svg\" xmlns:xlink=\"http://www.w3.org/1999/xlink\" width=\"100.0\" height=\"100.0\" viewBox=\"155940.3508556789 239106.39606419636 25.49339137854986 17.753359372494742\" preserveAspectRatio=\"xMinYMin meet\"><g transform=\"matrix(1,0,0,-1,0,478230.5454877652)\"><path fill-rule=\"evenodd\" fill=\"#66cc99\" stroke=\"#555555\" stroke-width=\"0.5098678275709971\" opacity=\"0.6\" d=\"M 155964.90004737675,239116.14077588543 L 155962.14139137417,239123.20522388816 L 155955.17511937022,239120.49066388607 L 155956.10887937248,239118.19888788462 L 155951.22401537,239116.56688788533 L 155952.00340736657,239114.54832788184 L 155941.2950553596,239110.34160787985 L 155942.54151935875,239107.34026387706 L 155948.70471936464,239109.76618387923 L 155964.90004737675,239116.14077588543 z\" /></g></svg>"
      ],
      "text/plain": [
       "<shapely.geometry.polygon.Polygon at 0x1f8c9dd3b48>"
      ]
     },
     "execution_count": 11,
     "metadata": {},
     "output_type": "execute_result"
    }
   ],
   "source": [
    "shapely.geometry.Polygon(poly_building)"
   ]
  },
  {
   "cell_type": "code",
   "execution_count": null,
   "id": "b9cafe99",
   "metadata": {},
   "outputs": [],
   "source": []
  }
 ],
 "metadata": {
  "kernelspec": {
   "display_name": "Python 3 (ipykernel)",
   "language": "python",
   "name": "python3"
  },
  "language_info": {
   "codemirror_mode": {
    "name": "ipython",
    "version": 3
   },
   "file_extension": ".py",
   "mimetype": "text/x-python",
   "name": "python",
   "nbconvert_exporter": "python",
   "pygments_lexer": "ipython3",
   "version": "3.7.11"
  }
 },
 "nbformat": 4,
 "nbformat_minor": 5
}
