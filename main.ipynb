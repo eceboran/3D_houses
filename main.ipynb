{
 "cells": [
  {
   "cell_type": "code",
   "execution_count": 1,
   "id": "1bfc7a01",
   "metadata": {},
   "outputs": [],
   "source": [
    "# Import necessary libraries\n",
    "import requests as req\n",
    "import sys\n",
    "import os\n",
    "import numpy as np\n",
    "import pandas as pd\n",
    "import shapely.geometry as geom\n",
    "import rasterio as rs\n",
    "from rasterio.mask import mask as rs_mask\n",
    "#import matplotlib.pyplot as plt\n",
    "import plotly.graph_objects as go\n",
    "import timeit\n",
    "\n",
    "from utils.Address import Address\n",
    "from utils.Building import Building\n",
    "#from utils import Building as blds"
   ]
  },
  {
   "cell_type": "code",
   "execution_count": 2,
   "id": "ae490b49",
   "metadata": {},
   "outputs": [],
   "source": [
    "# File paths for metadata for DSM and DTM datasets\n",
    "# File paths for the raw and processed metadata csv files\n",
    "metadata_folder_path = os.path.join(os.getcwd(), 'data', 'metadata')\n",
    "   \n",
    "# Preprocessed and merge csv file path\n",
    "metadata_processed_merged_file_path = os.path.join(metadata_folder_path, \n",
    "                                                   'GeoTIFF_1m_metadata_processed.csv')"
   ]
  },
  {
   "cell_type": "code",
   "execution_count": 3,
   "id": "4ef389dd",
   "metadata": {
    "scrolled": true
   },
   "outputs": [
    {
     "name": "stdout",
     "output_type": "stream",
     "text": [
      "Address found:\n",
      "Schoenmarkt 35, 2000 Antwerpen\n"
     ]
    }
   ],
   "source": [
    "# Create the building instance from a valid address in Flanders\n",
    "while True:\n",
    "    input_address = 'Hofstraat 37, 2910 Essen'\n",
    "    input_address = 'Elzendreef 14, 2910 Essen'\n",
    "    input_address = 'Schoenmarkt 35, 2000 Antwerpen'\n",
    "    # input_address = 'dsfd'\n",
    "    # input_address = 'Elzendreef 14'\n",
    "    \n",
    "    # Get address as user input\n",
    "    # input_address = input()\n",
    "    if input_address == 'quit':  # exit the loop to quit\n",
    "        break\n",
    "    # Attempt initializing the Building object \n",
    "    building_obj = Building(input_address)\n",
    "    \n",
    "    # Display suggestions if there are multiple matching addresses.\n",
    "    if len(building_obj.suggestions[\"SuggestionResult\"])>1:\n",
    "        print(\"Did you mean one of the following addresses?:\")\n",
    "        print(*building_obj.suggestions['SuggestionResult'], sep=\"\\n\")\n",
    "    \n",
    "    # Exit the loop if a valid address is given\n",
    "    if building_obj.valid_address_conditional == True:\n",
    "        print(\"Address found:\")\n",
    "        print(building_obj)\n",
    "        break"
   ]
  },
  {
   "cell_type": "code",
   "execution_count": 7,
   "id": "77e3bd9b",
   "metadata": {},
   "outputs": [],
   "source": [
    "class CHM():\n",
    "    \"\"\"\n",
    "    A class to represent surface of a building\n",
    "    ...\n",
    "    Attributes\n",
    "    ----------\n",
    "     selected_building\n",
    "        An instance of class Building representing a building in Flanders\n",
    "\n",
    "    Methods\n",
    "    -------\n",
    "    dilate_building_polygon\n",
    "    get_masked_raster\n",
    "    get_CHM\n",
    "    \n",
    "    Methods\n",
    "    -------\n",
    "    xx\n",
    "        yyy\n",
    "    \"\"\"\n",
    "\n",
    "    dem_data_types = ['DSM', 'DTM']\n",
    "    \n",
    "    def __init__(self, selected_building, use_local_copy=False ):\n",
    "        \"\"\"\n",
    "        Initializes an instance of the class CHM (Canopy Height Model)\n",
    "        :param selected_building: An instance of class Building\n",
    "        \"\"\" \n",
    "        # Assign the building object\n",
    "        self.building = selected_building\n",
    "        \n",
    "        # Dilate the building polygon\n",
    "        dilation = 5  # in meters\n",
    "        self.dilate_building_polygon()\n",
    "        \n",
    "        # Load masked data for both DSM and DTM\n",
    "        self.file_links = []\n",
    "        self.masked_rasters = []\n",
    "        self.masked_transforms = []\n",
    "        self.nodata_values = []\n",
    "        for dem_data_type in self.dem_data_types:\n",
    "            file_link = self.building.metadata_building[dem_data_type.lower()+\"_file_link\"].values[0]\n",
    "            # If use_local_copy is True, a local copy of the zip file can be used\n",
    "            \n",
    "            if use_local_copy:\n",
    "                # file_link = self.get_local_zip_file_path(file_link)\n",
    "                if dem_data_type == 'DSM':\n",
    "                    file_link = 'zip+C:\\\\Users\\\\ecebo\\\\MyRepos\\\\3D_houses\\\\data\\\\dhm-vlaanderen-ii-dsm-raster-1m/DHMVIIDSMRAS1m_k15.zip!/GeoTIFF/DHMVIIDSMRAS1m_k15.tif'\n",
    "                else:\n",
    "                    file_link = 'zip+C:\\\\Users\\\\ecebo\\\\MyRepos\\\\3D_houses\\\\data\\\\dhm-vlaanderen-ii-dsm-raster-1m/DHMVIIDTMRAS1m_k15.zip!/GeoTIFF/DHMVIIDTMRAS1m_k15.tif'\n",
    "    \n",
    "            self.file_links.append(file_link)\n",
    "            masked_raster, masked_transform, nodata_value = self.get_masked_raster(file_link)\n",
    "            self.masked_rasters.append(masked_raster)\n",
    "            self.masked_transforms.append(masked_transform)\n",
    "            self.nodata_values.append(nodata_value)\n",
    "        \n",
    "        # Calculate the CHM (Canopy Height Model) from DSM and DTM data\n",
    "        self.get_CHM()\n",
    "        \n",
    "        # Calculate the height of the building\n",
    "        self.height = np.nanmax(self.masked_raster_chm)\n",
    "\n",
    "    def __str__(self):\n",
    "        \"\"\"\n",
    "        Prints the address\n",
    "        \"\"\"\n",
    "        return f\"{self.building.address}, maximum height: {self.height}\"\n",
    "    \n",
    "    def dilate_building_polygon(self, dilation=2):\n",
    "        \n",
    "        self.dilated_polygon = self.building.building_polygon.buffer(dilation)\n",
    "\n",
    "    \n",
    "    def get_masked_raster(self, file_link):\n",
    "        \n",
    "        # GeoTIFF file path\n",
    "        file_path = file_link\n",
    "        \n",
    "        # Polygon for masking\n",
    "        dilated_polygon = self.dilated_polygon\n",
    "\n",
    "        # Access the TIFF file\n",
    "        try:\n",
    "            with rs.open(file_path) as src:\n",
    "                # Mask the file with the dilated polygon\n",
    "                nodata_value = src.nodata\n",
    "                masked_raster, masked_transform = rs_mask(src, [dilated_polygon], \n",
    "                                                          all_touched=True, nodata = nodata_value, \n",
    "                                                          filled=True, crop=True, \n",
    "                                                          pad=True, indexes=1)\n",
    "        except:\n",
    "            masked_raster, masked_transform = np.ndarray(0), np.ndarray(0)\n",
    "            nodata_value = np.nan\n",
    "        \n",
    "        return masked_raster, masked_transform, nodata_value\n",
    "    \n",
    "    def get_local_zip_file_path(self, file_link):\n",
    "        \n",
    "        local_file_link = ''\n",
    "        return local_file_link\n",
    "    \n",
    "    def get_CHM(self):\n",
    "        \n",
    "        # Subtract the DSM data from DTM\n",
    "        self.masked_raster_chm = self.masked_rasters[0] - self.masked_rasters[1]\n",
    "        # Set values out of the mask to numpy nan\n",
    "        mask_nodata = self.masked_rasters[0]==self.nodata_values[0]\n",
    "        self.masked_raster_chm[mask_nodata] = np.nan\n",
    "        \n",
    "    def plot_CHM_3d(self):\n",
    "        \n",
    "        z_data = self.masked_raster_chm\n",
    "        x, y = np.arange(z_data.shape[1]),np.arange(z_data.shape[0])\n",
    "        fig = go.Figure(data=[go.Surface(z=z_data, x=x, y=y)])\n",
    "        fig.update_layout(title='a', autosize=True)\n",
    "        fig.show()\n",
    "        \n",
    "        return fig\n",
    "        "
   ]
  },
  {
   "cell_type": "code",
   "execution_count": null,
   "id": "ef49aea4",
   "metadata": {},
   "outputs": [],
   "source": [
    "tStart = timeit.default_timer()\n",
    "building_CHM_model = CHM(building_obj, use_local_copy=False)\n",
    "# building_CHM_model.__dict__\n",
    "tStop = timeit.default_timer()\n",
    "print(tStop-tStart)"
   ]
  },
  {
   "cell_type": "code",
   "execution_count": null,
   "id": "9741ba65",
   "metadata": {
    "scrolled": true
   },
   "outputs": [],
   "source": [
    "building_CHM_model.file_links[0]"
   ]
  },
  {
   "cell_type": "code",
   "execution_count": 68,
   "id": "fa658eef",
   "metadata": {},
   "outputs": [
    {
     "data": {
      "text/plain": [
       "'zip+C:\\\\Users\\\\ecebo\\\\MyRepos\\\\3D_houses\\\\data\\\\dhm-vlaanderen-ii-dsm-raster-1m/DHMVIIDSMRAS1m_k15.zip!/GeoTIFF/DHMVIIDSMRAS1m_k15.tif'"
      ]
     },
     "execution_count": 68,
     "metadata": {},
     "output_type": "execute_result"
    }
   ],
   "source": [
    "building_CHM_model.file_links[0]"
   ]
  },
  {
   "cell_type": "code",
   "execution_count": 50,
   "id": "68bb7b11",
   "metadata": {},
   "outputs": [
    {
     "name": "stdout",
     "output_type": "stream",
     "text": [
      "Schoenmarkt 35, 2000 Antwerpen\n"
     ]
    },
    {
     "data": {
      "application/vnd.plotly.v1+json": {
       "config": {
        "plotlyServerURL": "https://plot.ly"
       },
       "data": [
        {
         "type": "surface",
         "x": [
          0,
          1,
          2,
          3,
          4,
          5,
          6,
          7,
          8,
          9,
          10,
          11,
          12,
          13,
          14,
          15,
          16,
          17,
          18,
          19,
          20,
          21,
          22,
          23,
          24,
          25
         ],
         "y": [
          0,
          1,
          2,
          3,
          4,
          5,
          6,
          7,
          8,
          9,
          10,
          11,
          12,
          13,
          14,
          15,
          16,
          17,
          18,
          19,
          20,
          21,
          22,
          23,
          24,
          25
         ],
         "z": [
          [
           null,
           null,
           null,
           null,
           null,
           null,
           null,
           null,
           null,
           null,
           null,
           null,
           null,
           null,
           null,
           null,
           null,
           null,
           null,
           null,
           null,
           null,
           null,
           null,
           null,
           null
          ],
          [
           null,
           null,
           null,
           null,
           null,
           null,
           null,
           null,
           null,
           null,
           null,
           null,
           40.31706619262695,
           40.32890319824219,
           40.33700180053711,
           45.183502197265625,
           57.839508056640625,
           null,
           null,
           null,
           null,
           null,
           null,
           null,
           null,
           null
          ],
          [
           null,
           null,
           null,
           null,
           null,
           null,
           null,
           null,
           null,
           null,
           null,
           40.29340744018555,
           40.30738830566406,
           42.45919418334961,
           87.16046142578125,
           65.44325256347656,
           64.88935089111328,
           64.90839385986328,
           null,
           null,
           null,
           null,
           null,
           null,
           null,
           null
          ],
          [
           null,
           null,
           null,
           null,
           null,
           null,
           null,
           null,
           null,
           41.17173385620117,
           40.36689758300781,
           67.02824401855469,
           82.13485717773438,
           74.49510955810547,
           86.90607452392578,
           77.49842834472656,
           64.91444396972656,
           64.92365264892578,
           64.88529968261719,
           null,
           null,
           null,
           null,
           null,
           null,
           null
          ],
          [
           null,
           null,
           null,
           null,
           null,
           null,
           null,
           null,
           31.59963607788086,
           81.08856201171875,
           72.5425796508789,
           85.05520629882812,
           86.89173126220703,
           86.60318756103516,
           86.68385314941406,
           87.1593246459961,
           66.2116928100586,
           64.95113372802734,
           64.90144348144531,
           null,
           null,
           null,
           null,
           null,
           null,
           null
          ],
          [
           null,
           null,
           null,
           null,
           null,
           null,
           31.621726989746094,
           31.857133865356445,
           76.4557876586914,
           79.2446060180664,
           89.61654663085938,
           86.09860229492188,
           91.01508331298828,
           96.83673858642578,
           91.2978744506836,
           86.07299041748047,
           77.17536163330078,
           66.5251235961914,
           65.29430389404297,
           65.53034210205078,
           null,
           null,
           null,
           null,
           null,
           null
          ],
          [
           null,
           null,
           null,
           null,
           null,
           40.23583221435547,
           42.827125549316406,
           87.94253540039062,
           75.68128967285156,
           89.08020782470703,
           93.463623046875,
           95.72499084472656,
           96.87252044677734,
           96.60401916503906,
           96.6558837890625,
           93.900634765625,
           88.09662628173828,
           88.24295043945312,
           65.62097930908203,
           65.0474853515625,
           64.3327407836914,
           null,
           null,
           null,
           null,
           null
          ],
          [
           null,
           null,
           null,
           40.258018493652344,
           40.256805419921875,
           50.041202545166016,
           81.58251953125,
           89.12781524658203,
           92.0965576171875,
           91.64546966552734,
           92.58882904052734,
           96.91508483886719,
           96.86805725097656,
           96.22931671142578,
           96.87999725341797,
           96.91633605957031,
           92.3523178100586,
           89.11878967285156,
           89.20564270019531,
           71.91258239746094,
           63.518280029296875,
           null,
           null,
           null,
           null,
           null
          ],
          [
           null,
           null,
           40.284000396728516,
           40.27499771118164,
           65.933837890625,
           77.01593017578125,
           87.20002746582031,
           91.9551773071289,
           96.05391693115234,
           96.92280578613281,
           96.90611267089844,
           96.84233093261719,
           96.7647476196289,
           96.28660583496094,
           96.76700592041016,
           96.91402435302734,
           95.51993560791016,
           89.39044952392578,
           89.09225463867188,
           87.01972961425781,
           78.02583312988281,
           64.51699829101562,
           null,
           null,
           null,
           null
          ],
          [
           null,
           40.2796745300293,
           65.28120422363281,
           46.142051696777344,
           84.55081176757812,
           87.51287078857422,
           92.044921875,
           93.82221984863281,
           96.92083740234375,
           96.93961334228516,
           96.5827407836914,
           96.40882873535156,
           96.0389633178711,
           96.03202056884766,
           96.0320816040039,
           96.87652587890625,
           96.88566589355469,
           96.41633605957031,
           89.11687469482422,
           89.21492767333984,
           86.05140686035156,
           64.89232635498047,
           null,
           null,
           null,
           null
          ],
          [
           null,
           42.45649719238281,
           73.12823486328125,
           87.27898406982422,
           87.67776489257812,
           93.35995483398438,
           96.73204040527344,
           96.72145080566406,
           96.42808532714844,
           96.02677154541016,
           96.02971649169922,
           96.05565643310547,
           96.02542877197266,
           96.0643310546875,
           96.02818298339844,
           96.2020492553711,
           96.90249633789062,
           96.89348602294922,
           93.57625579833984,
           89.34127807617188,
           79.2381362915039,
           65.08877563476562,
           65.99553680419922,
           null,
           null,
           null
          ],
          [
           null,
           64.96856689453125,
           65.00032806396484,
           78.95108032226562,
           87.06990051269531,
           87.27198028564453,
           96.79405975341797,
           96.78961181640625,
           96.6207046508789,
           95.9793930053711,
           96.00230407714844,
           96.02822875976562,
           96.07817077636719,
           96.046875,
           95.99073791503906,
           95.9542465209961,
           96.75115203857422,
           96.89662170410156,
           95.92852783203125,
           89.15385437011719,
           82.09113311767578,
           65.1113510131836,
           64.92215728759766,
           66.0127944946289,
           null,
           null
          ],
          [
           null,
           65.2967529296875,
           65.00872802734375,
           65.82930755615234,
           86.04802703857422,
           86.12020874023438,
           95.55219268798828,
           96.91757202148438,
           96.86703491210938,
           95.99019622802734,
           96.00017547607422,
           96.02569580078125,
           96.60482025146484,
           96.07365417480469,
           96.04325103759766,
           95.96907806396484,
           95.92543029785156,
           96.90277099609375,
           96.59280395507812,
           92.30352783203125,
           87.04644775390625,
           77.24649810791016,
           64.94751739501953,
           64.95978546142578,
           null,
           null
          ],
          [
           null,
           null,
           65.4810791015625,
           65.51161193847656,
           65.49028015136719,
           87.16214752197266,
           91.7139892578125,
           96.909423828125,
           96.9188003540039,
           96.78248596191406,
           96.0155258178711,
           96.01836395263672,
           96.01776885986328,
           96.06608581542969,
           96.05577850341797,
           96.04715728759766,
           96.78775024414062,
           96.57806396484375,
           96.58477020263672,
           96.82557678222656,
           85.95936584472656,
           87.14874267578125,
           73.5595474243164,
           62.323089599609375,
           4.188092231750488,
           null
          ],
          [
           null,
           null,
           null,
           65.84371948242188,
           65.39244079589844,
           80.26415252685547,
           89.095947265625,
           90.86141204833984,
           96.88074493408203,
           96.89041137695312,
           96.12814331054688,
           96.05419921875,
           96.03086853027344,
           96.0588150024414,
           96.11844635009766,
           96.79132080078125,
           96.81037902832031,
           95.16968536376953,
           86.38636779785156,
           85.90840148925781,
           86.87325286865234,
           77.63166046142578,
           75.09078216552734,
           4.225518226623535,
           2.135110855102539,
           null
          ],
          [
           null,
           null,
           null,
           65.02684020996094,
           67.54552459716797,
           87.18685150146484,
           89.08846282958984,
           89.10403442382812,
           90.92323303222656,
           96.89274597167969,
           96.90685272216797,
           96.04725646972656,
           96.0972900390625,
           96.72237396240234,
           96.87203216552734,
           96.84507751464844,
           96.81349182128906,
           91.11274719238281,
           85.886962890625,
           49.671470642089844,
           84.40963745117188,
           7.413135051727295,
           0.7199997901916504,
           2.260000228881836,
           1.4599995613098145,
           null
          ],
          [
           null,
           null,
           null,
           null,
           64.57595825195312,
           74.17723846435547,
           88.58876037597656,
           89.09432220458984,
           90.29341125488281,
           96.89281463623047,
           96.88700103759766,
           96.40660095214844,
           96.76810455322266,
           96.8866958618164,
           96.71283721923828,
           94.49539184570312,
           93.77676391601562,
           89.12190246582031,
           88.75333404541016,
           53.00857162475586,
           34.7599983215332,
           2.010000228881836,
           0,
           3.020000457763672,
           0,
           null
          ],
          [
           null,
           null,
           null,
           null,
           null,
           64.06887817382812,
           82.6104507446289,
           89.06614685058594,
           89.15523529052734,
           93.28450012207031,
           96.74851989746094,
           96.55532836914062,
           90.38951873779297,
           91.59901428222656,
           91.80711364746094,
           89.06101989746094,
           89.08972930908203,
           27.177127838134766,
           16.30000114440918,
           1.6100001335144043,
           0,
           2.3299999237060547,
           2.2599997520446777,
           0,
           null,
           null
          ],
          [
           null,
           null,
           null,
           null,
           null,
           63.74970245361328,
           65.62103271484375,
           64.90653991699219,
           87.64529418945312,
           89.26415252685547,
           94.17803955078125,
           90.67493438720703,
           87.72894287109375,
           90.97821044921875,
           89.05862426757812,
           71.53736114501953,
           74.80999755859375,
           55.97999954223633,
           0.029999732971191406,
           0.9899997711181641,
           1.7699999809265137,
           0,
           null,
           null,
           null,
           null
          ],
          [
           null,
           null,
           null,
           null,
           null,
           null,
           64.85785675048828,
           64.87307739257812,
           68.0417709350586,
           87.14037322998047,
           85.94389343261719,
           88.40062713623047,
           77.51473999023438,
           68.73387908935547,
           81.80328369140625,
           21.810001373291016,
           0.010000228881835938,
           -0.019999980926513672,
           0.4100003242492676,
           0.5199999809265137,
           3.5099997520446777,
           null,
           null,
           null,
           null,
           null
          ],
          [
           null,
           null,
           null,
           null,
           null,
           null,
           null,
           64.90555572509766,
           64.90727233886719,
           66.58556365966797,
           86.78811645507812,
           87.01309204101562,
           79.43673706054688,
           46.76187515258789,
           2.4600000381469727,
           1.0399999618530273,
           0.059999942779541016,
           0.05000019073486328,
           2.9800000190734863,
           null,
           null,
           null,
           null,
           null,
           null,
           null
          ],
          [
           null,
           null,
           null,
           null,
           null,
           null,
           null,
           64.91264343261719,
           64.93175506591797,
           64.95703125,
           87.48617553710938,
           30.5799617767334,
           36.090003967285156,
           2.2599997520446777,
           0,
           0,
           0.9400005340576172,
           1.5299997329711914,
           null,
           null,
           null,
           null,
           null,
           null,
           null,
           null
          ],
          [
           null,
           null,
           null,
           null,
           null,
           null,
           null,
           null,
           63.929683685302734,
           54.70584487915039,
           12.670000076293945,
           6.531516075134277,
           0,
           0,
           1.5399999618530273,
           2.2199997901916504,
           null,
           null,
           null,
           null,
           null,
           null,
           null,
           null,
           null,
           null
          ],
          [
           null,
           null,
           null,
           null,
           null,
           null,
           null,
           null,
           null,
           4.202571392059326,
           2.773909568786621,
           3.5999999046325684,
           0,
           0.06999969482421875,
           0.15999984741210938,
           null,
           null,
           null,
           null,
           null,
           null,
           null,
           null,
           null,
           null,
           null
          ],
          [
           null,
           null,
           null,
           null,
           null,
           null,
           null,
           null,
           null,
           3.613821029663086,
           3.6499996185302734,
           0.9500002861022949,
           0,
           null,
           null,
           null,
           null,
           null,
           null,
           null,
           null,
           null,
           null,
           null,
           null,
           null
          ],
          [
           null,
           null,
           null,
           null,
           null,
           null,
           null,
           null,
           null,
           null,
           null,
           null,
           null,
           null,
           null,
           null,
           null,
           null,
           null,
           null,
           null,
           null,
           null,
           null,
           null,
           null
          ]
         ]
        }
       ],
       "layout": {
        "autosize": true,
        "template": {
         "data": {
          "bar": [
           {
            "error_x": {
             "color": "#2a3f5f"
            },
            "error_y": {
             "color": "#2a3f5f"
            },
            "marker": {
             "line": {
              "color": "#E5ECF6",
              "width": 0.5
             },
             "pattern": {
              "fillmode": "overlay",
              "size": 10,
              "solidity": 0.2
             }
            },
            "type": "bar"
           }
          ],
          "barpolar": [
           {
            "marker": {
             "line": {
              "color": "#E5ECF6",
              "width": 0.5
             },
             "pattern": {
              "fillmode": "overlay",
              "size": 10,
              "solidity": 0.2
             }
            },
            "type": "barpolar"
           }
          ],
          "carpet": [
           {
            "aaxis": {
             "endlinecolor": "#2a3f5f",
             "gridcolor": "white",
             "linecolor": "white",
             "minorgridcolor": "white",
             "startlinecolor": "#2a3f5f"
            },
            "baxis": {
             "endlinecolor": "#2a3f5f",
             "gridcolor": "white",
             "linecolor": "white",
             "minorgridcolor": "white",
             "startlinecolor": "#2a3f5f"
            },
            "type": "carpet"
           }
          ],
          "choropleth": [
           {
            "colorbar": {
             "outlinewidth": 0,
             "ticks": ""
            },
            "type": "choropleth"
           }
          ],
          "contour": [
           {
            "colorbar": {
             "outlinewidth": 0,
             "ticks": ""
            },
            "colorscale": [
             [
              0,
              "#0d0887"
             ],
             [
              0.1111111111111111,
              "#46039f"
             ],
             [
              0.2222222222222222,
              "#7201a8"
             ],
             [
              0.3333333333333333,
              "#9c179e"
             ],
             [
              0.4444444444444444,
              "#bd3786"
             ],
             [
              0.5555555555555556,
              "#d8576b"
             ],
             [
              0.6666666666666666,
              "#ed7953"
             ],
             [
              0.7777777777777778,
              "#fb9f3a"
             ],
             [
              0.8888888888888888,
              "#fdca26"
             ],
             [
              1,
              "#f0f921"
             ]
            ],
            "type": "contour"
           }
          ],
          "contourcarpet": [
           {
            "colorbar": {
             "outlinewidth": 0,
             "ticks": ""
            },
            "type": "contourcarpet"
           }
          ],
          "heatmap": [
           {
            "colorbar": {
             "outlinewidth": 0,
             "ticks": ""
            },
            "colorscale": [
             [
              0,
              "#0d0887"
             ],
             [
              0.1111111111111111,
              "#46039f"
             ],
             [
              0.2222222222222222,
              "#7201a8"
             ],
             [
              0.3333333333333333,
              "#9c179e"
             ],
             [
              0.4444444444444444,
              "#bd3786"
             ],
             [
              0.5555555555555556,
              "#d8576b"
             ],
             [
              0.6666666666666666,
              "#ed7953"
             ],
             [
              0.7777777777777778,
              "#fb9f3a"
             ],
             [
              0.8888888888888888,
              "#fdca26"
             ],
             [
              1,
              "#f0f921"
             ]
            ],
            "type": "heatmap"
           }
          ],
          "heatmapgl": [
           {
            "colorbar": {
             "outlinewidth": 0,
             "ticks": ""
            },
            "colorscale": [
             [
              0,
              "#0d0887"
             ],
             [
              0.1111111111111111,
              "#46039f"
             ],
             [
              0.2222222222222222,
              "#7201a8"
             ],
             [
              0.3333333333333333,
              "#9c179e"
             ],
             [
              0.4444444444444444,
              "#bd3786"
             ],
             [
              0.5555555555555556,
              "#d8576b"
             ],
             [
              0.6666666666666666,
              "#ed7953"
             ],
             [
              0.7777777777777778,
              "#fb9f3a"
             ],
             [
              0.8888888888888888,
              "#fdca26"
             ],
             [
              1,
              "#f0f921"
             ]
            ],
            "type": "heatmapgl"
           }
          ],
          "histogram": [
           {
            "marker": {
             "pattern": {
              "fillmode": "overlay",
              "size": 10,
              "solidity": 0.2
             }
            },
            "type": "histogram"
           }
          ],
          "histogram2d": [
           {
            "colorbar": {
             "outlinewidth": 0,
             "ticks": ""
            },
            "colorscale": [
             [
              0,
              "#0d0887"
             ],
             [
              0.1111111111111111,
              "#46039f"
             ],
             [
              0.2222222222222222,
              "#7201a8"
             ],
             [
              0.3333333333333333,
              "#9c179e"
             ],
             [
              0.4444444444444444,
              "#bd3786"
             ],
             [
              0.5555555555555556,
              "#d8576b"
             ],
             [
              0.6666666666666666,
              "#ed7953"
             ],
             [
              0.7777777777777778,
              "#fb9f3a"
             ],
             [
              0.8888888888888888,
              "#fdca26"
             ],
             [
              1,
              "#f0f921"
             ]
            ],
            "type": "histogram2d"
           }
          ],
          "histogram2dcontour": [
           {
            "colorbar": {
             "outlinewidth": 0,
             "ticks": ""
            },
            "colorscale": [
             [
              0,
              "#0d0887"
             ],
             [
              0.1111111111111111,
              "#46039f"
             ],
             [
              0.2222222222222222,
              "#7201a8"
             ],
             [
              0.3333333333333333,
              "#9c179e"
             ],
             [
              0.4444444444444444,
              "#bd3786"
             ],
             [
              0.5555555555555556,
              "#d8576b"
             ],
             [
              0.6666666666666666,
              "#ed7953"
             ],
             [
              0.7777777777777778,
              "#fb9f3a"
             ],
             [
              0.8888888888888888,
              "#fdca26"
             ],
             [
              1,
              "#f0f921"
             ]
            ],
            "type": "histogram2dcontour"
           }
          ],
          "mesh3d": [
           {
            "colorbar": {
             "outlinewidth": 0,
             "ticks": ""
            },
            "type": "mesh3d"
           }
          ],
          "parcoords": [
           {
            "line": {
             "colorbar": {
              "outlinewidth": 0,
              "ticks": ""
             }
            },
            "type": "parcoords"
           }
          ],
          "pie": [
           {
            "automargin": true,
            "type": "pie"
           }
          ],
          "scatter": [
           {
            "marker": {
             "colorbar": {
              "outlinewidth": 0,
              "ticks": ""
             }
            },
            "type": "scatter"
           }
          ],
          "scatter3d": [
           {
            "line": {
             "colorbar": {
              "outlinewidth": 0,
              "ticks": ""
             }
            },
            "marker": {
             "colorbar": {
              "outlinewidth": 0,
              "ticks": ""
             }
            },
            "type": "scatter3d"
           }
          ],
          "scattercarpet": [
           {
            "marker": {
             "colorbar": {
              "outlinewidth": 0,
              "ticks": ""
             }
            },
            "type": "scattercarpet"
           }
          ],
          "scattergeo": [
           {
            "marker": {
             "colorbar": {
              "outlinewidth": 0,
              "ticks": ""
             }
            },
            "type": "scattergeo"
           }
          ],
          "scattergl": [
           {
            "marker": {
             "colorbar": {
              "outlinewidth": 0,
              "ticks": ""
             }
            },
            "type": "scattergl"
           }
          ],
          "scattermapbox": [
           {
            "marker": {
             "colorbar": {
              "outlinewidth": 0,
              "ticks": ""
             }
            },
            "type": "scattermapbox"
           }
          ],
          "scatterpolar": [
           {
            "marker": {
             "colorbar": {
              "outlinewidth": 0,
              "ticks": ""
             }
            },
            "type": "scatterpolar"
           }
          ],
          "scatterpolargl": [
           {
            "marker": {
             "colorbar": {
              "outlinewidth": 0,
              "ticks": ""
             }
            },
            "type": "scatterpolargl"
           }
          ],
          "scatterternary": [
           {
            "marker": {
             "colorbar": {
              "outlinewidth": 0,
              "ticks": ""
             }
            },
            "type": "scatterternary"
           }
          ],
          "surface": [
           {
            "colorbar": {
             "outlinewidth": 0,
             "ticks": ""
            },
            "colorscale": [
             [
              0,
              "#0d0887"
             ],
             [
              0.1111111111111111,
              "#46039f"
             ],
             [
              0.2222222222222222,
              "#7201a8"
             ],
             [
              0.3333333333333333,
              "#9c179e"
             ],
             [
              0.4444444444444444,
              "#bd3786"
             ],
             [
              0.5555555555555556,
              "#d8576b"
             ],
             [
              0.6666666666666666,
              "#ed7953"
             ],
             [
              0.7777777777777778,
              "#fb9f3a"
             ],
             [
              0.8888888888888888,
              "#fdca26"
             ],
             [
              1,
              "#f0f921"
             ]
            ],
            "type": "surface"
           }
          ],
          "table": [
           {
            "cells": {
             "fill": {
              "color": "#EBF0F8"
             },
             "line": {
              "color": "white"
             }
            },
            "header": {
             "fill": {
              "color": "#C8D4E3"
             },
             "line": {
              "color": "white"
             }
            },
            "type": "table"
           }
          ]
         },
         "layout": {
          "annotationdefaults": {
           "arrowcolor": "#2a3f5f",
           "arrowhead": 0,
           "arrowwidth": 1
          },
          "autotypenumbers": "strict",
          "coloraxis": {
           "colorbar": {
            "outlinewidth": 0,
            "ticks": ""
           }
          },
          "colorscale": {
           "diverging": [
            [
             0,
             "#8e0152"
            ],
            [
             0.1,
             "#c51b7d"
            ],
            [
             0.2,
             "#de77ae"
            ],
            [
             0.3,
             "#f1b6da"
            ],
            [
             0.4,
             "#fde0ef"
            ],
            [
             0.5,
             "#f7f7f7"
            ],
            [
             0.6,
             "#e6f5d0"
            ],
            [
             0.7,
             "#b8e186"
            ],
            [
             0.8,
             "#7fbc41"
            ],
            [
             0.9,
             "#4d9221"
            ],
            [
             1,
             "#276419"
            ]
           ],
           "sequential": [
            [
             0,
             "#0d0887"
            ],
            [
             0.1111111111111111,
             "#46039f"
            ],
            [
             0.2222222222222222,
             "#7201a8"
            ],
            [
             0.3333333333333333,
             "#9c179e"
            ],
            [
             0.4444444444444444,
             "#bd3786"
            ],
            [
             0.5555555555555556,
             "#d8576b"
            ],
            [
             0.6666666666666666,
             "#ed7953"
            ],
            [
             0.7777777777777778,
             "#fb9f3a"
            ],
            [
             0.8888888888888888,
             "#fdca26"
            ],
            [
             1,
             "#f0f921"
            ]
           ],
           "sequentialminus": [
            [
             0,
             "#0d0887"
            ],
            [
             0.1111111111111111,
             "#46039f"
            ],
            [
             0.2222222222222222,
             "#7201a8"
            ],
            [
             0.3333333333333333,
             "#9c179e"
            ],
            [
             0.4444444444444444,
             "#bd3786"
            ],
            [
             0.5555555555555556,
             "#d8576b"
            ],
            [
             0.6666666666666666,
             "#ed7953"
            ],
            [
             0.7777777777777778,
             "#fb9f3a"
            ],
            [
             0.8888888888888888,
             "#fdca26"
            ],
            [
             1,
             "#f0f921"
            ]
           ]
          },
          "colorway": [
           "#636efa",
           "#EF553B",
           "#00cc96",
           "#ab63fa",
           "#FFA15A",
           "#19d3f3",
           "#FF6692",
           "#B6E880",
           "#FF97FF",
           "#FECB52"
          ],
          "font": {
           "color": "#2a3f5f"
          },
          "geo": {
           "bgcolor": "white",
           "lakecolor": "white",
           "landcolor": "#E5ECF6",
           "showlakes": true,
           "showland": true,
           "subunitcolor": "white"
          },
          "hoverlabel": {
           "align": "left"
          },
          "hovermode": "closest",
          "mapbox": {
           "style": "light"
          },
          "paper_bgcolor": "white",
          "plot_bgcolor": "#E5ECF6",
          "polar": {
           "angularaxis": {
            "gridcolor": "white",
            "linecolor": "white",
            "ticks": ""
           },
           "bgcolor": "#E5ECF6",
           "radialaxis": {
            "gridcolor": "white",
            "linecolor": "white",
            "ticks": ""
           }
          },
          "scene": {
           "xaxis": {
            "backgroundcolor": "#E5ECF6",
            "gridcolor": "white",
            "gridwidth": 2,
            "linecolor": "white",
            "showbackground": true,
            "ticks": "",
            "zerolinecolor": "white"
           },
           "yaxis": {
            "backgroundcolor": "#E5ECF6",
            "gridcolor": "white",
            "gridwidth": 2,
            "linecolor": "white",
            "showbackground": true,
            "ticks": "",
            "zerolinecolor": "white"
           },
           "zaxis": {
            "backgroundcolor": "#E5ECF6",
            "gridcolor": "white",
            "gridwidth": 2,
            "linecolor": "white",
            "showbackground": true,
            "ticks": "",
            "zerolinecolor": "white"
           }
          },
          "shapedefaults": {
           "line": {
            "color": "#2a3f5f"
           }
          },
          "ternary": {
           "aaxis": {
            "gridcolor": "white",
            "linecolor": "white",
            "ticks": ""
           },
           "baxis": {
            "gridcolor": "white",
            "linecolor": "white",
            "ticks": ""
           },
           "bgcolor": "#E5ECF6",
           "caxis": {
            "gridcolor": "white",
            "linecolor": "white",
            "ticks": ""
           }
          },
          "title": {
           "x": 0.05
          },
          "xaxis": {
           "automargin": true,
           "gridcolor": "white",
           "linecolor": "white",
           "ticks": "",
           "title": {
            "standoff": 15
           },
           "zerolinecolor": "white",
           "zerolinewidth": 2
          },
          "yaxis": {
           "automargin": true,
           "gridcolor": "white",
           "linecolor": "white",
           "ticks": "",
           "title": {
            "standoff": 15
           },
           "zerolinecolor": "white",
           "zerolinewidth": 2
          }
         }
        },
        "title": {}
       }
      },
      "text/html": [
       "<div>                            <div id=\"b39c5da6-ae55-4ada-bf50-becb531d03a3\" class=\"plotly-graph-div\" style=\"height:525px; width:100%;\"></div>            <script type=\"text/javascript\">                require([\"plotly\"], function(Plotly) {                    window.PLOTLYENV=window.PLOTLYENV || {};                                    if (document.getElementById(\"b39c5da6-ae55-4ada-bf50-becb531d03a3\")) {                    Plotly.newPlot(                        \"b39c5da6-ae55-4ada-bf50-becb531d03a3\",                        [{\"type\":\"surface\",\"x\":[0,1,2,3,4,5,6,7,8,9,10,11,12,13,14,15,16,17,18,19,20,21,22,23,24,25],\"y\":[0,1,2,3,4,5,6,7,8,9,10,11,12,13,14,15,16,17,18,19,20,21,22,23,24,25],\"z\":[[null,null,null,null,null,null,null,null,null,null,null,null,null,null,null,null,null,null,null,null,null,null,null,null,null,null],[null,null,null,null,null,null,null,null,null,null,null,null,40.31706619262695,40.32890319824219,40.33700180053711,45.183502197265625,57.839508056640625,null,null,null,null,null,null,null,null,null],[null,null,null,null,null,null,null,null,null,null,null,40.29340744018555,40.30738830566406,42.45919418334961,87.16046142578125,65.44325256347656,64.88935089111328,64.90839385986328,null,null,null,null,null,null,null,null],[null,null,null,null,null,null,null,null,null,41.17173385620117,40.36689758300781,67.02824401855469,82.13485717773438,74.49510955810547,86.90607452392578,77.49842834472656,64.91444396972656,64.92365264892578,64.88529968261719,null,null,null,null,null,null,null],[null,null,null,null,null,null,null,null,31.59963607788086,81.08856201171875,72.5425796508789,85.05520629882812,86.89173126220703,86.60318756103516,86.68385314941406,87.1593246459961,66.2116928100586,64.95113372802734,64.90144348144531,null,null,null,null,null,null,null],[null,null,null,null,null,null,31.621726989746094,31.857133865356445,76.4557876586914,79.2446060180664,89.61654663085938,86.09860229492188,91.01508331298828,96.83673858642578,91.2978744506836,86.07299041748047,77.17536163330078,66.5251235961914,65.29430389404297,65.53034210205078,null,null,null,null,null,null],[null,null,null,null,null,40.23583221435547,42.827125549316406,87.94253540039062,75.68128967285156,89.08020782470703,93.463623046875,95.72499084472656,96.87252044677734,96.60401916503906,96.6558837890625,93.900634765625,88.09662628173828,88.24295043945312,65.62097930908203,65.0474853515625,64.3327407836914,null,null,null,null,null],[null,null,null,40.258018493652344,40.256805419921875,50.041202545166016,81.58251953125,89.12781524658203,92.0965576171875,91.64546966552734,92.58882904052734,96.91508483886719,96.86805725097656,96.22931671142578,96.87999725341797,96.91633605957031,92.3523178100586,89.11878967285156,89.20564270019531,71.91258239746094,63.518280029296875,null,null,null,null,null],[null,null,40.284000396728516,40.27499771118164,65.933837890625,77.01593017578125,87.20002746582031,91.9551773071289,96.05391693115234,96.92280578613281,96.90611267089844,96.84233093261719,96.7647476196289,96.28660583496094,96.76700592041016,96.91402435302734,95.51993560791016,89.39044952392578,89.09225463867188,87.01972961425781,78.02583312988281,64.51699829101562,null,null,null,null],[null,40.2796745300293,65.28120422363281,46.142051696777344,84.55081176757812,87.51287078857422,92.044921875,93.82221984863281,96.92083740234375,96.93961334228516,96.5827407836914,96.40882873535156,96.0389633178711,96.03202056884766,96.0320816040039,96.87652587890625,96.88566589355469,96.41633605957031,89.11687469482422,89.21492767333984,86.05140686035156,64.89232635498047,null,null,null,null],[null,42.45649719238281,73.12823486328125,87.27898406982422,87.67776489257812,93.35995483398438,96.73204040527344,96.72145080566406,96.42808532714844,96.02677154541016,96.02971649169922,96.05565643310547,96.02542877197266,96.0643310546875,96.02818298339844,96.2020492553711,96.90249633789062,96.89348602294922,93.57625579833984,89.34127807617188,79.2381362915039,65.08877563476562,65.99553680419922,null,null,null],[null,64.96856689453125,65.00032806396484,78.95108032226562,87.06990051269531,87.27198028564453,96.79405975341797,96.78961181640625,96.6207046508789,95.9793930053711,96.00230407714844,96.02822875976562,96.07817077636719,96.046875,95.99073791503906,95.9542465209961,96.75115203857422,96.89662170410156,95.92852783203125,89.15385437011719,82.09113311767578,65.1113510131836,64.92215728759766,66.0127944946289,null,null],[null,65.2967529296875,65.00872802734375,65.82930755615234,86.04802703857422,86.12020874023438,95.55219268798828,96.91757202148438,96.86703491210938,95.99019622802734,96.00017547607422,96.02569580078125,96.60482025146484,96.07365417480469,96.04325103759766,95.96907806396484,95.92543029785156,96.90277099609375,96.59280395507812,92.30352783203125,87.04644775390625,77.24649810791016,64.94751739501953,64.95978546142578,null,null],[null,null,65.4810791015625,65.51161193847656,65.49028015136719,87.16214752197266,91.7139892578125,96.909423828125,96.9188003540039,96.78248596191406,96.0155258178711,96.01836395263672,96.01776885986328,96.06608581542969,96.05577850341797,96.04715728759766,96.78775024414062,96.57806396484375,96.58477020263672,96.82557678222656,85.95936584472656,87.14874267578125,73.5595474243164,62.323089599609375,4.188092231750488,null],[null,null,null,65.84371948242188,65.39244079589844,80.26415252685547,89.095947265625,90.86141204833984,96.88074493408203,96.89041137695312,96.12814331054688,96.05419921875,96.03086853027344,96.0588150024414,96.11844635009766,96.79132080078125,96.81037902832031,95.16968536376953,86.38636779785156,85.90840148925781,86.87325286865234,77.63166046142578,75.09078216552734,4.225518226623535,2.135110855102539,null],[null,null,null,65.02684020996094,67.54552459716797,87.18685150146484,89.08846282958984,89.10403442382812,90.92323303222656,96.89274597167969,96.90685272216797,96.04725646972656,96.0972900390625,96.72237396240234,96.87203216552734,96.84507751464844,96.81349182128906,91.11274719238281,85.886962890625,49.671470642089844,84.40963745117188,7.413135051727295,0.7199997901916504,2.260000228881836,1.4599995613098145,null],[null,null,null,null,64.57595825195312,74.17723846435547,88.58876037597656,89.09432220458984,90.29341125488281,96.89281463623047,96.88700103759766,96.40660095214844,96.76810455322266,96.8866958618164,96.71283721923828,94.49539184570312,93.77676391601562,89.12190246582031,88.75333404541016,53.00857162475586,34.7599983215332,2.010000228881836,0.0,3.020000457763672,0.0,null],[null,null,null,null,null,64.06887817382812,82.6104507446289,89.06614685058594,89.15523529052734,93.28450012207031,96.74851989746094,96.55532836914062,90.38951873779297,91.59901428222656,91.80711364746094,89.06101989746094,89.08972930908203,27.177127838134766,16.30000114440918,1.6100001335144043,0.0,2.3299999237060547,2.2599997520446777,0.0,null,null],[null,null,null,null,null,63.74970245361328,65.62103271484375,64.90653991699219,87.64529418945312,89.26415252685547,94.17803955078125,90.67493438720703,87.72894287109375,90.97821044921875,89.05862426757812,71.53736114501953,74.80999755859375,55.97999954223633,0.029999732971191406,0.9899997711181641,1.7699999809265137,0.0,null,null,null,null],[null,null,null,null,null,null,64.85785675048828,64.87307739257812,68.0417709350586,87.14037322998047,85.94389343261719,88.40062713623047,77.51473999023438,68.73387908935547,81.80328369140625,21.810001373291016,0.010000228881835938,-0.019999980926513672,0.4100003242492676,0.5199999809265137,3.5099997520446777,null,null,null,null,null],[null,null,null,null,null,null,null,64.90555572509766,64.90727233886719,66.58556365966797,86.78811645507812,87.01309204101562,79.43673706054688,46.76187515258789,2.4600000381469727,1.0399999618530273,0.059999942779541016,0.05000019073486328,2.9800000190734863,null,null,null,null,null,null,null],[null,null,null,null,null,null,null,64.91264343261719,64.93175506591797,64.95703125,87.48617553710938,30.5799617767334,36.090003967285156,2.2599997520446777,0.0,0.0,0.9400005340576172,1.5299997329711914,null,null,null,null,null,null,null,null],[null,null,null,null,null,null,null,null,63.929683685302734,54.70584487915039,12.670000076293945,6.531516075134277,0.0,0.0,1.5399999618530273,2.2199997901916504,null,null,null,null,null,null,null,null,null,null],[null,null,null,null,null,null,null,null,null,4.202571392059326,2.773909568786621,3.5999999046325684,0.0,0.06999969482421875,0.15999984741210938,null,null,null,null,null,null,null,null,null,null,null],[null,null,null,null,null,null,null,null,null,3.613821029663086,3.6499996185302734,0.9500002861022949,0.0,null,null,null,null,null,null,null,null,null,null,null,null,null],[null,null,null,null,null,null,null,null,null,null,null,null,null,null,null,null,null,null,null,null,null,null,null,null,null,null]]}],                        {\"autosize\":true,\"template\":{\"data\":{\"bar\":[{\"error_x\":{\"color\":\"#2a3f5f\"},\"error_y\":{\"color\":\"#2a3f5f\"},\"marker\":{\"line\":{\"color\":\"#E5ECF6\",\"width\":0.5},\"pattern\":{\"fillmode\":\"overlay\",\"size\":10,\"solidity\":0.2}},\"type\":\"bar\"}],\"barpolar\":[{\"marker\":{\"line\":{\"color\":\"#E5ECF6\",\"width\":0.5},\"pattern\":{\"fillmode\":\"overlay\",\"size\":10,\"solidity\":0.2}},\"type\":\"barpolar\"}],\"carpet\":[{\"aaxis\":{\"endlinecolor\":\"#2a3f5f\",\"gridcolor\":\"white\",\"linecolor\":\"white\",\"minorgridcolor\":\"white\",\"startlinecolor\":\"#2a3f5f\"},\"baxis\":{\"endlinecolor\":\"#2a3f5f\",\"gridcolor\":\"white\",\"linecolor\":\"white\",\"minorgridcolor\":\"white\",\"startlinecolor\":\"#2a3f5f\"},\"type\":\"carpet\"}],\"choropleth\":[{\"colorbar\":{\"outlinewidth\":0,\"ticks\":\"\"},\"type\":\"choropleth\"}],\"contour\":[{\"colorbar\":{\"outlinewidth\":0,\"ticks\":\"\"},\"colorscale\":[[0.0,\"#0d0887\"],[0.1111111111111111,\"#46039f\"],[0.2222222222222222,\"#7201a8\"],[0.3333333333333333,\"#9c179e\"],[0.4444444444444444,\"#bd3786\"],[0.5555555555555556,\"#d8576b\"],[0.6666666666666666,\"#ed7953\"],[0.7777777777777778,\"#fb9f3a\"],[0.8888888888888888,\"#fdca26\"],[1.0,\"#f0f921\"]],\"type\":\"contour\"}],\"contourcarpet\":[{\"colorbar\":{\"outlinewidth\":0,\"ticks\":\"\"},\"type\":\"contourcarpet\"}],\"heatmap\":[{\"colorbar\":{\"outlinewidth\":0,\"ticks\":\"\"},\"colorscale\":[[0.0,\"#0d0887\"],[0.1111111111111111,\"#46039f\"],[0.2222222222222222,\"#7201a8\"],[0.3333333333333333,\"#9c179e\"],[0.4444444444444444,\"#bd3786\"],[0.5555555555555556,\"#d8576b\"],[0.6666666666666666,\"#ed7953\"],[0.7777777777777778,\"#fb9f3a\"],[0.8888888888888888,\"#fdca26\"],[1.0,\"#f0f921\"]],\"type\":\"heatmap\"}],\"heatmapgl\":[{\"colorbar\":{\"outlinewidth\":0,\"ticks\":\"\"},\"colorscale\":[[0.0,\"#0d0887\"],[0.1111111111111111,\"#46039f\"],[0.2222222222222222,\"#7201a8\"],[0.3333333333333333,\"#9c179e\"],[0.4444444444444444,\"#bd3786\"],[0.5555555555555556,\"#d8576b\"],[0.6666666666666666,\"#ed7953\"],[0.7777777777777778,\"#fb9f3a\"],[0.8888888888888888,\"#fdca26\"],[1.0,\"#f0f921\"]],\"type\":\"heatmapgl\"}],\"histogram\":[{\"marker\":{\"pattern\":{\"fillmode\":\"overlay\",\"size\":10,\"solidity\":0.2}},\"type\":\"histogram\"}],\"histogram2d\":[{\"colorbar\":{\"outlinewidth\":0,\"ticks\":\"\"},\"colorscale\":[[0.0,\"#0d0887\"],[0.1111111111111111,\"#46039f\"],[0.2222222222222222,\"#7201a8\"],[0.3333333333333333,\"#9c179e\"],[0.4444444444444444,\"#bd3786\"],[0.5555555555555556,\"#d8576b\"],[0.6666666666666666,\"#ed7953\"],[0.7777777777777778,\"#fb9f3a\"],[0.8888888888888888,\"#fdca26\"],[1.0,\"#f0f921\"]],\"type\":\"histogram2d\"}],\"histogram2dcontour\":[{\"colorbar\":{\"outlinewidth\":0,\"ticks\":\"\"},\"colorscale\":[[0.0,\"#0d0887\"],[0.1111111111111111,\"#46039f\"],[0.2222222222222222,\"#7201a8\"],[0.3333333333333333,\"#9c179e\"],[0.4444444444444444,\"#bd3786\"],[0.5555555555555556,\"#d8576b\"],[0.6666666666666666,\"#ed7953\"],[0.7777777777777778,\"#fb9f3a\"],[0.8888888888888888,\"#fdca26\"],[1.0,\"#f0f921\"]],\"type\":\"histogram2dcontour\"}],\"mesh3d\":[{\"colorbar\":{\"outlinewidth\":0,\"ticks\":\"\"},\"type\":\"mesh3d\"}],\"parcoords\":[{\"line\":{\"colorbar\":{\"outlinewidth\":0,\"ticks\":\"\"}},\"type\":\"parcoords\"}],\"pie\":[{\"automargin\":true,\"type\":\"pie\"}],\"scatter\":[{\"marker\":{\"colorbar\":{\"outlinewidth\":0,\"ticks\":\"\"}},\"type\":\"scatter\"}],\"scatter3d\":[{\"line\":{\"colorbar\":{\"outlinewidth\":0,\"ticks\":\"\"}},\"marker\":{\"colorbar\":{\"outlinewidth\":0,\"ticks\":\"\"}},\"type\":\"scatter3d\"}],\"scattercarpet\":[{\"marker\":{\"colorbar\":{\"outlinewidth\":0,\"ticks\":\"\"}},\"type\":\"scattercarpet\"}],\"scattergeo\":[{\"marker\":{\"colorbar\":{\"outlinewidth\":0,\"ticks\":\"\"}},\"type\":\"scattergeo\"}],\"scattergl\":[{\"marker\":{\"colorbar\":{\"outlinewidth\":0,\"ticks\":\"\"}},\"type\":\"scattergl\"}],\"scattermapbox\":[{\"marker\":{\"colorbar\":{\"outlinewidth\":0,\"ticks\":\"\"}},\"type\":\"scattermapbox\"}],\"scatterpolar\":[{\"marker\":{\"colorbar\":{\"outlinewidth\":0,\"ticks\":\"\"}},\"type\":\"scatterpolar\"}],\"scatterpolargl\":[{\"marker\":{\"colorbar\":{\"outlinewidth\":0,\"ticks\":\"\"}},\"type\":\"scatterpolargl\"}],\"scatterternary\":[{\"marker\":{\"colorbar\":{\"outlinewidth\":0,\"ticks\":\"\"}},\"type\":\"scatterternary\"}],\"surface\":[{\"colorbar\":{\"outlinewidth\":0,\"ticks\":\"\"},\"colorscale\":[[0.0,\"#0d0887\"],[0.1111111111111111,\"#46039f\"],[0.2222222222222222,\"#7201a8\"],[0.3333333333333333,\"#9c179e\"],[0.4444444444444444,\"#bd3786\"],[0.5555555555555556,\"#d8576b\"],[0.6666666666666666,\"#ed7953\"],[0.7777777777777778,\"#fb9f3a\"],[0.8888888888888888,\"#fdca26\"],[1.0,\"#f0f921\"]],\"type\":\"surface\"}],\"table\":[{\"cells\":{\"fill\":{\"color\":\"#EBF0F8\"},\"line\":{\"color\":\"white\"}},\"header\":{\"fill\":{\"color\":\"#C8D4E3\"},\"line\":{\"color\":\"white\"}},\"type\":\"table\"}]},\"layout\":{\"annotationdefaults\":{\"arrowcolor\":\"#2a3f5f\",\"arrowhead\":0,\"arrowwidth\":1},\"autotypenumbers\":\"strict\",\"coloraxis\":{\"colorbar\":{\"outlinewidth\":0,\"ticks\":\"\"}},\"colorscale\":{\"diverging\":[[0,\"#8e0152\"],[0.1,\"#c51b7d\"],[0.2,\"#de77ae\"],[0.3,\"#f1b6da\"],[0.4,\"#fde0ef\"],[0.5,\"#f7f7f7\"],[0.6,\"#e6f5d0\"],[0.7,\"#b8e186\"],[0.8,\"#7fbc41\"],[0.9,\"#4d9221\"],[1,\"#276419\"]],\"sequential\":[[0.0,\"#0d0887\"],[0.1111111111111111,\"#46039f\"],[0.2222222222222222,\"#7201a8\"],[0.3333333333333333,\"#9c179e\"],[0.4444444444444444,\"#bd3786\"],[0.5555555555555556,\"#d8576b\"],[0.6666666666666666,\"#ed7953\"],[0.7777777777777778,\"#fb9f3a\"],[0.8888888888888888,\"#fdca26\"],[1.0,\"#f0f921\"]],\"sequentialminus\":[[0.0,\"#0d0887\"],[0.1111111111111111,\"#46039f\"],[0.2222222222222222,\"#7201a8\"],[0.3333333333333333,\"#9c179e\"],[0.4444444444444444,\"#bd3786\"],[0.5555555555555556,\"#d8576b\"],[0.6666666666666666,\"#ed7953\"],[0.7777777777777778,\"#fb9f3a\"],[0.8888888888888888,\"#fdca26\"],[1.0,\"#f0f921\"]]},\"colorway\":[\"#636efa\",\"#EF553B\",\"#00cc96\",\"#ab63fa\",\"#FFA15A\",\"#19d3f3\",\"#FF6692\",\"#B6E880\",\"#FF97FF\",\"#FECB52\"],\"font\":{\"color\":\"#2a3f5f\"},\"geo\":{\"bgcolor\":\"white\",\"lakecolor\":\"white\",\"landcolor\":\"#E5ECF6\",\"showlakes\":true,\"showland\":true,\"subunitcolor\":\"white\"},\"hoverlabel\":{\"align\":\"left\"},\"hovermode\":\"closest\",\"mapbox\":{\"style\":\"light\"},\"paper_bgcolor\":\"white\",\"plot_bgcolor\":\"#E5ECF6\",\"polar\":{\"angularaxis\":{\"gridcolor\":\"white\",\"linecolor\":\"white\",\"ticks\":\"\"},\"bgcolor\":\"#E5ECF6\",\"radialaxis\":{\"gridcolor\":\"white\",\"linecolor\":\"white\",\"ticks\":\"\"}},\"scene\":{\"xaxis\":{\"backgroundcolor\":\"#E5ECF6\",\"gridcolor\":\"white\",\"gridwidth\":2,\"linecolor\":\"white\",\"showbackground\":true,\"ticks\":\"\",\"zerolinecolor\":\"white\"},\"yaxis\":{\"backgroundcolor\":\"#E5ECF6\",\"gridcolor\":\"white\",\"gridwidth\":2,\"linecolor\":\"white\",\"showbackground\":true,\"ticks\":\"\",\"zerolinecolor\":\"white\"},\"zaxis\":{\"backgroundcolor\":\"#E5ECF6\",\"gridcolor\":\"white\",\"gridwidth\":2,\"linecolor\":\"white\",\"showbackground\":true,\"ticks\":\"\",\"zerolinecolor\":\"white\"}},\"shapedefaults\":{\"line\":{\"color\":\"#2a3f5f\"}},\"ternary\":{\"aaxis\":{\"gridcolor\":\"white\",\"linecolor\":\"white\",\"ticks\":\"\"},\"baxis\":{\"gridcolor\":\"white\",\"linecolor\":\"white\",\"ticks\":\"\"},\"bgcolor\":\"#E5ECF6\",\"caxis\":{\"gridcolor\":\"white\",\"linecolor\":\"white\",\"ticks\":\"\"}},\"title\":{\"x\":0.05},\"xaxis\":{\"automargin\":true,\"gridcolor\":\"white\",\"linecolor\":\"white\",\"ticks\":\"\",\"title\":{\"standoff\":15},\"zerolinecolor\":\"white\",\"zerolinewidth\":2},\"yaxis\":{\"automargin\":true,\"gridcolor\":\"white\",\"linecolor\":\"white\",\"ticks\":\"\",\"title\":{\"standoff\":15},\"zerolinecolor\":\"white\",\"zerolinewidth\":2}}},\"title\":{}},                        {\"responsive\": true}                    ).then(function(){\n",
       "                            \n",
       "var gd = document.getElementById('b39c5da6-ae55-4ada-bf50-becb531d03a3');\n",
       "var x = new MutationObserver(function (mutations, observer) {{\n",
       "        var display = window.getComputedStyle(gd).display;\n",
       "        if (!display || display === 'none') {{\n",
       "            console.log([gd, 'removed!']);\n",
       "            Plotly.purge(gd);\n",
       "            observer.disconnect();\n",
       "        }}\n",
       "}});\n",
       "\n",
       "// Listen for the removal of the full notebook cells\n",
       "var notebookContainer = gd.closest('#notebook-container');\n",
       "if (notebookContainer) {{\n",
       "    x.observe(notebookContainer, {childList: true});\n",
       "}}\n",
       "\n",
       "// Listen for the clearing of the current output cell\n",
       "var outputEl = gd.closest('.output');\n",
       "if (outputEl) {{\n",
       "    x.observe(outputEl, {childList: true});\n",
       "}}\n",
       "\n",
       "                        })                };                });            </script>        </div>"
      ]
     },
     "metadata": {},
     "output_type": "display_data"
    }
   ],
   "source": [
    "# z_data = masked_raster\n",
    "z_data = building_CHM_model.masked_raster_chm\n",
    "x, y = np.arange(z_data.shape[1]),np.arange(z_data.shape[0])\n",
    "fig = go.Figure(data=[go.Surface(z=z_data, x=x, y=y)])\n",
    "fig.update_layout(title=print(building_CHM_model.building), autosize=True)\n",
    "fig.show()"
   ]
  },
  {
   "cell_type": "code",
   "execution_count": 52,
   "id": "d20ac433",
   "metadata": {},
   "outputs": [
    {
     "ename": "ValueError",
     "evalue": "Failed to start Kaleido subprocess. Error stream:\n\n& was unexpected at this time.\r\n",
     "output_type": "error",
     "traceback": [
      "\u001b[1;31m---------------------------------------------------------------------------\u001b[0m",
      "\u001b[1;31mValueError\u001b[0m                                Traceback (most recent call last)",
      "\u001b[1;32m~\\AppData\\Local\\Temp/ipykernel_22340/3533744866.py\u001b[0m in \u001b[0;36m<module>\u001b[1;34m\u001b[0m\n\u001b[1;32m----> 1\u001b[1;33m \u001b[0mfig\u001b[0m\u001b[1;33m.\u001b[0m\u001b[0mwrite_image\u001b[0m\u001b[1;33m(\u001b[0m\u001b[1;34m'temp.svg'\u001b[0m\u001b[1;33m)\u001b[0m\u001b[1;33m\u001b[0m\u001b[1;33m\u001b[0m\u001b[0m\n\u001b[0m",
      "\u001b[1;32m~\\anaconda3\\envs\\houses_3d_py37\\lib\\site-packages\\plotly\\basedatatypes.py\u001b[0m in \u001b[0;36mwrite_image\u001b[1;34m(self, *args, **kwargs)\u001b[0m\n\u001b[0;32m   3819\u001b[0m         \u001b[1;32mimport\u001b[0m \u001b[0mplotly\u001b[0m\u001b[1;33m.\u001b[0m\u001b[0mio\u001b[0m \u001b[1;32mas\u001b[0m \u001b[0mpio\u001b[0m\u001b[1;33m\u001b[0m\u001b[1;33m\u001b[0m\u001b[0m\n\u001b[0;32m   3820\u001b[0m \u001b[1;33m\u001b[0m\u001b[0m\n\u001b[1;32m-> 3821\u001b[1;33m         \u001b[1;32mreturn\u001b[0m \u001b[0mpio\u001b[0m\u001b[1;33m.\u001b[0m\u001b[0mwrite_image\u001b[0m\u001b[1;33m(\u001b[0m\u001b[0mself\u001b[0m\u001b[1;33m,\u001b[0m \u001b[1;33m*\u001b[0m\u001b[0margs\u001b[0m\u001b[1;33m,\u001b[0m \u001b[1;33m**\u001b[0m\u001b[0mkwargs\u001b[0m\u001b[1;33m)\u001b[0m\u001b[1;33m\u001b[0m\u001b[1;33m\u001b[0m\u001b[0m\n\u001b[0m\u001b[0;32m   3822\u001b[0m \u001b[1;33m\u001b[0m\u001b[0m\n\u001b[0;32m   3823\u001b[0m     \u001b[1;31m# Static helpers\u001b[0m\u001b[1;33m\u001b[0m\u001b[1;33m\u001b[0m\u001b[1;33m\u001b[0m\u001b[0m\n",
      "\u001b[1;32m~\\anaconda3\\envs\\houses_3d_py37\\lib\\site-packages\\plotly\\io\\_kaleido.py\u001b[0m in \u001b[0;36mwrite_image\u001b[1;34m(fig, file, format, scale, width, height, validate, engine)\u001b[0m\n\u001b[0;32m    273\u001b[0m         \u001b[0mheight\u001b[0m\u001b[1;33m=\u001b[0m\u001b[0mheight\u001b[0m\u001b[1;33m,\u001b[0m\u001b[1;33m\u001b[0m\u001b[1;33m\u001b[0m\u001b[0m\n\u001b[0;32m    274\u001b[0m         \u001b[0mvalidate\u001b[0m\u001b[1;33m=\u001b[0m\u001b[0mvalidate\u001b[0m\u001b[1;33m,\u001b[0m\u001b[1;33m\u001b[0m\u001b[1;33m\u001b[0m\u001b[0m\n\u001b[1;32m--> 275\u001b[1;33m         \u001b[0mengine\u001b[0m\u001b[1;33m=\u001b[0m\u001b[0mengine\u001b[0m\u001b[1;33m,\u001b[0m\u001b[1;33m\u001b[0m\u001b[1;33m\u001b[0m\u001b[0m\n\u001b[0m\u001b[0;32m    276\u001b[0m     )\n\u001b[0;32m    277\u001b[0m \u001b[1;33m\u001b[0m\u001b[0m\n",
      "\u001b[1;32m~\\anaconda3\\envs\\houses_3d_py37\\lib\\site-packages\\plotly\\io\\_kaleido.py\u001b[0m in \u001b[0;36mto_image\u001b[1;34m(fig, format, width, height, scale, validate, engine)\u001b[0m\n\u001b[0;32m    144\u001b[0m     \u001b[0mfig_dict\u001b[0m \u001b[1;33m=\u001b[0m \u001b[0mvalidate_coerce_fig_to_dict\u001b[0m\u001b[1;33m(\u001b[0m\u001b[0mfig\u001b[0m\u001b[1;33m,\u001b[0m \u001b[0mvalidate\u001b[0m\u001b[1;33m)\u001b[0m\u001b[1;33m\u001b[0m\u001b[1;33m\u001b[0m\u001b[0m\n\u001b[0;32m    145\u001b[0m     img_bytes = scope.transform(\n\u001b[1;32m--> 146\u001b[1;33m         \u001b[0mfig_dict\u001b[0m\u001b[1;33m,\u001b[0m \u001b[0mformat\u001b[0m\u001b[1;33m=\u001b[0m\u001b[0mformat\u001b[0m\u001b[1;33m,\u001b[0m \u001b[0mwidth\u001b[0m\u001b[1;33m=\u001b[0m\u001b[0mwidth\u001b[0m\u001b[1;33m,\u001b[0m \u001b[0mheight\u001b[0m\u001b[1;33m=\u001b[0m\u001b[0mheight\u001b[0m\u001b[1;33m,\u001b[0m \u001b[0mscale\u001b[0m\u001b[1;33m=\u001b[0m\u001b[0mscale\u001b[0m\u001b[1;33m\u001b[0m\u001b[1;33m\u001b[0m\u001b[0m\n\u001b[0m\u001b[0;32m    147\u001b[0m     )\n\u001b[0;32m    148\u001b[0m \u001b[1;33m\u001b[0m\u001b[0m\n",
      "\u001b[1;32m~\\anaconda3\\envs\\houses_3d_py37\\lib\\site-packages\\kaleido\\scopes\\plotly.py\u001b[0m in \u001b[0;36mtransform\u001b[1;34m(self, figure, format, width, height, scale)\u001b[0m\n\u001b[0;32m    152\u001b[0m         \u001b[1;31m# response dict, including error codes.\u001b[0m\u001b[1;33m\u001b[0m\u001b[1;33m\u001b[0m\u001b[1;33m\u001b[0m\u001b[0m\n\u001b[0;32m    153\u001b[0m         response = self._perform_transform(\n\u001b[1;32m--> 154\u001b[1;33m             \u001b[0mfigure\u001b[0m\u001b[1;33m,\u001b[0m \u001b[0mformat\u001b[0m\u001b[1;33m=\u001b[0m\u001b[0mformat\u001b[0m\u001b[1;33m,\u001b[0m \u001b[0mwidth\u001b[0m\u001b[1;33m=\u001b[0m\u001b[0mwidth\u001b[0m\u001b[1;33m,\u001b[0m \u001b[0mheight\u001b[0m\u001b[1;33m=\u001b[0m\u001b[0mheight\u001b[0m\u001b[1;33m,\u001b[0m \u001b[0mscale\u001b[0m\u001b[1;33m=\u001b[0m\u001b[0mscale\u001b[0m\u001b[1;33m\u001b[0m\u001b[1;33m\u001b[0m\u001b[0m\n\u001b[0m\u001b[0;32m    155\u001b[0m         )\n\u001b[0;32m    156\u001b[0m \u001b[1;33m\u001b[0m\u001b[0m\n",
      "\u001b[1;32m~\\anaconda3\\envs\\houses_3d_py37\\lib\\site-packages\\kaleido\\scopes\\base.py\u001b[0m in \u001b[0;36m_perform_transform\u001b[1;34m(self, data, **kwargs)\u001b[0m\n\u001b[0;32m    291\u001b[0m         \"\"\"\n\u001b[0;32m    292\u001b[0m         \u001b[1;31m# Ensure that kaleido subprocess is running\u001b[0m\u001b[1;33m\u001b[0m\u001b[1;33m\u001b[0m\u001b[1;33m\u001b[0m\u001b[0m\n\u001b[1;32m--> 293\u001b[1;33m         \u001b[0mself\u001b[0m\u001b[1;33m.\u001b[0m\u001b[0m_ensure_kaleido\u001b[0m\u001b[1;33m(\u001b[0m\u001b[1;33m)\u001b[0m\u001b[1;33m\u001b[0m\u001b[1;33m\u001b[0m\u001b[0m\n\u001b[0m\u001b[0;32m    294\u001b[0m \u001b[1;33m\u001b[0m\u001b[0m\n\u001b[0;32m    295\u001b[0m         \u001b[1;31m# Perform export\u001b[0m\u001b[1;33m\u001b[0m\u001b[1;33m\u001b[0m\u001b[1;33m\u001b[0m\u001b[0m\n",
      "\u001b[1;32m~\\anaconda3\\envs\\houses_3d_py37\\lib\\site-packages\\kaleido\\scopes\\base.py\u001b[0m in \u001b[0;36m_ensure_kaleido\u001b[1;34m(self)\u001b[0m\n\u001b[0;32m    196\u001b[0m                             \u001b[0mself\u001b[0m\u001b[1;33m.\u001b[0m\u001b[0m_get_decoded_std_error\u001b[0m\u001b[1;33m(\u001b[0m\u001b[1;33m)\u001b[0m\u001b[1;33m\u001b[0m\u001b[1;33m\u001b[0m\u001b[0m\n\u001b[0;32m    197\u001b[0m                         )\n\u001b[1;32m--> 198\u001b[1;33m                         \u001b[1;32mraise\u001b[0m \u001b[0mValueError\u001b[0m\u001b[1;33m(\u001b[0m\u001b[0mmessage\u001b[0m\u001b[1;33m)\u001b[0m\u001b[1;33m\u001b[0m\u001b[1;33m\u001b[0m\u001b[0m\n\u001b[0m\u001b[0;32m    199\u001b[0m                     \u001b[1;32melse\u001b[0m\u001b[1;33m:\u001b[0m\u001b[1;33m\u001b[0m\u001b[1;33m\u001b[0m\u001b[0m\n\u001b[0;32m    200\u001b[0m                         \u001b[0mstartup_response\u001b[0m \u001b[1;33m=\u001b[0m \u001b[0mjson\u001b[0m\u001b[1;33m.\u001b[0m\u001b[0mloads\u001b[0m\u001b[1;33m(\u001b[0m\u001b[0mstartup_response_string\u001b[0m\u001b[1;33m)\u001b[0m\u001b[1;33m\u001b[0m\u001b[1;33m\u001b[0m\u001b[0m\n",
      "\u001b[1;31mValueError\u001b[0m: Failed to start Kaleido subprocess. Error stream:\n\n& was unexpected at this time.\r\n"
     ]
    }
   ],
   "source": [
    "fig.write_image('temp.svg')"
   ]
  }
 ],
 "metadata": {
  "kernelspec": {
   "display_name": "Python 3 (ipykernel)",
   "language": "python",
   "name": "python3"
  },
  "language_info": {
   "codemirror_mode": {
    "name": "ipython",
    "version": 3
   },
   "file_extension": ".py",
   "mimetype": "text/x-python",
   "name": "python",
   "nbconvert_exporter": "python",
   "pygments_lexer": "ipython3",
   "version": "3.7.11"
  }
 },
 "nbformat": 4,
 "nbformat_minor": 5
}
