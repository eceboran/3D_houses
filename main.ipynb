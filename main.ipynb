{
 "cells": [
  {
   "cell_type": "code",
   "execution_count": null,
   "id": "1bfc7a01",
   "metadata": {},
   "outputs": [],
   "source": [
    "# Import necessary libraries\n",
    "import os\n",
    "import timeit\n",
    "\n",
    "from utils.Address import Address\n",
    "from utils.Building import Building\n",
    "from utils.CHM import CHM"
   ]
  },
  {
   "cell_type": "code",
   "execution_count": null,
   "id": "ae490b49",
   "metadata": {},
   "outputs": [],
   "source": [
    "# File paths for metadata for DSM and DTM datasets\n",
    "# File paths for the raw and processed metadata csv files\n",
    "metadata_folder_path = os.path.join(os.getcwd(), 'data', 'metadata')\n",
    "   \n",
    "# Preprocessed and merge csv file path\n",
    "metadata_processed_merged_file_path = os.path.join(metadata_folder_path, \n",
    "                                                   'GeoTIFF_1m_metadata_processed.csv')"
   ]
  },
  {
   "cell_type": "code",
   "execution_count": null,
   "id": "4ef389dd",
   "metadata": {
    "scrolled": true
   },
   "outputs": [],
   "source": [
    "# Create the building instance from a valid address in Flanders\n",
    "while True:\n",
    "    # Get address as user input\n",
    "    input_address = input(\"Please enter a valid address in Flanders:\")\n",
    "    if input_address == 'quit':  # exit the loop to quit\n",
    "        break\n",
    "    # Attempt initializing the Building object \n",
    "    building_obj = Building(input_address)\n",
    "    \n",
    "    # Display suggestions if there are multiple matching addresses.\n",
    "    if len(building_obj.suggestions[\"SuggestionResult\"])==0:\n",
    "        print(\"Address is not valid. Please enter a valid address in Flanders.\")\n",
    "    elif len(building_obj.suggestions[\"SuggestionResult\"])>1:\n",
    "        print(\"Did you mean one of the following addresses?:\")\n",
    "        print(*building_obj.suggestions['SuggestionResult'], sep=\"\\n\")\n",
    "    \n",
    "    # Exit the loop if a valid address is given\n",
    "    if building_obj.valid_address_conditional == True:\n",
    "        print(\"Address found:\")\n",
    "        print(building_obj)\n",
    "        break"
   ]
  },
  {
   "cell_type": "code",
   "execution_count": null,
   "id": "0dd57142",
   "metadata": {},
   "outputs": [],
   "source": [
    "# Draw the building polygon\n",
    "building_obj.building_polygon"
   ]
  },
  {
   "cell_type": "code",
   "execution_count": null,
   "id": "ef49aea4",
   "metadata": {
    "scrolled": true
   },
   "outputs": [],
   "source": [
    "tStart = timeit.default_timer()\n",
    "building_CHM_model = CHM(building_obj, use_local_copy=False)\n",
    "tStop = timeit.default_timer()\n",
    "print(f\"Total execution time: {tStop-tStart:.1f} s\")"
   ]
  },
  {
   "cell_type": "code",
   "execution_count": null,
   "id": "68bb7b11",
   "metadata": {
    "scrolled": true
   },
   "outputs": [],
   "source": [
    "fig = building_CHM_model.plot_CHM_3d()"
   ]
  }
 ],
 "metadata": {
  "kernelspec": {
   "display_name": "Python 3",
   "language": "python",
   "name": "python3"
  },
  "language_info": {
   "codemirror_mode": {
    "name": "ipython",
    "version": 3
   },
   "file_extension": ".py",
   "mimetype": "text/x-python",
   "name": "python",
   "nbconvert_exporter": "python",
   "pygments_lexer": "ipython3",
   "version": "3.8.8"
  }
 },
 "nbformat": 4,
 "nbformat_minor": 5
}
