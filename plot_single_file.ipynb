{
 "cells": [
  {
   "cell_type": "markdown",
   "id": "9bc647eb",
   "metadata": {},
   "source": [
    "## 3D Houses - Plot a single shape file"
   ]
  },
  {
   "cell_type": "markdown",
   "id": "3cb9457e",
   "metadata": {},
   "source": [
    "Import the necessary libraries"
   ]
  },
  {
   "cell_type": "code",
   "execution_count": 1,
   "id": "acd0993d",
   "metadata": {},
   "outputs": [
    {
     "name": "stdout",
     "output_type": "stream",
     "text": [
      "# packages in environment at C:\\Users\\ecebo\\anaconda3\\envs\\houses_3d:\n",
      "#\n",
      "# Name                    Version                   Build  Channel\n",
      "affine                    2.3.0              pyhd3eb1b0_0  \n",
      "anyio                     2.2.0            py37haa95532_2  \n",
      "argcomplete               1.12.3             pyhd3eb1b0_0  \n",
      "argon2-cffi               20.1.0           py37h2bbff1b_1  \n",
      "async_generator           1.10             py37h28b3542_0  \n",
      "attrs                     21.2.0             pyhd3eb1b0_0  \n",
      "aws-c-common              0.4.57               ha925a31_1  \n",
      "aws-c-event-stream        0.1.6                hd77b12b_5  \n",
      "aws-checksums             0.1.9                ha925a31_0  \n",
      "aws-sdk-cpp               1.8.185              hd77b12b_0  \n",
      "babel                     2.9.1              pyhd3eb1b0_0  \n",
      "backcall                  0.2.0              pyhd3eb1b0_0  \n",
      "blas                      1.0                         mkl  \n",
      "bleach                    4.0.0              pyhd3eb1b0_0  \n",
      "bottleneck                1.3.2            py37h2a96729_1  \n",
      "brotli                    1.0.9                ha925a31_2  \n",
      "brotlipy                  0.7.0           py37h2bbff1b_1003  \n",
      "bzip2                     1.0.8                he774522_0  \n",
      "ca-certificates           2021.9.30            haa95532_1  \n",
      "certifi                   2021.10.8        py37haa95532_0  \n",
      "cffi                      1.14.6           py37h2bbff1b_0  \n",
      "cfitsio                   3.470                he774522_6  \n",
      "charset-normalizer        2.0.4              pyhd3eb1b0_0  \n",
      "click                     7.1.2              pyhd3eb1b0_0  \n",
      "click-plugins             1.1.1              pyhd3eb1b0_0  \n",
      "cligj                     0.7.2            py37haa95532_0  \n",
      "colorama                  0.4.4              pyhd3eb1b0_0  \n",
      "cryptography              3.4.8            py37h71e12ea_0  \n",
      "curl                      7.78.0               h86230a5_0  \n",
      "cycler                    0.10.0                   py37_0  \n",
      "debugpy                   1.4.1            py37hd77b12b_0  \n",
      "decorator                 5.1.0              pyhd3eb1b0_0  \n",
      "defusedxml                0.7.1              pyhd3eb1b0_0  \n",
      "entrypoints               0.3                      py37_0  \n",
      "expat                     2.4.1                h6c2663c_2  \n",
      "fiona                     1.8.13.post1     py37h758c064_0  \n",
      "fonttools                 4.25.0             pyhd3eb1b0_0  \n",
      "freetype                  2.10.4               hd328e21_0  \n",
      "freexl                    1.0.6                h2bbff1b_0  \n",
      "gdal                      3.0.2            py37hb978731_1  \n",
      "geopandas                 0.9.0                      py_1  \n",
      "geopandas-base            0.9.0                      py_1  \n",
      "geos                      3.8.0                h33f27b4_0  \n",
      "geotiff                   1.6.0                h5770a2b_0  \n",
      "hdf4                      4.2.13               h712560f_2  \n",
      "hdf5                      1.10.6               h7ebc959_0  \n",
      "icc_rt                    2019.0.0             h0cc432a_1  \n",
      "idna                      3.2                pyhd3eb1b0_0  \n",
      "importlib-metadata        4.8.1            py37haa95532_0  \n",
      "importlib_metadata        4.8.1                hd3eb1b0_0  \n",
      "intel-openmp              2021.3.0          haa95532_3372  \n",
      "ipykernel                 6.4.1            py37haa95532_1  \n",
      "ipython                   7.27.0           py37hd4e2768_0  \n",
      "ipython_genutils          0.2.0              pyhd3eb1b0_1  \n",
      "jedi                      0.18.0           py37haa95532_1  \n",
      "jinja2                    3.0.1              pyhd3eb1b0_0  \n",
      "joblib                    1.0.1              pyhd3eb1b0_0  \n",
      "jpeg                      9d                   h2bbff1b_0  \n",
      "json5                     0.9.6              pyhd3eb1b0_0  \n",
      "jsonschema                3.2.0              pyhd3eb1b0_2  \n",
      "jupyter_client            7.0.1              pyhd3eb1b0_0  \n",
      "jupyter_core              4.8.1            py37haa95532_0  \n",
      "jupyter_server            1.4.1            py37haa95532_0  \n",
      "jupyterlab                3.1.7              pyhd3eb1b0_0  \n",
      "jupyterlab_pygments       0.1.2                      py_0  \n",
      "jupyterlab_server         2.8.2              pyhd3eb1b0_0  \n",
      "kealib                    1.4.14               hde4a422_0  \n",
      "kiwisolver                1.3.1            py37hd77b12b_0  \n",
      "krb5                      1.19.2               h5b6d351_0  \n",
      "libcurl                   7.78.0               h86230a5_0  \n",
      "libgdal                   3.0.2                ha1b3edf_1  \n",
      "libiconv                  1.15                 h1df5818_7  \n",
      "libnetcdf                 4.6.1                hf59b723_4  \n",
      "libpng                    1.6.37               h2a8f88b_0  \n",
      "libpq                     12.2                 hb652d5d_1  \n",
      "libspatialindex           1.9.3                h6c2663c_0  \n",
      "libspatialite             4.3.0a               h7ffb84d_0  \n",
      "libssh2                   1.9.0                h7a1dbc1_1  \n",
      "libtiff                   4.2.0                hd0e1b90_0  \n",
      "libwebp                   1.2.0                h2bbff1b_0  \n",
      "libxml2                   2.9.12               h0ad7f3c_0  \n",
      "lz4-c                     1.9.3                h2bbff1b_1  \n",
      "m2w64-expat               2.1.1                         2  \n",
      "m2w64-gcc-libgfortran     5.3.0                         6  \n",
      "m2w64-gcc-libs            5.3.0                         7  \n",
      "m2w64-gcc-libs-core       5.3.0                         7  \n",
      "m2w64-gettext             0.19.7                        2  \n",
      "m2w64-gmp                 6.1.0                         2  \n",
      "m2w64-libiconv            1.14                          6  \n",
      "m2w64-libwinpthread-git   5.0.0.4634.697f757               2  \n",
      "m2w64-xz                  5.2.2                         2  \n",
      "mapclassify               2.4.3              pyhd3eb1b0_0  \n",
      "markupsafe                2.0.1            py37h2bbff1b_0  \n",
      "matplotlib-base           3.4.3            py37h49ac443_0  \n",
      "matplotlib-inline         0.1.2              pyhd3eb1b0_2  \n",
      "mistune                   0.8.4           py37hfa6e2cd_1001  \n",
      "mkl                       2021.3.0           haa95532_524  \n",
      "mkl-service               2.4.0            py37h2bbff1b_0  \n",
      "mkl_fft                   1.3.1            py37h277e83a_0  \n",
      "mkl_random                1.2.2            py37hf11a4ad_0  \n",
      "msys2-conda-epoch         20160418                      1  \n",
      "munch                     2.5.0              pyhd3eb1b0_0  \n",
      "munkres                   1.1.4                      py_0  \n",
      "nbclassic                 0.2.6              pyhd3eb1b0_0  \n",
      "nbclient                  0.5.3              pyhd3eb1b0_0  \n",
      "nbconvert                 6.1.0            py37haa95532_0  \n",
      "nbformat                  5.1.3              pyhd3eb1b0_0  \n",
      "nest-asyncio              1.5.1              pyhd3eb1b0_0  \n",
      "networkx                  2.6.3              pyhd3eb1b0_0  \n",
      "notebook                  6.4.3            py37haa95532_0  \n",
      "numexpr                   2.7.3            py37hb80d3ca_1  \n",
      "numpy                     1.21.2           py37hfca59bb_0  \n",
      "numpy-base                1.21.2           py37h0829f74_0  \n",
      "olefile                   0.46                     py37_0  \n",
      "openjpeg                  2.4.0                h4fc8c34_0  \n",
      "openssl                   1.1.1l               h2bbff1b_0  \n",
      "packaging                 21.0               pyhd3eb1b0_0  \n",
      "pandas                    1.3.3            py37h6214cd6_0  \n",
      "pandocfilters             1.4.3            py37haa95532_1  \n",
      "parso                     0.8.2              pyhd3eb1b0_0  \n",
      "pickleshare               0.7.5           pyhd3eb1b0_1003  \n",
      "pillow                    8.4.0            py37hd45dc43_0  \n",
      "\n",
      "Note: you may need to restart the kernel to use updated packages.pip                       21.3.1                   pypi_0    pypi\n",
      "postgresql                12.2                 hb652d5d_1  \n",
      "\n",
      "proj                      6.2.1                h9f7ef89_0  \n",
      "prometheus_client         0.11.0             pyhd3eb1b0_0  \n",
      "prompt-toolkit            3.0.20             pyhd3eb1b0_0  \n",
      "pycparser                 2.20                       py_2  \n",
      "pygments                  2.10.0             pyhd3eb1b0_0  \n",
      "pyopenssl                 20.0.1             pyhd3eb1b0_1  \n",
      "pyparsing                 2.4.7              pyhd3eb1b0_0  \n",
      "pyproj                    2.6.1.post1      py37h593ac45_1  \n",
      "pyrsistent                0.17.3           py37he774522_0  \n",
      "pysocks                   1.7.1                    py37_1  \n",
      "python                    3.7.11               h6244533_0  \n",
      "python-dateutil           2.8.2              pyhd3eb1b0_0  \n",
      "pytz                      2021.3             pyhd3eb1b0_0  \n",
      "pywin32                   228              py37hbaba5e8_1  \n",
      "pywinpty                  0.5.7                    py37_0  \n",
      "pyzmq                     22.2.1           py37hd77b12b_1  \n",
      "rasterio                  1.1.0            py37h039b02d_0  \n",
      "requests                  2.26.0             pyhd3eb1b0_0  \n",
      "rtree                     0.9.7            py37h2eaa2aa_1  \n",
      "scikit-learn              0.24.2           py37hf11a4ad_1  \n",
      "scipy                     1.7.1            py37hbe87c03_2  \n",
      "send2trash                1.8.0              pyhd3eb1b0_1  \n",
      "setuptools                58.0.4           py37haa95532_0  \n",
      "shapely                   1.7.1            py37h06580b3_0  \n",
      "six                       1.16.0             pyhd3eb1b0_0  \n",
      "sniffio                   1.2.0            py37haa95532_1  \n",
      "snuggs                    1.4.7              pyhd3eb1b0_0  \n",
      "sqlite                    3.36.0               h2bbff1b_0  \n",
      "terminado                 0.9.4            py37haa95532_0  \n",
      "testpath                  0.5.0              pyhd3eb1b0_0  \n",
      "threadpoolctl             2.2.0              pyh0d69192_0  \n",
      "tiledb                    2.2.9                hf7ce2e6_0  \n",
      "tk                        8.6.11               h2bbff1b_0  \n",
      "tornado                   6.1              py37h2bbff1b_0  \n",
      "traitlets                 5.1.0              pyhd3eb1b0_0  \n",
      "typing_extensions         3.10.0.2           pyh06a4308_0  \n",
      "urllib3                   1.26.7             pyhd3eb1b0_0  \n",
      "vc                        14.2                 h21ff451_1  \n",
      "vs2015_runtime            14.27.29016          h5e58377_2  \n",
      "wcwidth                   0.2.5              pyhd3eb1b0_0  \n",
      "webencodings              0.5.1                    py37_1  \n",
      "wheel                     0.37.0             pyhd3eb1b0_1  \n",
      "win_inet_pton             1.1.0            py37haa95532_0  \n",
      "wincertstore              0.2              py37haa95532_2  \n",
      "winpty                    0.4.3                         4  \n",
      "xerces-c                  3.2.3                ha925a31_0  \n",
      "xz                        5.2.5                h62dcd97_0  \n",
      "zipp                      3.6.0              pyhd3eb1b0_0  \n",
      "zlib                      1.2.11               h62dcd97_4  \n",
      "zstd                      1.4.9                h19a0ad4_0  \n"
     ]
    }
   ],
   "source": [
    "conda list\n"
   ]
  },
  {
   "cell_type": "code",
   "execution_count": 2,
   "id": "9a04ed17",
   "metadata": {},
   "outputs": [],
   "source": [
    "import os\n",
    "import sys"
   ]
  },
  {
   "cell_type": "code",
   "execution_count": 3,
   "id": "d9c561b2",
   "metadata": {},
   "outputs": [
    {
     "data": {
      "text/plain": [
       "'C:\\\\Users\\\\ecebo\\\\anaconda3\\\\envs\\\\houses_3d\\\\python.exe'"
      ]
     },
     "execution_count": 3,
     "metadata": {},
     "output_type": "execute_result"
    }
   ],
   "source": [
    "sys.executable"
   ]
  },
  {
   "cell_type": "code",
   "execution_count": 4,
   "id": "e73a3514",
   "metadata": {},
   "outputs": [
    {
     "ename": "ImportError",
     "evalue": "DLL load failed: Belirtilen modül bulunamadı.",
     "output_type": "error",
     "traceback": [
      "\u001b[1;31m---------------------------------------------------------------------------\u001b[0m",
      "\u001b[1;31mImportError\u001b[0m                               Traceback (most recent call last)",
      "\u001b[1;32m~\\AppData\\Local\\Temp/ipykernel_25500/1102285635.py\u001b[0m in \u001b[0;36m<module>\u001b[1;34m\u001b[0m\n\u001b[1;32m----> 1\u001b[1;33m \u001b[1;32mimport\u001b[0m \u001b[0mfiona\u001b[0m\u001b[1;33m\u001b[0m\u001b[1;33m\u001b[0m\u001b[0m\n\u001b[0m",
      "\u001b[1;32m~\\anaconda3\\envs\\houses_3d\\lib\\site-packages\\fiona\\__init__.py\u001b[0m in \u001b[0;36m<module>\u001b[1;34m\u001b[0m\n\u001b[0;32m     82\u001b[0m     \u001b[0mos\u001b[0m\u001b[1;33m.\u001b[0m\u001b[0menviron\u001b[0m\u001b[1;33m[\u001b[0m\u001b[1;34m\"PATH\"\u001b[0m\u001b[1;33m]\u001b[0m \u001b[1;33m=\u001b[0m \u001b[0mos\u001b[0m\u001b[1;33m.\u001b[0m\u001b[0menviron\u001b[0m\u001b[1;33m[\u001b[0m\u001b[1;34m\"PATH\"\u001b[0m\u001b[1;33m]\u001b[0m \u001b[1;33m+\u001b[0m \u001b[1;34m\";\"\u001b[0m \u001b[1;33m+\u001b[0m \u001b[0mlibdir\u001b[0m\u001b[1;33m\u001b[0m\u001b[1;33m\u001b[0m\u001b[0m\n\u001b[0;32m     83\u001b[0m \u001b[1;33m\u001b[0m\u001b[0m\n\u001b[1;32m---> 84\u001b[1;33m \u001b[1;32mfrom\u001b[0m \u001b[0mfiona\u001b[0m\u001b[1;33m.\u001b[0m\u001b[0mcollection\u001b[0m \u001b[1;32mimport\u001b[0m \u001b[0mBytesCollection\u001b[0m\u001b[1;33m,\u001b[0m \u001b[0mCollection\u001b[0m\u001b[1;33m\u001b[0m\u001b[1;33m\u001b[0m\u001b[0m\n\u001b[0m\u001b[0;32m     85\u001b[0m \u001b[1;32mfrom\u001b[0m \u001b[0mfiona\u001b[0m\u001b[1;33m.\u001b[0m\u001b[0mdrvsupport\u001b[0m \u001b[1;32mimport\u001b[0m \u001b[0msupported_drivers\u001b[0m\u001b[1;33m\u001b[0m\u001b[1;33m\u001b[0m\u001b[0m\n\u001b[0;32m     86\u001b[0m \u001b[1;32mfrom\u001b[0m \u001b[0mfiona\u001b[0m\u001b[1;33m.\u001b[0m\u001b[0menv\u001b[0m \u001b[1;32mimport\u001b[0m \u001b[0mensure_env_with_credentials\u001b[0m\u001b[1;33m,\u001b[0m \u001b[0mEnv\u001b[0m\u001b[1;33m\u001b[0m\u001b[1;33m\u001b[0m\u001b[0m\n",
      "\u001b[1;32m~\\anaconda3\\envs\\houses_3d\\lib\\site-packages\\fiona\\collection.py\u001b[0m in \u001b[0;36m<module>\u001b[1;34m\u001b[0m\n\u001b[0;32m      7\u001b[0m \u001b[1;33m\u001b[0m\u001b[0m\n\u001b[0;32m      8\u001b[0m \u001b[1;32mfrom\u001b[0m \u001b[0mfiona\u001b[0m \u001b[1;32mimport\u001b[0m \u001b[0mcompat\u001b[0m\u001b[1;33m,\u001b[0m \u001b[0mvfs\u001b[0m\u001b[1;33m\u001b[0m\u001b[1;33m\u001b[0m\u001b[0m\n\u001b[1;32m----> 9\u001b[1;33m \u001b[1;32mfrom\u001b[0m \u001b[0mfiona\u001b[0m\u001b[1;33m.\u001b[0m\u001b[0mogrext\u001b[0m \u001b[1;32mimport\u001b[0m \u001b[0mIterator\u001b[0m\u001b[1;33m,\u001b[0m \u001b[0mItemsIterator\u001b[0m\u001b[1;33m,\u001b[0m \u001b[0mKeysIterator\u001b[0m\u001b[1;33m\u001b[0m\u001b[1;33m\u001b[0m\u001b[0m\n\u001b[0m\u001b[0;32m     10\u001b[0m \u001b[1;32mfrom\u001b[0m \u001b[0mfiona\u001b[0m\u001b[1;33m.\u001b[0m\u001b[0mogrext\u001b[0m \u001b[1;32mimport\u001b[0m \u001b[0mSession\u001b[0m\u001b[1;33m,\u001b[0m \u001b[0mWritingSession\u001b[0m\u001b[1;33m\u001b[0m\u001b[1;33m\u001b[0m\u001b[0m\n\u001b[0;32m     11\u001b[0m \u001b[1;32mfrom\u001b[0m \u001b[0mfiona\u001b[0m\u001b[1;33m.\u001b[0m\u001b[0mogrext\u001b[0m \u001b[1;32mimport\u001b[0m \u001b[0mbuffer_to_virtual_file\u001b[0m\u001b[1;33m,\u001b[0m \u001b[0mremove_virtual_file\u001b[0m\u001b[1;33m,\u001b[0m \u001b[0mGEOMETRY_TYPES\u001b[0m\u001b[1;33m\u001b[0m\u001b[1;33m\u001b[0m\u001b[0m\n",
      "\u001b[1;31mImportError\u001b[0m: DLL load failed: Belirtilen modül bulunamadı."
     ]
    }
   ],
   "source": [
    "import fiona"
   ]
  },
  {
   "cell_type": "markdown",
   "id": "39c60769",
   "metadata": {},
   "source": [
    "Dataset path"
   ]
  },
  {
   "cell_type": "code",
   "execution_count": null,
   "id": "68139022",
   "metadata": {},
   "outputs": [],
   "source": [
    "data_main_folder_path = os.path.abspath(\"./data/\")\n",
    "\n",
    "selected_folder_name = 'DHMVIIDSMRAS1m_k01\\DHMVII_vdc_k01'\n",
    "data_selected_folder_path = os.path.join(data_main_folder_path,selected_folder_name)\n",
    "\n",
    "os.listdir(data_selected_folder_path)"
   ]
  },
  {
   "cell_type": "code",
   "execution_count": null,
   "id": "11420fb0",
   "metadata": {},
   "outputs": [],
   "source": [
    "help(fiona)"
   ]
  },
  {
   "cell_type": "code",
   "execution_count": null,
   "id": "a0154dcf",
   "metadata": {},
   "outputs": [],
   "source": [
    "fiona.open(os.path.join(data_selected_folder_path,'DHMVII_vdc_k01.shp'))"
   ]
  },
  {
   "cell_type": "code",
   "execution_count": null,
   "id": "a0a0c6d7",
   "metadata": {},
   "outputs": [],
   "source": []
  },
  {
   "cell_type": "code",
   "execution_count": null,
   "id": "b8451b77",
   "metadata": {},
   "outputs": [],
   "source": []
  }
 ],
 "metadata": {
  "kernelspec": {
   "display_name": "Python (houses_3d)",
   "language": "python",
   "name": "houses_3d"
  },
  "language_info": {
   "codemirror_mode": {
    "name": "ipython",
    "version": 3
   },
   "file_extension": ".py",
   "mimetype": "text/x-python",
   "name": "python",
   "nbconvert_exporter": "python",
   "pygments_lexer": "ipython3",
   "version": "3.7.11"
  }
 },
 "nbformat": 4,
 "nbformat_minor": 5
}
