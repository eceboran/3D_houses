{
 "cells": [
  {
   "cell_type": "code",
   "execution_count": 52,
   "id": "6296d291",
   "metadata": {},
   "outputs": [],
   "source": [
    "import requests\n",
    "import shapely.geometry as geom\n"
   ]
  },
  {
   "cell_type": "code",
   "execution_count": 89,
   "id": "3ddd25ee",
   "metadata": {},
   "outputs": [
    {
     "name": "stdout",
     "output_type": "stream",
     "text": [
      "{'SuggestionResult': ['Hofstraat 37, 2910 Essen']}\n"
     ]
    }
   ],
   "source": [
    "url = \"http://loc.geopunt.be/geolocation/suggestion?q=Trambergstraat 10\"\n",
    "url = \"https://loc.geopunt.be/v4/suggestion?q=Trambergstraat 10\"\n",
    "url = \"https://loc.geopunt.be/v4/suggestion?q=Sint-Antoniusplein 19, 2910 Essen\"\n",
    "url = \"https://loc.geopunt.be/v4/suggestion?q=Hofstraat 37, 2910 Essen\"\n",
    "response = requests.get(url)\n",
    "\n",
    "# Here the response format is a json file, it is used as a dictionary\n",
    "print(response.json())"
   ]
  },
  {
   "cell_type": "code",
   "execution_count": 74,
   "id": "ff79b2c4",
   "metadata": {},
   "outputs": [
    {
     "name": "stdout",
     "output_type": "stream",
     "text": [
      "{'LocationResult': [{'Municipality': 'Essen', 'Zipcode': '2910', 'Thoroughfarename': 'Sint-Antoniusplein', 'Housenumber': '19', 'ID': 1530410, 'FormattedAddress': 'Sint-Antoniusplein 19, 2910 Essen', 'Location': {'Lat_WGS84': 51.46162820790422, 'Lon_WGS84': 4.454437781233087, 'X_Lambert72': 155954.89, 'Y_Lambert72': 239115.28}, 'LocationType': 'crab_huisnummer_afgeleidVanGebouw', 'BoundingBox': {'LowerLeft': {'Lat_WGS84': 51.46162820790422, 'Lon_WGS84': 4.454437781233087, 'X_Lambert72': 155954.89, 'Y_Lambert72': 239115.28}, 'UpperRight': {'Lat_WGS84': 51.46162820790422, 'Lon_WGS84': 4.454437781233087, 'X_Lambert72': 155954.89, 'Y_Lambert72': 239115.28}}}]}\n"
     ]
    }
   ],
   "source": [
    "# url = \"http://loc.geopunt.be/geolocation/suggestion?q=Kouter 26\"\n",
    "# url = \"http://loc.geopunt.be/geolocation/v4/suggestion?q=Kouter 26, 9000 Gent\"\n",
    "# # url = \"http://loc.geopunt.be/geolocation/v4/suggestion?trambergstraat%201\"\n",
    "address = \"Kouter 10, 9000 Gent\"\n",
    "address = \"Sint-Antoniusplein 19, 2910 Essen\"\n",
    "\n",
    "url = f\"https://loc.geopunt.be/v4/Location?q={address}\"\n",
    "\n",
    "\n",
    "response = requests.get(url)\n",
    "response = response.json()\n",
    "\n",
    "\n",
    "# Here the response format is a json file, it is used as a dictionary\n",
    "print(response)\n",
    "\n",
    "\n",
    "#GET v4/Suggestion?q={q}&c={c}\n",
    " "
   ]
  },
  {
   "cell_type": "code",
   "execution_count": 90,
   "id": "bc4fa406",
   "metadata": {
    "scrolled": true
   },
   "outputs": [],
   "source": [
    "address = \"Kouter 10, 9000 Gent\"\n",
    "address = \"Sint-Antoniusplein 19, 2910 Essen\"\n",
    "# address = \"Limburgstraat 14, 9000 Gent\"\n",
    "address = \"Hofstraat 37, 2910 Essen\"\n",
    "\n",
    "req = requests.get(f\"https://loc.geopunt.be/v4/Location?q={address}\").json()\n",
    "info = {'address' : address, \n",
    "        'x_value' : req['LocationResult'][0]['Location']['X_Lambert72'],\n",
    "        'y_value' : req['LocationResult'][0]['Location']['Y_Lambert72'],\n",
    "        'street' : req['LocationResult'][0]['Thoroughfarename'],\n",
    "        'house_number' : req['LocationResult'][0]['Housenumber'], \n",
    "        'postcode': req['LocationResult'][0]['Zipcode'], \n",
    "        'municipality' : req['LocationResult'][0]['Municipality']}\n",
    "    \n",
    "detail = requests.get(\"https://api.basisregisters.vlaanderen.be/v1/adresmatch\",\n",
    "                      params={\"postcode\": info['postcode'], \n",
    "                      \"straatnaam\": info['street'],\n",
    "                      \"huisnummer\": info['house_number']}).json()\n",
    "building = requests.get(detail['adresMatches'][0]['adresseerbareObjecten'][0]['detail']).json()\n",
    "build = requests.get(building['gebouw']['detail']).json()\n",
    "info['polygon'] = [build['geometriePolygoon']['polygon']]\n"
   ]
  },
  {
   "cell_type": "code",
   "execution_count": 95,
   "id": "6b11d443",
   "metadata": {},
   "outputs": [
    {
     "data": {
      "text/plain": [
       "{'LocationResult': [{'Municipality': 'Essen',\n",
       "   'Zipcode': '2910',\n",
       "   'Thoroughfarename': 'Hofstraat',\n",
       "   'Housenumber': '37',\n",
       "   'ID': 1184174,\n",
       "   'FormattedAddress': 'Hofstraat 37, 2910 Essen',\n",
       "   'Location': {'Lat_WGS84': 51.46405775720151,\n",
       "    'Lon_WGS84': 4.466173828750341,\n",
       "    'X_Lambert72': 156770.24,\n",
       "    'Y_Lambert72': 239386.62},\n",
       "   'LocationType': 'crab_huisnummer_afgeleidVanGebouw',\n",
       "   'BoundingBox': {'LowerLeft': {'Lat_WGS84': 51.46405775720151,\n",
       "     'Lon_WGS84': 4.466173828750341,\n",
       "     'X_Lambert72': 156770.24,\n",
       "     'Y_Lambert72': 239386.62},\n",
       "    'UpperRight': {'Lat_WGS84': 51.46405775720151,\n",
       "     'Lon_WGS84': 4.466173828750341,\n",
       "     'X_Lambert72': 156770.24,\n",
       "     'Y_Lambert72': 239386.62}}}]}"
      ]
     },
     "execution_count": 95,
     "metadata": {},
     "output_type": "execute_result"
    }
   ],
   "source": [
    "req"
   ]
  },
  {
   "cell_type": "code",
   "execution_count": 91,
   "id": "48aa6e5b",
   "metadata": {},
   "outputs": [
    {
     "data": {
      "text/plain": [
       "{'address': 'Hofstraat 37, 2910 Essen',\n",
       " 'x_value': 156770.24,\n",
       " 'y_value': 239386.62,\n",
       " 'street': 'Hofstraat',\n",
       " 'house_number': '37',\n",
       " 'postcode': '2910',\n",
       " 'municipality': 'Essen',\n",
       " 'polygon': [{'coordinates': [[[156756.23355191946, 239387.70288807154],\n",
       "     [156761.3869599253, 239376.37066406384],\n",
       "     [156767.87143993378, 239379.28983206674],\n",
       "     [156768.62420792878, 239377.63709606603],\n",
       "     [156770.79508793354, 239376.7989520654],\n",
       "     [156773.09806393832, 239377.96093606576],\n",
       "     [156773.7593119368, 239379.8987280652],\n",
       "     [156772.9146399349, 239381.6417040676],\n",
       "     [156783.99508794397, 239386.78576807305],\n",
       "     [156778.73275193572, 239398.19453607872],\n",
       "     [156771.1684639305, 239394.66288807616],\n",
       "     [156771.95361593366, 239393.34615207464],\n",
       "     [156764.3418399319, 239389.92445607483],\n",
       "     [156763.67150393128, 239391.2441360727],\n",
       "     [156756.23355191946, 239387.70288807154]]],\n",
       "   'type': 'Polygon'}]}"
      ]
     },
     "execution_count": 91,
     "metadata": {},
     "output_type": "execute_result"
    }
   ],
   "source": [
    "info"
   ]
  },
  {
   "cell_type": "code",
   "execution_count": 92,
   "id": "69e606ff",
   "metadata": {},
   "outputs": [
    {
     "data": {
      "text/plain": [
       "[[156756.23355191946, 239387.70288807154],\n",
       " [156761.3869599253, 239376.37066406384],\n",
       " [156767.87143993378, 239379.28983206674],\n",
       " [156768.62420792878, 239377.63709606603],\n",
       " [156770.79508793354, 239376.7989520654],\n",
       " [156773.09806393832, 239377.96093606576],\n",
       " [156773.7593119368, 239379.8987280652],\n",
       " [156772.9146399349, 239381.6417040676],\n",
       " [156783.99508794397, 239386.78576807305],\n",
       " [156778.73275193572, 239398.19453607872],\n",
       " [156771.1684639305, 239394.66288807616],\n",
       " [156771.95361593366, 239393.34615207464],\n",
       " [156764.3418399319, 239389.92445607483],\n",
       " [156763.67150393128, 239391.2441360727],\n",
       " [156756.23355191946, 239387.70288807154]]"
      ]
     },
     "execution_count": 92,
     "metadata": {},
     "output_type": "execute_result"
    }
   ],
   "source": [
    "# Plot polygon\n",
    "poly_building = info['polygon'][0]['coordinates'][0]\n",
    "poly_building"
   ]
  },
  {
   "cell_type": "code",
   "execution_count": 93,
   "id": "695aa1a2",
   "metadata": {},
   "outputs": [
    {
     "data": {
      "image/svg+xml": [
       "<svg xmlns=\"http://www.w3.org/2000/svg\" xmlns:xlink=\"http://www.w3.org/1999/xlink\" width=\"100.0\" height=\"100.0\" viewBox=\"156755.12309047848 239375.26020262286 29.982458906481043 24.044794896850362\" preserveAspectRatio=\"xMinYMin meet\"><g transform=\"matrix(1,0,0,-1,0,478774.56520014256)\"><path fill-rule=\"evenodd\" fill=\"#66cc99\" stroke=\"#555555\" stroke-width=\"0.5996491781296208\" opacity=\"0.6\" d=\"M 156756.23355191946,239387.70288807154 L 156761.3869599253,239376.37066406384 L 156767.87143993378,239379.28983206674 L 156768.62420792878,239377.63709606603 L 156770.79508793354,239376.7989520654 L 156773.09806393832,239377.96093606576 L 156773.7593119368,239379.8987280652 L 156772.9146399349,239381.6417040676 L 156783.99508794397,239386.78576807305 L 156778.73275193572,239398.19453607872 L 156771.1684639305,239394.66288807616 L 156771.95361593366,239393.34615207464 L 156764.3418399319,239389.92445607483 L 156763.67150393128,239391.2441360727 L 156756.23355191946,239387.70288807154 z\" /></g></svg>"
      ],
      "text/plain": [
       "<shapely.geometry.polygon.Polygon at 0x21baac87548>"
      ]
     },
     "execution_count": 93,
     "metadata": {},
     "output_type": "execute_result"
    }
   ],
   "source": [
    "geom.Polygon(poly_building)"
   ]
  },
  {
   "cell_type": "code",
   "execution_count": null,
   "id": "834addaf",
   "metadata": {},
   "outputs": [],
   "source": []
  },
  {
   "cell_type": "code",
   "execution_count": null,
   "id": "801c61a3",
   "metadata": {},
   "outputs": [],
   "source": []
  },
  {
   "cell_type": "code",
   "execution_count": null,
   "id": "54a1594b",
   "metadata": {},
   "outputs": [],
   "source": []
  }
 ],
 "metadata": {
  "kernelspec": {
   "display_name": "Python 3 (ipykernel)",
   "language": "python",
   "name": "python3"
  },
  "language_info": {
   "codemirror_mode": {
    "name": "ipython",
    "version": 3
   },
   "file_extension": ".py",
   "mimetype": "text/x-python",
   "name": "python",
   "nbconvert_exporter": "python",
   "pygments_lexer": "ipython3",
   "version": "3.7.11"
  }
 },
 "nbformat": 4,
 "nbformat_minor": 5
}
