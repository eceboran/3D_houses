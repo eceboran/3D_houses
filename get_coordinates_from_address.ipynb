{
 "cells": [
  {
   "cell_type": "code",
   "execution_count": 2,
   "id": "6296d291",
   "metadata": {},
   "outputs": [],
   "source": [
    "import requests\n",
    "import shapely.geometry as geom\n"
   ]
  },
  {
   "cell_type": "code",
   "execution_count": 3,
   "id": "3ddd25ee",
   "metadata": {},
   "outputs": [
    {
     "name": "stdout",
     "output_type": "stream",
     "text": [
      "{'SuggestionResult': ['Hofstraat 37, 2910 Essen']}\n"
     ]
    }
   ],
   "source": [
    "url = \"http://loc.geopunt.be/geolocation/suggestion?q=Trambergstraat 10\"\n",
    "url = \"https://loc.geopunt.be/v4/suggestion?q=Trambergstraat 10\"\n",
    "url = \"https://loc.geopunt.be/v4/suggestion?q=Sint-Antoniusplein 19, 2910 Essen\"\n",
    "url = \"https://loc.geopunt.be/v4/suggestion?q=Hofstraat 37, 2910 Essen\"\n",
    "response = requests.get(url)\n",
    "\n",
    "# Here the response format is a json file, it is used as a dictionary\n",
    "print(response.json())"
   ]
  },
  {
   "cell_type": "code",
   "execution_count": 4,
   "id": "ff79b2c4",
   "metadata": {},
   "outputs": [
    {
     "name": "stdout",
     "output_type": "stream",
     "text": [
      "{'LocationResult': [{'Municipality': 'Essen', 'Zipcode': '2910', 'Thoroughfarename': 'Sint-Antoniusplein', 'Housenumber': '19', 'ID': 1530410, 'FormattedAddress': 'Sint-Antoniusplein 19, 2910 Essen', 'Location': {'Lat_WGS84': 51.46162820790422, 'Lon_WGS84': 4.454437781233087, 'X_Lambert72': 155954.89, 'Y_Lambert72': 239115.28}, 'LocationType': 'crab_huisnummer_afgeleidVanGebouw', 'BoundingBox': {'LowerLeft': {'Lat_WGS84': 51.46162820790422, 'Lon_WGS84': 4.454437781233087, 'X_Lambert72': 155954.89, 'Y_Lambert72': 239115.28}, 'UpperRight': {'Lat_WGS84': 51.46162820790422, 'Lon_WGS84': 4.454437781233087, 'X_Lambert72': 155954.89, 'Y_Lambert72': 239115.28}}}]}\n"
     ]
    }
   ],
   "source": [
    "# url = \"http://loc.geopunt.be/geolocation/suggestion?q=Kouter 26\"\n",
    "# url = \"http://loc.geopunt.be/geolocation/v4/suggestion?q=Kouter 26, 9000 Gent\"\n",
    "# # url = \"http://loc.geopunt.be/geolocation/v4/suggestion?trambergstraat%201\"\n",
    "address = \"Kouter 10, 9000 Gent\"\n",
    "address = \"Sint-Antoniusplein 19, 2910 Essen\"\n",
    "\n",
    "url = f\"https://loc.geopunt.be/v4/Location?q={address}\"\n",
    "\n",
    "\n",
    "response = requests.get(url)\n",
    "response = response.json()\n",
    "\n",
    "\n",
    "# Here the response format is a json file, it is used as a dictionary\n",
    "print(response)\n",
    "\n",
    "\n",
    "#GET v4/Suggestion?q={q}&c={c}\n",
    " "
   ]
  },
  {
   "cell_type": "code",
   "execution_count": 8,
   "id": "bc4fa406",
   "metadata": {
    "scrolled": true
   },
   "outputs": [],
   "source": [
    "address = \"Kouter 10, 9000 Gent\"\n",
    "address = \"Sint-Antoniusplein 19, 2910 Essen\"\n",
    "# address = \"Limburgstraat 14, 9000 Gent\"\n",
    "address = \"Hofstraat 37, 2910 Essen\"\n",
    "address = \"Elzendreef 14, 2910 Essen\"\n",
    "\n",
    "req = requests.get(f\"https://loc.geopunt.be/v4/Location?q={address}\").json()\n",
    "info = {'address' : address, \n",
    "        'x_value' : req['LocationResult'][0]['Location']['X_Lambert72'],\n",
    "        'y_value' : req['LocationResult'][0]['Location']['Y_Lambert72'],\n",
    "        'street' : req['LocationResult'][0]['Thoroughfarename'],\n",
    "        'house_number' : req['LocationResult'][0]['Housenumber'], \n",
    "        'postcode': req['LocationResult'][0]['Zipcode'], \n",
    "        'municipality' : req['LocationResult'][0]['Municipality']}\n",
    "    \n",
    "detail = requests.get(\"https://api.basisregisters.vlaanderen.be/v1/adresmatch\",\n",
    "                      params={\"postcode\": info['postcode'], \n",
    "                      \"straatnaam\": info['street'],\n",
    "                      \"huisnummer\": info['house_number']}).json()\n",
    "building = requests.get(detail['adresMatches'][0]['adresseerbareObjecten'][0]['detail']).json()\n",
    "build = requests.get(building['gebouw']['detail']).json()\n",
    "info['polygon'] = [build['geometriePolygoon']['polygon']]\n"
   ]
  },
  {
   "cell_type": "code",
   "execution_count": 9,
   "id": "db453b7b",
   "metadata": {},
   "outputs": [
    {
     "data": {
      "text/plain": [
       "{'LocationResult': [{'Municipality': 'Essen',\n",
       "   'Zipcode': '2910',\n",
       "   'Thoroughfarename': 'Elzendreef',\n",
       "   'Housenumber': '14',\n",
       "   'ID': 1219931,\n",
       "   'FormattedAddress': 'Elzendreef 14, 2910 Essen',\n",
       "   'Location': {'Lat_WGS84': 51.45553140760153,\n",
       "    'Lon_WGS84': 4.439196884648804,\n",
       "    'X_Lambert72': 154896.23,\n",
       "    'Y_Lambert72': 238435.79},\n",
       "   'LocationType': 'crab_huisnummer_afgeleidVanGebouw',\n",
       "   'BoundingBox': {'LowerLeft': {'Lat_WGS84': 51.45553140760153,\n",
       "     'Lon_WGS84': 4.439196884648804,\n",
       "     'X_Lambert72': 154896.23,\n",
       "     'Y_Lambert72': 238435.79},\n",
       "    'UpperRight': {'Lat_WGS84': 51.45553140760153,\n",
       "     'Lon_WGS84': 4.439196884648804,\n",
       "     'X_Lambert72': 154896.23,\n",
       "     'Y_Lambert72': 238435.79}}}]}"
      ]
     },
     "execution_count": 9,
     "metadata": {},
     "output_type": "execute_result"
    }
   ],
   "source": [
    "req"
   ]
  },
  {
   "cell_type": "code",
   "execution_count": 10,
   "id": "dcda8f3f",
   "metadata": {},
   "outputs": [
    {
     "data": {
      "text/plain": [
       "{'address': 'Elzendreef 14, 2910 Essen',\n",
       " 'x_value': 154896.23,\n",
       " 'y_value': 238435.79,\n",
       " 'street': 'Elzendreef',\n",
       " 'house_number': '14',\n",
       " 'postcode': '2910',\n",
       " 'municipality': 'Essen',\n",
       " 'polygon': [{'coordinates': [[[154903.46516664326, 238441.10026341677],\n",
       "     [154900.6807826385, 238447.15248742327],\n",
       "     [154894.67809463292, 238444.41315941885],\n",
       "     [154896.5193746388, 238440.5250314176],\n",
       "     [154891.68059063703, 238438.12477541715],\n",
       "     [154890.47316662967, 238440.83760741726],\n",
       "     [154883.6819986254, 238437.6483594142],\n",
       "     [154888.88417463005, 238426.53219940886],\n",
       "     [154899.87745463848, 238431.69239141047],\n",
       "     [154901.75675064325, 238427.712615408],\n",
       "     [154907.2643346414, 238430.41623140872],\n",
       "     [154904.82683064044, 238435.2454154119],\n",
       "     [154906.65595064312, 238436.14640741423],\n",
       "     [154904.11771064252, 238441.41667941958],\n",
       "     [154903.46516664326, 238441.10026341677]]],\n",
       "   'type': 'Polygon'}]}"
      ]
     },
     "execution_count": 10,
     "metadata": {},
     "output_type": "execute_result"
    }
   ],
   "source": [
    "info"
   ]
  },
  {
   "cell_type": "code",
   "execution_count": 92,
   "id": "69e606ff",
   "metadata": {},
   "outputs": [
    {
     "data": {
      "text/plain": [
       "[[156756.23355191946, 239387.70288807154],\n",
       " [156761.3869599253, 239376.37066406384],\n",
       " [156767.87143993378, 239379.28983206674],\n",
       " [156768.62420792878, 239377.63709606603],\n",
       " [156770.79508793354, 239376.7989520654],\n",
       " [156773.09806393832, 239377.96093606576],\n",
       " [156773.7593119368, 239379.8987280652],\n",
       " [156772.9146399349, 239381.6417040676],\n",
       " [156783.99508794397, 239386.78576807305],\n",
       " [156778.73275193572, 239398.19453607872],\n",
       " [156771.1684639305, 239394.66288807616],\n",
       " [156771.95361593366, 239393.34615207464],\n",
       " [156764.3418399319, 239389.92445607483],\n",
       " [156763.67150393128, 239391.2441360727],\n",
       " [156756.23355191946, 239387.70288807154]]"
      ]
     },
     "execution_count": 92,
     "metadata": {},
     "output_type": "execute_result"
    }
   ],
   "source": [
    "# Plot polygon\n",
    "poly_building = info['polygon'][0]['coordinates'][0]\n",
    "poly_building"
   ]
  },
  {
   "cell_type": "code",
   "execution_count": 93,
   "id": "695aa1a2",
   "metadata": {},
   "outputs": [
    {
     "data": {
      "image/svg+xml": [
       "<svg xmlns=\"http://www.w3.org/2000/svg\" xmlns:xlink=\"http://www.w3.org/1999/xlink\" width=\"100.0\" height=\"100.0\" viewBox=\"156755.12309047848 239375.26020262286 29.982458906481043 24.044794896850362\" preserveAspectRatio=\"xMinYMin meet\"><g transform=\"matrix(1,0,0,-1,0,478774.56520014256)\"><path fill-rule=\"evenodd\" fill=\"#66cc99\" stroke=\"#555555\" stroke-width=\"0.5996491781296208\" opacity=\"0.6\" d=\"M 156756.23355191946,239387.70288807154 L 156761.3869599253,239376.37066406384 L 156767.87143993378,239379.28983206674 L 156768.62420792878,239377.63709606603 L 156770.79508793354,239376.7989520654 L 156773.09806393832,239377.96093606576 L 156773.7593119368,239379.8987280652 L 156772.9146399349,239381.6417040676 L 156783.99508794397,239386.78576807305 L 156778.73275193572,239398.19453607872 L 156771.1684639305,239394.66288807616 L 156771.95361593366,239393.34615207464 L 156764.3418399319,239389.92445607483 L 156763.67150393128,239391.2441360727 L 156756.23355191946,239387.70288807154 z\" /></g></svg>"
      ],
      "text/plain": [
       "<shapely.geometry.polygon.Polygon at 0x21baac87548>"
      ]
     },
     "execution_count": 93,
     "metadata": {},
     "output_type": "execute_result"
    }
   ],
   "source": [
    "geom.Polygon(poly_building)"
   ]
  },
  {
   "cell_type": "code",
   "execution_count": null,
   "id": "834addaf",
   "metadata": {},
   "outputs": [],
   "source": []
  },
  {
   "cell_type": "code",
   "execution_count": null,
   "id": "aa178237",
   "metadata": {},
   "outputs": [],
   "source": []
  },
  {
   "cell_type": "code",
   "execution_count": null,
   "id": "9fd91fe8",
   "metadata": {},
   "outputs": [],
   "source": []
  }
 ],
 "metadata": {
  "kernelspec": {
   "display_name": "Python 3 (ipykernel)",
   "language": "python",
   "name": "python3"
  },
  "language_info": {
   "codemirror_mode": {
    "name": "ipython",
    "version": 3
   },
   "file_extension": ".py",
   "mimetype": "text/x-python",
   "name": "python",
   "nbconvert_exporter": "python",
   "pygments_lexer": "ipython3",
   "version": "3.7.11"
  }
 },
 "nbformat": 4,
 "nbformat_minor": 5
}
