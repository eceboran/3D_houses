{
 "cells": [
  {
   "cell_type": "code",
   "execution_count": 2,
   "id": "df3d0a5e",
   "metadata": {},
   "outputs": [],
   "source": [
    "import requests\n",
    "\n"
   ]
  },
  {
   "cell_type": "code",
   "execution_count": 62,
   "id": "208345b5",
   "metadata": {},
   "outputs": [
    {
     "name": "stdout",
     "output_type": "stream",
     "text": [
      "{'SuggestionResult': ['Trambergstraat 10, 3520 Zonhoven']}\n"
     ]
    }
   ],
   "source": [
    "url = \"http://loc.geopunt.be/geolocation/suggestion?q=Trambergstraat 10\"\n",
    "url = \"https://loc.geopunt.be/v4/suggestion?q=Trambergstraat 10\"\n",
    "\n",
    "response = requests.get(url)\n",
    "\n",
    "# Here the response format is a json file, it is used as a dictionary\n",
    "print(response.json())"
   ]
  },
  {
   "cell_type": "code",
   "execution_count": 58,
   "id": "7b67cda7",
   "metadata": {},
   "outputs": [
    {
     "name": "stdout",
     "output_type": "stream",
     "text": [
      "{'LocationResult': [{'Municipality': 'Gent', 'Zipcode': '9000', 'Thoroughfarename': 'Kouter', 'Housenumber': '26', 'ID': 1446273, 'FormattedAddress': 'Kouter 26, 9000 Gent', 'Location': {'Lat_WGS84': 51.04979541416704, 'Lon_WGS84': 3.72352211058708, 'X_Lambert72': 104755.82, 'Y_Lambert72': 193488.89}, 'LocationType': 'crab_huisnummer_manueleAanduidingVanGebouw', 'BoundingBox': {'LowerLeft': {'Lat_WGS84': 51.04979541416704, 'Lon_WGS84': 3.72352211058708, 'X_Lambert72': 104755.82, 'Y_Lambert72': 193488.89}, 'UpperRight': {'Lat_WGS84': 51.04979541416704, 'Lon_WGS84': 3.72352211058708, 'X_Lambert72': 104755.82, 'Y_Lambert72': 193488.89}}}]}\n"
     ]
    }
   ],
   "source": [
    "# url = \"http://loc.geopunt.be/geolocation/suggestion?q=Kouter 76\"\n",
    "# url = \"http://loc.geopunt.be/geolocation/v4/suggestion?q=Kouter 76, 9000 Gent\"\n",
    "# # url = \"http://loc.geopunt.be/geolocation/v4/suggestion?trambergstraat%201\"\n",
    "address = \"Kouter 26, 9000 Gent\"\n",
    "url = f\"https://loc.geopunt.be/v4/Location?q={address}\"\n",
    "\n",
    "\n",
    "response = requests.get(url)\n",
    "response = response.json()\n",
    "\n",
    "\n",
    "# Here the response format is a json file, it is used as a dictionary\n",
    "print(response)\n",
    "\n",
    "\n",
    "#GET v4/Suggestion?q={q}&c={c}\n",
    " "
   ]
  },
  {
   "cell_type": "code",
   "execution_count": 54,
   "id": "00d5c1b3",
   "metadata": {},
   "outputs": [],
   "source": [
    "address = \"Kouter 26, \"\n",
    "req = requests.get(f\"https://loc.geopunt.be/v4/Location?q={address}\").json()\n",
    "info = {'address' : address, \n",
    "        'x_value' : req['LocationResult'][0]['Location']['X_Lambert72'],\n",
    "        'y_value' : req['LocationResult'][0]['Location']['Y_Lambert72'],\n",
    "        'street' : req['LocationResult'][0]['Thoroughfarename'],\n",
    "        'house_number' : req['LocationResult'][0]['Housenumber'], \n",
    "        'postcode': req['LocationResult'][0]['Zipcode'], \n",
    "        'municipality' : req['LocationResult'][0]['Municipality']}\n",
    "    \n",
    "detail = requests.get(\"https://api.basisregisters.vlaanderen.be/v1/adresmatch\",\n",
    "                      params={\"postcode\": info['postcode'], \n",
    "                      \"straatnaam\": info['street'],\n",
    "                      \"huisnummer\": info['house_number']}).json()\n",
    "building = requests.get(detail['adresMatches'][0]['adresseerbareObjecten'][0]['detail']).json()\n",
    "build = requests.get(building['gebouw']['detail']).json()\n",
    "info['polygon'] = [build['geometriePolygoon']['polygon']]\n",
    " "
   ]
  },
  {
   "cell_type": "code",
   "execution_count": 63,
   "id": "cd66bea2",
   "metadata": {},
   "outputs": [
    {
     "data": {
      "text/plain": [
       "[{'coordinates': [[[141062.3975730762, 156728.65195093676],\n",
       "    [141066.51872507483, 156733.40055894107],\n",
       "    [141065.84998907894, 156733.9887829423],\n",
       "    [141067.9846450761, 156736.4713429436],\n",
       "    [141062.25626107305, 156741.40363094583],\n",
       "    [141060.30918907374, 156738.97502294555],\n",
       "    [141058.22694907337, 156740.73687894642],\n",
       "    [141054.01030907035, 156735.92580694333],\n",
       "    [141061.5445170775, 156729.39172693714],\n",
       "    [141061.7623090744, 156729.202862937],\n",
       "    [141062.16192507744, 156728.85630293563],\n",
       "    [141062.3975730762, 156728.65195093676]]],\n",
       "  'type': 'Polygon'}]"
      ]
     },
     "execution_count": 63,
     "metadata": {},
     "output_type": "execute_result"
    }
   ],
   "source": [
    "info['polygon']"
   ]
  },
  {
   "cell_type": "code",
   "execution_count": 32,
   "id": "c6713666",
   "metadata": {},
   "outputs": [
    {
     "data": {
      "text/plain": [
       "{'LocationResult': [{'Municipality': 'Gent',\n",
       "   'Zipcode': '9000',\n",
       "   'Thoroughfarename': 'Kouter',\n",
       "   'Housenumber': '76',\n",
       "   'ID': 1914470,\n",
       "   'FormattedAddress': 'Kouter 76, 9000 Gent',\n",
       "   'Location': {'Lat_WGS84': 51.04973849178918,\n",
       "    'Lon_WGS84': 3.722845189385624,\n",
       "    'X_Lambert72': 104708.3,\n",
       "    'Y_Lambert72': 193482.97},\n",
       "   'LocationType': 'crab_huisnummer_manueleAanduidingVanGebouw',\n",
       "   'BoundingBox': {'LowerLeft': {'Lat_WGS84': 51.04973849178918,\n",
       "     'Lon_WGS84': 3.722845189385624,\n",
       "     'X_Lambert72': 104708.3,\n",
       "     'Y_Lambert72': 193482.97},\n",
       "    'UpperRight': {'Lat_WGS84': 51.04973849178918,\n",
       "     'Lon_WGS84': 3.722845189385624,\n",
       "     'X_Lambert72': 104708.3,\n",
       "     'Y_Lambert72': 193482.97}}}]}"
      ]
     },
     "execution_count": 32,
     "metadata": {},
     "output_type": "execute_result"
    }
   ],
   "source": [
    "response.json()"
   ]
  },
  {
   "cell_type": "code",
   "execution_count": 52,
   "id": "fa5543af",
   "metadata": {},
   "outputs": [
    {
     "ename": "TypeError",
     "evalue": "'Response' object is not subscriptable",
     "output_type": "error",
     "traceback": [
      "\u001b[1;31m---------------------------------------------------------------------------\u001b[0m",
      "\u001b[1;31mTypeError\u001b[0m                                 Traceback (most recent call last)",
      "\u001b[1;32m~\\AppData\\Local\\Temp/ipykernel_16848/2729126161.py\u001b[0m in \u001b[0;36m<module>\u001b[1;34m\u001b[0m\n\u001b[1;32m----> 1\u001b[1;33m \u001b[0mresponse\u001b[0m\u001b[1;33m[\u001b[0m\u001b[1;34m'LocationResults'\u001b[0m\u001b[1;33m]\u001b[0m\u001b[1;33m\u001b[0m\u001b[1;33m\u001b[0m\u001b[0m\n\u001b[0m",
      "\u001b[1;31mTypeError\u001b[0m: 'Response' object is not subscriptable"
     ]
    }
   ],
   "source": [
    "response['LocationResults']"
   ]
  }
 ],
 "metadata": {
  "kernelspec": {
   "display_name": "Python 3 (ipykernel)",
   "language": "python",
   "name": "python3"
  },
  "language_info": {
   "codemirror_mode": {
    "name": "ipython",
    "version": 3
   },
   "file_extension": ".py",
   "mimetype": "text/x-python",
   "name": "python",
   "nbconvert_exporter": "python",
   "pygments_lexer": "ipython3",
   "version": "3.7.11"
  }
 },
 "nbformat": 4,
 "nbformat_minor": 5
}
