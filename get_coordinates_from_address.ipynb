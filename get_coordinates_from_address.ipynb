{
 "cells": [
  {
   "cell_type": "code",
   "execution_count": 52,
   "id": "6296d291",
   "metadata": {},
   "outputs": [],
   "source": [
    "import requests\n",
    "import shapely.geometry as geom\n"
   ]
  },
  {
   "cell_type": "code",
   "execution_count": 39,
   "id": "3ddd25ee",
   "metadata": {},
   "outputs": [
    {
     "name": "stdout",
     "output_type": "stream",
     "text": [
      "{'SuggestionResult': ['Sint-Antoniusplein 19, 2910 Essen']}\n"
     ]
    }
   ],
   "source": [
    "url = \"http://loc.geopunt.be/geolocation/suggestion?q=Trambergstraat 10\"\n",
    "url = \"https://loc.geopunt.be/v4/suggestion?q=Trambergstraat 10\"\n",
    "url = \"https://loc.geopunt.be/v4/suggestion?q=Sint-Antoniusplein 19, 2910 Essen\"\n",
    "\n",
    "response = requests.get(url)\n",
    "\n",
    "# Here the response format is a json file, it is used as a dictionary\n",
    "print(response.json())"
   ]
  },
  {
   "cell_type": "code",
   "execution_count": 74,
   "id": "ff79b2c4",
   "metadata": {},
   "outputs": [
    {
     "name": "stdout",
     "output_type": "stream",
     "text": [
      "{'LocationResult': [{'Municipality': 'Essen', 'Zipcode': '2910', 'Thoroughfarename': 'Sint-Antoniusplein', 'Housenumber': '19', 'ID': 1530410, 'FormattedAddress': 'Sint-Antoniusplein 19, 2910 Essen', 'Location': {'Lat_WGS84': 51.46162820790422, 'Lon_WGS84': 4.454437781233087, 'X_Lambert72': 155954.89, 'Y_Lambert72': 239115.28}, 'LocationType': 'crab_huisnummer_afgeleidVanGebouw', 'BoundingBox': {'LowerLeft': {'Lat_WGS84': 51.46162820790422, 'Lon_WGS84': 4.454437781233087, 'X_Lambert72': 155954.89, 'Y_Lambert72': 239115.28}, 'UpperRight': {'Lat_WGS84': 51.46162820790422, 'Lon_WGS84': 4.454437781233087, 'X_Lambert72': 155954.89, 'Y_Lambert72': 239115.28}}}]}\n"
     ]
    }
   ],
   "source": [
    "# url = \"http://loc.geopunt.be/geolocation/suggestion?q=Kouter 26\"\n",
    "# url = \"http://loc.geopunt.be/geolocation/v4/suggestion?q=Kouter 26, 9000 Gent\"\n",
    "# # url = \"http://loc.geopunt.be/geolocation/v4/suggestion?trambergstraat%201\"\n",
    "address = \"Kouter 10, 9000 Gent\"\n",
    "address = \"Sint-Antoniusplein 19, 2910 Essen\"\n",
    "\n",
    "url = f\"https://loc.geopunt.be/v4/Location?q={address}\"\n",
    "\n",
    "\n",
    "response = requests.get(url)\n",
    "response = response.json()\n",
    "\n",
    "\n",
    "# Here the response format is a json file, it is used as a dictionary\n",
    "print(response)\n",
    "\n",
    "\n",
    "#GET v4/Suggestion?q={q}&c={c}\n",
    " "
   ]
  },
  {
   "cell_type": "code",
   "execution_count": 78,
   "id": "bc4fa406",
   "metadata": {
    "scrolled": true
   },
   "outputs": [
    {
     "name": "stdout",
     "output_type": "stream",
     "text": [
      "{'address': 'Sint-Antoniusplein 19, 2910 Essen', 'x_value': 155954.89, 'y_value': 239115.28, 'street': 'Sint-Antoniusplein', 'house_number': '19', 'postcode': '2910', 'municipality': 'Essen', 'polygon': [{'coordinates': [[[155964.90004737675, 239116.14077588543], [155962.14139137417, 239123.20522388816], [155955.17511937022, 239120.49066388607], [155956.10887937248, 239118.19888788462], [155951.22401537, 239116.56688788533], [155952.00340736657, 239114.54832788184], [155941.2950553596, 239110.34160787985], [155942.54151935875, 239107.34026387706], [155948.70471936464, 239109.76618387923], [155964.90004737675, 239116.14077588543]]], 'type': 'Polygon'}]}\n",
      "{'adresMatches': [{'identificator': {'id': 'https://data.vlaanderen.be/id/adres/1681303', 'naamruimte': 'https://data.vlaanderen.be/id/adres', 'objectId': '1681303', 'versieId': '2011-04-29T15:04:42+02:00'}, 'detail': 'https://api.basisregisters.vlaanderen.be/v1/adressen/1681303', 'gemeente': {'objectId': '11016', 'detail': 'https://api.basisregisters.vlaanderen.be/v1/gemeenten/11016', 'gemeentenaam': {'geografischeNaam': {'spelling': 'Essen', 'taal': 'nl'}}}, 'postinfo': {'objectId': '2910', 'detail': 'https://api.basisregisters.vlaanderen.be/v1/postinfo/2910'}, 'straatnaam': {'objectId': '4813', 'detail': 'https://api.basisregisters.vlaanderen.be/v1/straatnamen/4813', 'straatnaam': {'geografischeNaam': {'spelling': 'Sint-Antoniusplein', 'taal': 'nl'}}}, 'huisnummer': '19', 'volledigAdres': {'geografischeNaam': {'spelling': 'Sint-Antoniusplein 19, 2910 Essen', 'taal': 'nl'}}, 'adresPositie': {'point': {'coordinates': [155954.89, 239115.28], 'type': 'Point'}}, 'positieSpecificatie': 'gebouweenheid', 'positieGeometrieMethode': 'afgeleidVanObject', 'adresStatus': 'inGebruik', 'officieelToegekend': True, 'adresseerbareObjecten': [{'objectType': 'gebouweenheid', 'objectId': '9532152', 'detail': 'https://api.basisregisters.vlaanderen.be/v1/gebouweenheden/9532152'}, {'objectType': 'perceel', 'objectId': '11016E0738-00L004', 'detail': 'https://api.basisregisters.vlaanderen.be/v1/percelen/11016E0738-00L004'}], 'score': 100.0}, {'identificator': {'id': 'https://data.vlaanderen.be/id/adres/4742966', 'naamruimte': 'https://data.vlaanderen.be/id/adres', 'objectId': '4742966', 'versieId': '2011-04-29T15:34:02+02:00'}, 'detail': 'https://api.basisregisters.vlaanderen.be/v1/adressen/4742966', 'gemeente': {'objectId': '11016', 'detail': 'https://api.basisregisters.vlaanderen.be/v1/gemeenten/11016', 'gemeentenaam': {'geografischeNaam': {'spelling': 'Essen', 'taal': 'nl'}}}, 'postinfo': {'objectId': '2910', 'detail': 'https://api.basisregisters.vlaanderen.be/v1/postinfo/2910'}, 'straatnaam': {'objectId': '4813', 'detail': 'https://api.basisregisters.vlaanderen.be/v1/straatnamen/4813', 'straatnaam': {'geografischeNaam': {'spelling': 'Sint-Antoniusplein', 'taal': 'nl'}}}, 'huisnummer': '19', 'busnummer': '1', 'volledigAdres': {'geografischeNaam': {'spelling': 'Sint-Antoniusplein 19 bus 1, 2910 Essen', 'taal': 'nl'}}, 'adresPositie': {'point': {'coordinates': [155954.89, 239115.28], 'type': 'Point'}}, 'positieSpecificatie': 'gebouweenheid', 'positieGeometrieMethode': 'afgeleidVanObject', 'adresStatus': 'inGebruik', 'officieelToegekend': True, 'adresseerbareObjecten': [{'objectType': 'gebouweenheid', 'objectId': '9532153', 'detail': 'https://api.basisregisters.vlaanderen.be/v1/gebouweenheden/9532153'}, {'objectType': 'perceel', 'objectId': '11016E0738-00L004', 'detail': 'https://api.basisregisters.vlaanderen.be/v1/percelen/11016E0738-00L004'}], 'score': 90.59794372294373}], 'warnings': []}\n"
     ]
    }
   ],
   "source": [
    "address = \"Kouter 10, 9000 Gent\"\n",
    "address = \"Sint-Antoniusplein 19, 2910 Essen\"\n",
    "# address = \"Limburgstraat 14, 9000 Gent\"\n",
    "\n",
    "req = requests.get(f\"https://loc.geopunt.be/v4/Location?q={address}\").json()\n",
    "info = {'address' : address, \n",
    "        'x_value' : req['LocationResult'][0]['Location']['X_Lambert72'],\n",
    "        'y_value' : req['LocationResult'][0]['Location']['Y_Lambert72'],\n",
    "        'street' : req['LocationResult'][0]['Thoroughfarename'],\n",
    "        'house_number' : req['LocationResult'][0]['Housenumber'], \n",
    "        'postcode': req['LocationResult'][0]['Zipcode'], \n",
    "        'municipality' : req['LocationResult'][0]['Municipality']}\n",
    "    \n",
    "detail = requests.get(\"https://api.basisregisters.vlaanderen.be/v1/adresmatch\",\n",
    "                      params={\"postcode\": info['postcode'], \n",
    "                      \"straatnaam\": info['street'],\n",
    "                      \"huisnummer\": info['house_number']}).json()\n",
    "building = requests.get(detail['adresMatches'][0]['adresseerbareObjecten'][0]['detail']).json()\n",
    "build = requests.get(building['gebouw']['detail']).json()\n",
    "info['polygon'] = [build['geometriePolygoon']['polygon']]\n"
   ]
  },
  {
   "cell_type": "code",
   "execution_count": 81,
   "id": "30442764",
   "metadata": {},
   "outputs": [
    {
     "data": {
      "text/plain": [
       "{'address': 'Sint-Antoniusplein 19, 2910 Essen',\n",
       " 'x_value': 155954.89,\n",
       " 'y_value': 239115.28,\n",
       " 'street': 'Sint-Antoniusplein',\n",
       " 'house_number': '19',\n",
       " 'postcode': '2910',\n",
       " 'municipality': 'Essen',\n",
       " 'polygon': [{'coordinates': [[[155964.90004737675, 239116.14077588543],\n",
       "     [155962.14139137417, 239123.20522388816],\n",
       "     [155955.17511937022, 239120.49066388607],\n",
       "     [155956.10887937248, 239118.19888788462],\n",
       "     [155951.22401537, 239116.56688788533],\n",
       "     [155952.00340736657, 239114.54832788184],\n",
       "     [155941.2950553596, 239110.34160787985],\n",
       "     [155942.54151935875, 239107.34026387706],\n",
       "     [155948.70471936464, 239109.76618387923],\n",
       "     [155964.90004737675, 239116.14077588543]]],\n",
       "   'type': 'Polygon'}]}"
      ]
     },
     "execution_count": 81,
     "metadata": {},
     "output_type": "execute_result"
    }
   ],
   "source": [
    "info"
   ]
  },
  {
   "cell_type": "code",
   "execution_count": 79,
   "id": "69e606ff",
   "metadata": {},
   "outputs": [
    {
     "data": {
      "text/plain": [
       "[[155964.90004737675, 239116.14077588543],\n",
       " [155962.14139137417, 239123.20522388816],\n",
       " [155955.17511937022, 239120.49066388607],\n",
       " [155956.10887937248, 239118.19888788462],\n",
       " [155951.22401537, 239116.56688788533],\n",
       " [155952.00340736657, 239114.54832788184],\n",
       " [155941.2950553596, 239110.34160787985],\n",
       " [155942.54151935875, 239107.34026387706],\n",
       " [155948.70471936464, 239109.76618387923],\n",
       " [155964.90004737675, 239116.14077588543]]"
      ]
     },
     "execution_count": 79,
     "metadata": {},
     "output_type": "execute_result"
    }
   ],
   "source": [
    "# Plot polygon\n",
    "poly_building = info['polygon'][0]['coordinates'][0]\n",
    "poly_building"
   ]
  },
  {
   "cell_type": "code",
   "execution_count": 80,
   "id": "695aa1a2",
   "metadata": {},
   "outputs": [
    {
     "data": {
      "image/svg+xml": [
       "<svg xmlns=\"http://www.w3.org/2000/svg\" xmlns:xlink=\"http://www.w3.org/1999/xlink\" width=\"100.0\" height=\"100.0\" viewBox=\"155940.3508556789 239106.39606419636 25.49339137854986 17.753359372494742\" preserveAspectRatio=\"xMinYMin meet\"><g transform=\"matrix(1,0,0,-1,0,478230.5454877652)\"><path fill-rule=\"evenodd\" fill=\"#66cc99\" stroke=\"#555555\" stroke-width=\"0.5098678275709971\" opacity=\"0.6\" d=\"M 155964.90004737675,239116.14077588543 L 155962.14139137417,239123.20522388816 L 155955.17511937022,239120.49066388607 L 155956.10887937248,239118.19888788462 L 155951.22401537,239116.56688788533 L 155952.00340736657,239114.54832788184 L 155941.2950553596,239110.34160787985 L 155942.54151935875,239107.34026387706 L 155948.70471936464,239109.76618387923 L 155964.90004737675,239116.14077588543 z\" /></g></svg>"
      ],
      "text/plain": [
       "<shapely.geometry.polygon.Polygon at 0x21baac8a308>"
      ]
     },
     "execution_count": 80,
     "metadata": {},
     "output_type": "execute_result"
    }
   ],
   "source": [
    "geom.Polygon(poly_building)"
   ]
  },
  {
   "cell_type": "code",
   "execution_count": null,
   "id": "834addaf",
   "metadata": {},
   "outputs": [],
   "source": []
  },
  {
   "cell_type": "code",
   "execution_count": null,
   "id": "ce91233f",
   "metadata": {},
   "outputs": [],
   "source": []
  },
  {
   "cell_type": "code",
   "execution_count": null,
   "id": "2dc340ff",
   "metadata": {},
   "outputs": [],
   "source": []
  }
 ],
 "metadata": {
  "kernelspec": {
   "display_name": "Python 3 (ipykernel)",
   "language": "python",
   "name": "python3"
  },
  "language_info": {
   "codemirror_mode": {
    "name": "ipython",
    "version": 3
   },
   "file_extension": ".py",
   "mimetype": "text/x-python",
   "name": "python",
   "nbconvert_exporter": "python",
   "pygments_lexer": "ipython3",
   "version": "3.7.11"
  }
 },
 "nbformat": 4,
 "nbformat_minor": 5
}
